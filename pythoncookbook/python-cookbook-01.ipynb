{
 "cells": [
  {
   "cell_type": "code",
   "execution_count": 11,
   "id": "c63efcc7-e878-4573-a736-f5cf384cbf80",
   "metadata": {},
   "outputs": [
    {
     "name": "stdout",
     "output_type": "stream",
     "text": [
      "1 2 3\n",
      "zhang\n",
      "zhang 1\n",
      "[2, [1, 2, 3]]\n",
      "3 [4, 5]\n",
      "['l', 'l', 'o']\n"
     ]
    }
   ],
   "source": [
    "a = [1, 2, 3]\n",
    "b, c, d = a\n",
    "print(b, c, d)\n",
    "\n",
    "data = ['zhang', 1, 2, a]\n",
    "hui, e, f, la = data\n",
    "print(hui)\n",
    "\n",
    "a, _, _, e = data\n",
    "a, b, *c = data\n",
    "print(a, b)\n",
    "print(c)\n",
    "\n",
    "a, _, c, *d = (1, 2, 3, 4, 5)\n",
    "print(c, d)\n",
    "\n",
    "g = \"hello\"\n",
    "a, b, *c = g\n",
    "print(c)"
   ]
  },
  {
   "cell_type": "code",
   "execution_count": 15,
   "id": "bbb0a433-842e-4a90-8fcd-12333eeae66d",
   "metadata": {},
   "outputs": [
    {
     "name": "stdout",
     "output_type": "stream",
     "text": [
      "[2, 3, 4, 5]\n"
     ]
    }
   ],
   "source": [
    "def drop_first_last(grades):\n",
    "    _, *middle, _ = grades\n",
    "    return middle\n",
    "\n",
    "a = drop_first_last((1, 2, 3, 4, 5, 6))\n",
    "print(a)"
   ]
  },
  {
   "cell_type": "code",
   "execution_count": 17,
   "id": "a12bd2fe-2002-4699-a173-32edd9a730f5",
   "metadata": {},
   "outputs": [
    {
     "name": "stdout",
     "output_type": "stream",
     "text": [
      "2000\n",
      "2000\n"
     ]
    }
   ],
   "source": [
    "import sys\n",
    "print(sys.getrecursionlimit())  # 查看当前递归深度限制\n",
    "sys.setrecursionlimit(2000)  # 设置新的递归深度限制\n",
    "print(sys.getrecursionlimit())"
   ]
  },
  {
   "cell_type": "code",
   "execution_count": 19,
   "id": "c42b62af-5976-4df3-87c0-24765ef52a9d",
   "metadata": {},
   "outputs": [
    {
     "name": "stdout",
     "output_type": "stream",
     "text": [
      "55\n"
     ]
    }
   ],
   "source": [
    "# 学术上的好奇\n",
    "def mysum(items):\n",
    "    head, *tail = items\n",
    "    return head + sum(tail) if tail else head\n",
    "\n",
    "a = list(range(11))\n",
    "print(mysum(a))"
   ]
  },
  {
   "cell_type": "code",
   "execution_count": 7,
   "id": "b8d067a1-105e-40a9-b7d7-7bde41c95d97",
   "metadata": {},
   "outputs": [
    {
     "name": "stdout",
     "output_type": "stream",
     "text": [
      "current previous lines:\n",
      "--------------------\n",
      "current previous lines:\n",
      "python 3212313\n",
      "he zili\n",
      "qiu qiu\n",
      "zili\n",
      "hui hui\n",
      "--------------------\n",
      "current previous lines:\n",
      "he zili\n",
      "qiu qiu\n",
      "zili\n",
      "hui hui\n",
      "xiao qiu python\n",
      "--------------------\n",
      "current previous lines:\n",
      "qiu qiu\n",
      "zili\n",
      "hui hui\n",
      "xiao qiu python\n",
      "abdpython \n",
      "--------------------\n"
     ]
    }
   ],
   "source": [
    "# 1.3 保存最后 N 个元素\n",
    "from collections import deque\n",
    "\n",
    "def search(lines, pattern, history=5):\n",
    "    previous_lines = deque(maxlen=history)\n",
    "    for line in lines:\n",
    "        if pattern in line:\n",
    "            yield line, previous_lines\n",
    "        previous_lines.append(line)\n",
    "\n",
    "with open('somefile.txt') as f:\n",
    "    for line, prevlines in search(f, 'python', 5):\n",
    "        print(\"current previous lines:\")\n",
    "        for pline in prevlines:\n",
    "            print(pline, end='')\n",
    "        # print(line, end='\\n')\n",
    "        print('-' * 20)"
   ]
  },
  {
   "cell_type": "code",
   "execution_count": 13,
   "id": "d85016a2-2ea8-4936-9cbd-63ac0550dee0",
   "metadata": {},
   "outputs": [
    {
     "name": "stdout",
     "output_type": "stream",
     "text": [
      "deque([3, 'ok', (1,)], maxlen=3)\n",
      "deque(['ok', (1,), 44], maxlen=3)\n",
      "deque([55, 'ok', (1,)], maxlen=3)\n",
      "(1,)\n",
      "deque([55, 'ok'], maxlen=3)\n"
     ]
    }
   ],
   "source": [
    "from collections import deque\n",
    "\n",
    "q = deque(maxlen=3)\n",
    "q.append(3)\n",
    "q.append('ok')\n",
    "q.append((1,))\n",
    "print(q)\n",
    "q.append(44)\n",
    "print(q)\n",
    "q.appendleft(55)\n",
    "print(q)\n",
    "a = q.pop()\n",
    "print(a)\n",
    "print(q)"
   ]
  },
  {
   "cell_type": "code",
   "execution_count": 16,
   "id": "7fb07361-9ba1-4af5-87e3-00fa8722016b",
   "metadata": {},
   "outputs": [
    {
     "name": "stdout",
     "output_type": "stream",
     "text": [
      "n largest is [91, 75, 37, 31, 23], n smallest is [-5, 0, 1, 3, 5]\n"
     ]
    }
   ],
   "source": [
    "# 1.4 找到最大或者最小的 N 个元素\n",
    "import heapq\n",
    "\n",
    "a = [1, 23, 8, 91, 12, -5, 22, 31, 19, 75, 23, 37, 3, 0, 5]\n",
    "b = heapq.nlargest(5, a)\n",
    "c = heapq.nsmallest(5, a)\n",
    "print(f\"n largest is {b}, n smallest is {c}\")"
   ]
  },
  {
   "cell_type": "code",
   "execution_count": 3,
   "id": "630887d2-fb81-4e63-b558-c1d6676adbcd",
   "metadata": {},
   "outputs": [
    {
     "name": "stdout",
     "output_type": "stream",
     "text": [
      "cheap:\n",
      "name = Intel, price is 52.3\n",
      "name = Cisco, price is 58.7\n",
      "name = Tencent, price is 63.2\n",
      "name = Samsung, price is 76.8\n",
      "name = AMD, price is 111.8\n",
      "expensive:\n",
      "name = Amazon, price is 3245.6\n",
      "name = Google, price is 2583.7\n",
      "name = Tesla, price is 722.3\n",
      "name = Netflix, price is 532.4\n",
      "name = Facebook, price is 340.5\n"
     ]
    }
   ],
   "source": [
    "# with key\n",
    "import heapq\n",
    "\n",
    "portfolio = [{'name': 'IBM', 'shares': 100, 'price': 133.4},\n",
    "             {'name': 'Apple', 'shares': 50, 'price': 144.5},\n",
    "             {'name': 'Microsoft', 'shares': 75, 'price': 265.1},\n",
    "             {'name': 'Amazon', 'shares': 25, 'price': 3245.6},\n",
    "             {'name': 'Tesla', 'shares': 80, 'price': 722.3},\n",
    "             {'name': 'Google', 'shares': 60, 'price': 2583.7},\n",
    "             {'name': 'Facebook', 'shares': 40, 'price': 340.5},\n",
    "             {'name': 'Netflix', 'shares': 30, 'price': 532.4},\n",
    "             {'name': 'Alibaba', 'shares': 70, 'price': 212.5},\n",
    "             {'name': 'Tencent', 'shares': 90, 'price': 63.2},\n",
    "             {'name': 'Samsung', 'shares': 120, 'price': 76.8},\n",
    "             {'name': 'Nvidia', 'shares': 55, 'price': 188.9},\n",
    "             {'name': 'AMD', 'shares': 45, 'price': 111.8},\n",
    "             {'name': 'Intel', 'shares': 65, 'price': 52.3},\n",
    "             {'name': 'Cisco', 'shares': 35, 'price': 58.7}]\n",
    "cheap = heapq.nsmallest(5, portfolio, key=lambda x : x['price'])\n",
    "expensive = heapq.nlargest(5, portfolio, key=lambda x: x['price'])\n",
    "\n",
    "print(\"cheap:\")\n",
    "for i in cheap:\n",
    "    print(f\"name = {i['name']}, price is {i['price']}\")\n",
    "\n",
    "print(\"expensive:\")\n",
    "for i in expensive:\n",
    "    print(f\"name = {i['name']}, price is {i['price']}\")"
   ]
  },
  {
   "cell_type": "code",
   "execution_count": 6,
   "id": "1552c379-e811-415f-98e8-3cdaf121a05d",
   "metadata": {},
   "outputs": [
    {
     "name": "stdout",
     "output_type": "stream",
     "text": [
      "[-98, -87, -87, -4, -36, 29, -72, 42, -1, -19, -14, 29, 36, -55, -58, 77, 75, 28, 51, 100]\n",
      "-98\n",
      "-98\n",
      "-87\n",
      "-87\n",
      "-72\n",
      "-58\n",
      "-55\n",
      "-36\n",
      "-19\n",
      "-14\n",
      "-4\n",
      "-1\n",
      "28\n",
      "29\n",
      "29\n",
      "36\n",
      "42\n",
      "51\n",
      "75\n",
      "77\n",
      "100\n"
     ]
    }
   ],
   "source": [
    "import heapq\n",
    "\n",
    "a = [-19, 77, -55, 28, -87, 29, -72, -4, 51, -36, -14, 29, 36, -87, -58, 42, 75, -1, -98 ,100]\n",
    "b = list(a)\n",
    "heapq.heapify(b)\n",
    "print(b)\n",
    "\n",
    "# min\n",
    "print(b[0])\n",
    "\n",
    "# min -> max output\n",
    "for i in range(len(a)):\n",
    "    print(heapq.heappop(b))"
   ]
  },
  {
   "cell_type": "code",
   "execution_count": 12,
   "id": "228a0947-cadd-4041-be3b-3cf5e6ad4f0f",
   "metadata": {},
   "outputs": [
    {
     "name": "stdout",
     "output_type": "stream",
     "text": [
      "PriorityQueue: [(-5, 1, Item('bar')), (-1, 0, Item('foo')), (-4, 2, Item('spam')), (-1, 3, Item('grok'))], 4\n",
      "Item('bar')\n",
      "Item('spam')\n",
      "Item('foo')\n",
      "Item('grok')\n"
     ]
    }
   ],
   "source": [
    "# 1.5 实现优先级队列\n",
    "import heapq\n",
    "\n",
    "class PriorityQueue:\n",
    "    def __init__(self):\n",
    "        self._queue = []\n",
    "        self._index = 0\n",
    "\n",
    "    def push(self, item, priority):\n",
    "        heapq.heappush(self._queue, (-priority, self._index, item))\n",
    "        self._index += 1\n",
    "\n",
    "    def pop(self):\n",
    "        return heapq.heappop(self._queue)[-1]\n",
    "\n",
    "    def __repr__(self):\n",
    "        return f\"PriorityQueue: {self._queue}, {self._index}\"\n",
    "\n",
    "\n",
    "class Item:\n",
    "    def __init__(self, name):\n",
    "        self.name = name\n",
    "\n",
    "    def __repr__(self):\n",
    "        return f\"Item('{self.name}')\"\n",
    "\n",
    "q = PriorityQueue()\n",
    "q.push(Item('foo'), 1)\n",
    "q.push(Item('bar'), 5)\n",
    "q.push(Item('spam'), 4)\n",
    "q.push(Item('grok'), 1)\n",
    "print(q)\n",
    "print(q.pop())\n",
    "print(q.pop())\n",
    "print(q.pop())\n",
    "print(q.pop())"
   ]
  },
  {
   "cell_type": "code",
   "execution_count": 16,
   "id": "d4932c1c-fab2-4d25-9a28-37325afd7bd1",
   "metadata": {},
   "outputs": [
    {
     "name": "stdout",
     "output_type": "stream",
     "text": [
      "defaultdict(<class 'list'>, {'z': [1], 'h': [2]})\n",
      "defaultdict(<class 'set'>, {'a': {1, 2}, 'b': {3}})\n",
      "{'a': [11], 'b': [2, 3, 55]}\n"
     ]
    }
   ],
   "source": [
    "# 1.6 在字典中将键映射到多个值上\n",
    "from collections import defaultdict\n",
    "\n",
    "a = defaultdict(list)\n",
    "a['z'].append(1)\n",
    "a['h'].append(2)\n",
    "print(a)\n",
    "\n",
    "b = defaultdict(set)\n",
    "b['a'].add(1)\n",
    "b['a'].add(2)\n",
    "b['b'].add(3)\n",
    "b['a'].add(2)\n",
    "print(b)\n",
    "\n",
    "c = {}\n",
    "c.setdefault('a', []).append(11)\n",
    "c.setdefault('b', [2, 3]).append(55)\n",
    "print(c)"
   ]
  },
  {
   "cell_type": "code",
   "execution_count": 6,
   "id": "258f0d3a-862a-4ef4-a281-b78831514104",
   "metadata": {},
   "outputs": [
    {
     "name": "stdout",
     "output_type": "stream",
     "text": [
      "3\n",
      "hello\n",
      "[1, 2, 3]\n",
      "{\"b\": 3, \"c\": \"hello\", \"d\": [1, 2, 3]}\n"
     ]
    }
   ],
   "source": [
    "# 1.7 让字典保持有序\n",
    "from collections import OrderedDict\n",
    "\n",
    "a = OrderedDict()\n",
    "a['b'] = 3\n",
    "a['c'] = 'hello'\n",
    "a['d'] = [1, 2, 3]\n",
    "for key in a:\n",
    "    print(a[key])\n",
    "\n",
    "import json \n",
    "\n",
    "e = json.dumps(a)\n",
    "print(e)"
   ]
  },
  {
   "cell_type": "code",
   "execution_count": 7,
   "id": "f8fc2e78-a702-4420-a477-136d47514667",
   "metadata": {},
   "outputs": [],
   "source": [
    "import json\n",
    "\n",
    "data = { 'name':'John', 'age':22 }\n",
    "\n",
    "# 写入JSON文件\n",
    "with open('data.json','w') as f:\n",
    "    json.dump(data, f) \n",
    "\n",
    "# 读取JSON文件  \n",
    "with open('data.json','r') as f:\n",
    "   obj = json.load(f)\n",
    "\n",
    "# JSON字符串 \n",
    "json_str = json.dumps(data)\n",
    "\n",
    "# 从JSON字符串加载Python对象\n",
    "obj = json.loads(json_str)"
   ]
  },
  {
   "cell_type": "code",
   "execution_count": 19,
   "id": "ba0a39c0-55a7-46ab-aefb-9a2a7c8a6c6b",
   "metadata": {},
   "outputs": [
    {
     "name": "stdout",
     "output_type": "stream",
     "text": [
      "2.8461538461538463\n"
     ]
    }
   ],
   "source": [
    "from collections import OrderedDict\n",
    "from copy  import deepcopy\n",
    "import sys\n",
    "\n",
    "a = {\n",
    "    'apple': 1,\n",
    "    'banana': 2,\n",
    "    'orange': 3,\n",
    "    'watermelon': 4,\n",
    "    'grape': 5,\n",
    "    'pineapple': 6,\n",
    "    'kiwi': 7,\n",
    "    'mango': 8,\n",
    "    'lemon': 9,\n",
    "    'pear': 10,\n",
    "    'peach': 11,\n",
    "    'apricot': 12,\n",
    "    'plum': 13,\n",
    "    'cherry': 14,\n",
    "    'blueberry': 15,\n",
    "    'raspberry': 16,\n",
    "    'blackberry': 17,\n",
    "    'strawberry': 18,\n",
    "    'pomegranate': 19,\n",
    "    'avocado': 20,\n",
    "    'grapefruit': 21,\n",
    "    'lime': 22,\n",
    "    'cantaloupe': 23,\n",
    "    'honeydew': 24,\n",
    "    'fig': 25,\n",
    "    'papaya': 26,\n",
    "    'persimmon': 27,\n",
    "    'tangerine': 28,\n",
    "    'nectarine': 29,\n",
    "    'guava': 30\n",
    "}\n",
    "b = OrderedDict(a)\n",
    "print(sys.getsizeof(b) / sys.getsizeof(a))"
   ]
  },
  {
   "cell_type": "code",
   "execution_count": 12,
   "id": "158f59bc-ea87-4666-a4d6-8c4b3b1eb530",
   "metadata": {},
   "outputs": [
    {
     "name": "stdout",
     "output_type": "stream",
     "text": [
      "140534293293120 140534293286272\n",
      "{'a': [1, 2, 3, 44], 'b': 4, 'c': 5}\n"
     ]
    }
   ],
   "source": [
    "a = {'a': [1, 2, 3], 'b': 4, 'c': 5}\n",
    "b = a.copy()\n",
    "print(id(a), id(b))\n",
    "b['a'].append(44)\n",
    "print(a)"
   ]
  },
  {
   "cell_type": "code",
   "execution_count": 49,
   "id": "4ef32844-f105-4b1a-a75c-a37e3ba81d38",
   "metadata": {},
   "outputs": [
    {
     "name": "stdout",
     "output_type": "stream",
     "text": [
      "{'Apple': 148.48, 'Google': 2719.79, 'Microsoft': 277.66, 'Amazon': 3727.91, 'Facebook': 358.87}\n",
      "<zip object at 0x7fd0b044bf40>\n",
      "dict_values([148.48, 2719.79, 277.66, 3727.91, 358.87])\n",
      "dict_keys(['Apple', 'Google', 'Microsoft', 'Amazon', 'Facebook'])\n",
      "(148.48, 'Apple')\n",
      "(3727.91, 'Amazon')\n",
      "[(148.48, 'Apple'), (277.66, 'Microsoft'), (358.87, 'Facebook'), (2719.79, 'Google'), (3727.91, 'Amazon')]\n",
      "[('Apple', 148.48), ('Microsoft', 277.66), ('Facebook', 358.87), ('Google', 2719.79), ('Amazon', 3727.91)]\n",
      "max item = Amazon:3727.91, min item = Apple:148.48\n"
     ]
    }
   ],
   "source": [
    "sp = {'Apple': 148.48, 'Google': 2719.79, 'Microsoft': 277.66, 'Amazon': 3727.91, 'Facebook': 358.87}\n",
    "print(sp)\n",
    "\n",
    "a = zip(sp.values(), sp.keys())\n",
    "print(a)\n",
    "\n",
    "print(sp.values())\n",
    "print(sp.keys())\n",
    "\n",
    "minp = min(a)\n",
    "print(minp)\n",
    "b = zip(sp.values(), sp.keys())\n",
    "maxp = max(list(b))\n",
    "print(maxp)\n",
    "\n",
    "c = zip(sp.values(), sp.keys())\n",
    "e = sorted(c)\n",
    "print(e)\n",
    "d = sorted(sp.items(), key=lambda x:x[1])\n",
    "print(d)\n",
    "\n",
    "# 最大值最小值\n",
    "f = max(sp, key=lambda k : sp[k])\n",
    "g = min(sp, key=lambda k : sp[k])\n",
    "print(f\"max item = {f}:{sp[f]}, min item = {g}:{sp[g]}\")"
   ]
  },
  {
   "cell_type": "code",
   "execution_count": 44,
   "id": "f928954e-ca75-49d1-951b-f2610a3eb9a7",
   "metadata": {},
   "outputs": [
    {
     "name": "stdout",
     "output_type": "stream",
     "text": [
      "dict_items([('a', 3), ('b', -1), ('c', 44)])\n"
     ]
    }
   ],
   "source": [
    "a = {'a': 3, 'b': -1, 'c': 44}\n",
    "print(a.items())"
   ]
  },
  {
   "cell_type": "code",
   "execution_count": 56,
   "id": "a5274be3-76b7-40bc-ac43-b00976567704",
   "metadata": {},
   "outputs": [
    {
     "name": "stdout",
     "output_type": "stream",
     "text": [
      "and : {'c', 'a', 'b'}, a - b : {'d'}, b - a : {'e'}, or : {'c', 'a', 'd', 'b', 'e'}\n",
      "{('b', 2), ('c', 3)}\n",
      "{'a': 5, 'e': 9}\n"
     ]
    }
   ],
   "source": [
    "a = {\n",
    "    'a': 1, \n",
    "    'b': 2,\n",
    "    'c': 3, \n",
    "    'd': 4\n",
    "}\n",
    "\n",
    "b = {    \n",
    "    'a': 5,\n",
    "    'b': 2,\n",
    "    'c': 3,  \n",
    "    'e': 9  \n",
    "}\n",
    "\n",
    "c = a.keys() & b.keys()\n",
    "d = a.keys() - b.keys()\n",
    "e = a.keys() | b.keys()\n",
    "f = b.keys() - a.keys()\n",
    "print(f\"and : {c}, a - b : {d}, b - a : {f}, or : {e}\")\n",
    "\n",
    "g = a.items() & b.items()\n",
    "print(g) # {('b', 2), ('c', 3)}\n",
    "\n",
    "# 创建字典，去掉一些键\n",
    "h = { k : b[k] for k in b.keys() - {'b', 'c'}}\n",
    "print(h)"
   ]
  },
  {
   "cell_type": "code",
   "execution_count": 7,
   "id": "deb59d54-93e7-45fa-90ca-437641233be8",
   "metadata": {},
   "outputs": [
    {
     "name": "stdout",
     "output_type": "stream",
     "text": [
      "[1, 2, 3, 4, 5, 6, 7, 8, 9, 10, 11, 12, 13, 14, 15, 16, 17, 18]\n",
      "[[1, 2], [3, 2], [4, 1]]\n"
     ]
    }
   ],
   "source": [
    "a = [18, 16, 16, 5, 6, 2, 14, 3, 1, 7, 17, 13, 11, 8, 10, 15, 9, 4, 18, 12]\n",
    "def dedupe(items:list=[]):\n",
    "    seen = set()\n",
    "    for i in items:\n",
    "        if i not in seen:\n",
    "            yield i\n",
    "            seen.add(i)\n",
    "\n",
    "b = dedupe(a)\n",
    "print(sorted(list(b)))\n",
    "\n",
    "# 处理元素不可哈希的情况\n",
    "def dedupe_pro(items, key=None):\n",
    "    seen = set()\n",
    "    for item in items:\n",
    "        val = item if key is None else key(item)\n",
    "        if val not in seen:\n",
    "            yield item\n",
    "            seen.add(val)\n",
    "\n",
    "c = [[1, 2], [3, 2], [4, 1], [1, 2]]\n",
    "d = dedupe_pro(c, key=lambda x: (x[0], x[1]))\n",
    "print(list(d))"
   ]
  },
  {
   "cell_type": "code",
   "execution_count": 28,
   "id": "e84cb72c-8721-441d-9e34-23a318abcb1e",
   "metadata": {},
   "outputs": [
    {
     "name": "stdout",
     "output_type": "stream",
     "text": [
      "51300\n",
      "51300\n"
     ]
    }
   ],
   "source": [
    "a = '..................................................100    .....................513.25   .............'\n",
    "b = a[50:55]\n",
    "c = a[78:81]\n",
    "\n",
    "d = int(b) * int(c)\n",
    "print(d)\n",
    "\n",
    "SHARE = slice(50, 53)\n",
    "PRICE = slice(78, 81)\n",
    "\n",
    "cost = int(a[SHARE]) * int(a[PRICE])\n",
    "print(cost)"
   ]
  },
  {
   "cell_type": "code",
   "execution_count": 34,
   "id": "eb7d42e3-2db2-4dbc-b998-d86a08ae7ad8",
   "metadata": {},
   "outputs": [
    {
     "name": "stdout",
     "output_type": "stream",
     "text": [
      "step = 3, start = 4, end = 20\n",
      "[4, 5, 3]\n"
     ]
    }
   ],
   "source": [
    "a = slice(4, 20, 3)\n",
    "print(f\"step = {a.step}, start = {a.start}, end = {a.stop}\")\n",
    "b = \"hello\"\n",
    "print(list(a.indices(len(b))))"
   ]
  },
  {
   "cell_type": "code",
   "execution_count": 39,
   "id": "5975fc56-57f0-4b76-9500-b7edc0ff20dc",
   "metadata": {},
   "outputs": [
    {
     "name": "stdout",
     "output_type": "stream",
     "text": [
      "5 10 2\n",
      "[5, 7, 9]\n",
      "5 W\n",
      "7 r\n",
      "9 d\n"
     ]
    }
   ],
   "source": [
    "s = \"HelloWorld\"\n",
    "a = slice(5, 10, 2)\n",
    "print(*a.indices(len(s)))\n",
    "print(list(range(*a.indices(len(s)))))\n",
    "for i in range(*a.indices(len(s))):\n",
    "    print(i, s[i])"
   ]
  },
  {
   "cell_type": "code",
   "execution_count": 50,
   "id": "f7115e03-4051-4084-9b17-f42316411d8e",
   "metadata": {},
   "outputs": [
    {
     "name": "stdout",
     "output_type": "stream",
     "text": [
      "[('orange', 5), ('kiwi', 4), ('papaya', 3)]\n",
      "1\n",
      "4\n",
      "7\n",
      "3\n"
     ]
    }
   ],
   "source": [
    "from collections import Counter\n",
    "\n",
    "words = [\"apple\", \"banana\", \"orange\", \"orange\", \"orange\", \"kiwi\", \"grape\", \"watermelon\", \"pineapple\", \"mango\", \n",
    "         \"strawberry\", \"blueberry\", \"raspberry\", \"blackberry\", \"cherry\", \"lemon\", \"lime\", \"grapefruit\", \n",
    "         \"apricot\", \"avocado\", \"coconut\", \"pomegranate\", \"fig\", \"plum\", \"papaya\", \"guava\", \"persimmon\", \n",
    "         \"nectarine\", \"dragonfruit\", \"lychee\", \"durian\", \n",
    "         \"pear\", \"kiwi\", \"lemon\", \"papaya\", \"papaya\", \"orange\", \"fig\", \"avocado\", \"orange\", \"kiwi\", \"kiwi\"]\n",
    "\n",
    "word_counts = Counter(words)\n",
    "top_three   = word_counts.most_common(3)\n",
    "print(top_three)\n",
    "print(word_counts['apple'])\n",
    "print(word_counts['kiwi'])\n",
    "\n",
    "more_words = [\"apple\", \"banana\", \"orange\", \"orange\", \"orange\", \"kiwi\", \"grape\", \"watermelon\", \"pineapple\", \"mango\", \n",
    "         \"strawberry\", \"blueberry\", \"kiwi\", \"blackberry\", \"cherry\", \"lemon\", \"kiwi\", \"grapefruit\"]\n",
    "moreword_counts = Counter(more_words)\n",
    "a = word_counts + moreword_counts\n",
    "print(a['kiwi'])\n",
    "b = a - word_counts\n",
    "print(b['kiwi'])"
   ]
  },
  {
   "cell_type": "code",
   "execution_count": 1,
   "id": "48964a77-df85-4095-875f-a88f96627a66",
   "metadata": {},
   "outputs": [
    {
     "name": "stdout",
     "output_type": "stream",
     "text": [
      "RAW:\n",
      "{'fname': 'Brain', 'lname': 'Jones', 'uid': 1005}\n",
      "{'fname': 'Tom', 'lname': 'Jones', 'uid': 1002}\n",
      "{'fname': 'John', 'lname': 'Brown', 'uid': 1004}\n",
      "{'fname': 'Sarah', 'lname': 'Smith', 'uid': 1003}\n",
      "{'fname': 'Kate', 'lname': 'Doe', 'uid': 1001}\n",
      "SORTED BY LAST NAME: \n",
      "{'fname': 'John', 'lname': 'Brown', 'uid': 1004}\n",
      "{'fname': 'Kate', 'lname': 'Doe', 'uid': 1001}\n",
      "{'fname': 'Brain', 'lname': 'Jones', 'uid': 1005}\n",
      "{'fname': 'Tom', 'lname': 'Jones', 'uid': 1002}\n",
      "{'fname': 'Sarah', 'lname': 'Smith', 'uid': 1003}\n",
      "SORTED BY FIRST NAME: \n",
      "{'fname': 'John', 'lname': 'Brown', 'uid': 1004}\n",
      "{'fname': 'Kate', 'lname': 'Doe', 'uid': 1001}\n",
      "{'fname': 'Tom', 'lname': 'Jones', 'uid': 1002}\n",
      "{'fname': 'Brain', 'lname': 'Jones', 'uid': 1005}\n",
      "{'fname': 'Sarah', 'lname': 'Smith', 'uid': 1003}\n"
     ]
    }
   ],
   "source": [
    "from operator import itemgetter\n",
    "\n",
    "a = [{'fname': 'Brain', 'lname': 'Jones', 'uid': 1005}, {'fname': 'Tom', 'lname': 'Jones', 'uid': 1002}, \n",
    " {'fname': 'John', 'lname': 'Brown', 'uid': 1004}, {'fname': 'Sarah', 'lname': 'Smith', 'uid': 1003}, \n",
    " {'fname': 'Kate', 'lname': 'Doe', 'uid': 1001}]\n",
    "print(\"RAW:\")\n",
    "for i in a:\n",
    "    print(i)\n",
    "\n",
    "sorted_by_lname = sorted(a, key=itemgetter('lname'))\n",
    "print(\"SORTED BY LAST NAME: \")\n",
    "for i in sorted_by_lname:\n",
    "    print(i)\n",
    "\n",
    "sorted_by_lname_uid = sorted(a, key=itemgetter('lname', 'uid'))\n",
    "print(\"SORTED BY FIRST NAME: \")\n",
    "for i in sorted_by_lname_uid:\n",
    "    print(i)\n",
    "\n",
    "# sorted_by_uid = sorted(a, key=itemgetter('uid'))\n",
    "# print(\"SORTED BY UID: \")\n",
    "# for i in sorted_by_uid:\n",
    "#     print(i)\n",
    "\n",
    "b = {'a': 44, 'b': 29}\n",
    "print(itemgetter())"
   ]
  },
  {
   "cell_type": "code",
   "execution_count": 4,
   "id": "6c475aa4-067d-4d77-a72f-31f3f83a5a73",
   "metadata": {},
   "outputs": [
    {
     "name": "stdout",
     "output_type": "stream",
     "text": [
      "[('Alice', 85), ('Bob', 75), ('Cathy', 95)]\n"
     ]
    }
   ],
   "source": [
    "from operator import itemgetter\n",
    "\n",
    "records = [{'name': 'Alice', 'age': 25, 'score': 85},\n",
    "           {'name': 'Bob', 'age': 30, 'score': 75},\n",
    "           {'name': 'Cathy', 'age': 20, 'score': 95}]\n",
    "get_name_and_score = itemgetter('name', 'score')\n",
    "name_and_scores = list(map(get_name_and_score, records))\n",
    "print(name_and_scores)"
   ]
  },
  {
   "cell_type": "code",
   "execution_count": 6,
   "id": "0594738a-6380-45ed-a1bf-d2ae431d4817",
   "metadata": {},
   "outputs": [
    {
     "name": "stdout",
     "output_type": "stream",
     "text": [
      "[User(3), User(23), User(99)]\n",
      "[User(3), User(23), User(99)]\n"
     ]
    }
   ],
   "source": [
    "from operator import attrgetter\n",
    "class User:\n",
    "    def __init__(self, user_id):\n",
    "        self.user_id = user_id\n",
    "\n",
    "    def __repr__(self):\n",
    "        return f'User({self.user_id})'\n",
    "\n",
    "a = [User(23), User(3), User(99)]\n",
    "b = sorted(a, key=lambda u:u.user_id)\n",
    "print(b)\n",
    "c = sorted(a, key=attrgetter('user_id'))\n",
    "print(c)"
   ]
  },
  {
   "cell_type": "code",
   "execution_count": 15,
   "id": "4885b2f5-cf96-4bbc-a7aa-45d5c3361f6f",
   "metadata": {},
   "outputs": [
    {
     "name": "stdout",
     "output_type": "stream",
     "text": [
      "{'address': 'Los Angeles', 'date': '2023-06-10'}\n",
      "{'address': 'Phoenix', 'date': '2023-06-03'}\n",
      "{'address': 'Chicasfsfadgo', 'date': '2023-06-08'}\n",
      "{'address': 'anyue', 'date': '2023-06-08'}\n",
      "{'address': 'Houston', 'date': '2023-06-05'}\n",
      "{'address': 'New York', 'date': '2023-06-12'}\n",
      "{'address': 'yongqing', 'date': '2023-06-11'}\n",
      "{'address': 'sichuan', 'date': '2023-06-11'}\n",
      "{'address': 'chengdu', 'date': '2023-06-11'}\n",
      "{'address': 'Los Angeles', 'date': '2023-06-09'}\n",
      "2023-06-03\n",
      " {'address': 'Phoenix', 'date': '2023-06-03'}\n",
      "2023-06-05\n",
      " {'address': 'Houston', 'date': '2023-06-05'}\n",
      "2023-06-08\n",
      " {'address': 'Chicasfsfadgo', 'date': '2023-06-08'}\n",
      " {'address': 'anyue', 'date': '2023-06-08'}\n",
      "2023-06-09\n",
      " {'address': 'Los Angeles', 'date': '2023-06-09'}\n",
      "2023-06-10\n",
      " {'address': 'Los Angeles', 'date': '2023-06-10'}\n",
      "2023-06-11\n",
      " {'address': 'yongqing', 'date': '2023-06-11'}\n",
      " {'address': 'sichuan', 'date': '2023-06-11'}\n",
      " {'address': 'chengdu', 'date': '2023-06-11'}\n",
      "2023-06-12\n",
      " {'address': 'New York', 'date': '2023-06-12'}\n",
      "2023-06-03 [{'address': 'Phoenix', 'date': '2023-06-03'}]\n",
      "2023-06-05 [{'address': 'Houston', 'date': '2023-06-05'}]\n",
      "2023-06-08 [{'address': 'Chicasfsfadgo', 'date': '2023-06-08'}, {'address': 'anyue', 'date': '2023-06-08'}]\n",
      "2023-06-09 [{'address': 'Los Angeles', 'date': '2023-06-09'}]\n",
      "2023-06-10 [{'address': 'Los Angeles', 'date': '2023-06-10'}]\n",
      "2023-06-11 [{'address': 'yongqing', 'date': '2023-06-11'}, {'address': 'sichuan', 'date': '2023-06-11'}, {'address': 'chengdu', 'date': '2023-06-11'}]\n",
      "2023-06-12 [{'address': 'New York', 'date': '2023-06-12'}]\n"
     ]
    }
   ],
   "source": [
    "a = [{'address': 'Los Angeles', 'date': '2023-06-10'}, {'address': 'Phoenix', 'date': '2023-06-03'}, {'address': 'Chicasfsfadgo', 'date': '2023-06-08'}, \n",
    " {'address': 'anyue', 'date': '2023-06-08'}, {'address': 'Houston', 'date': '2023-06-05'}, {'address': 'New York', 'date': '2023-06-12'}, \n",
    " {'address': 'yongqing', 'date': '2023-06-11'}, {'address': 'sichuan', 'date': '2023-06-11'}, {'address': 'chengdu', 'date': '2023-06-11'}, \n",
    " {'address': 'Los Angeles', 'date': '2023-06-09'}]\n",
    "for i in a:\n",
    "    print(i)\n",
    "\n",
    "from operator import attrgetter, itemgetter\n",
    "from itertools import groupby\n",
    "\n",
    "a.sort(key=itemgetter('date'))\n",
    "\n",
    "for date, items in groupby(a, key=itemgetter('date')):\n",
    "    print(date)\n",
    "    for i in items:\n",
    "        print(f' {i}')\n",
    "\n",
    "from collections import defaultdict\n",
    "\n",
    "b = defaultdict(list)\n",
    "for i in a:\n",
    "    b[i['date']].append(i)\n",
    "\n",
    "for k, v in b.items():\n",
    "    print(k, v)"
   ]
  },
  {
   "cell_type": "code",
   "execution_count": 17,
   "id": "2e292943-9d30-4ef7-99c4-079eeb368fdb",
   "metadata": {},
   "outputs": [
    {
     "name": "stdout",
     "output_type": "stream",
     "text": [
      "[-9, 9, 19, -2, 12, 0, 14, -8, -9, -1]\n"
     ]
    }
   ],
   "source": [
    "import random\n",
    "import time\n",
    "\n",
    "random.seed(time.time())\n",
    "\n",
    "a = [random.randint(-10, 20) for i in range(10)]\n",
    "print(a)"
   ]
  },
  {
   "cell_type": "code",
   "execution_count": 22,
   "id": "42750d7e-b072-4bc6-a2b8-d55e3aa8b63a",
   "metadata": {},
   "outputs": [
    {
     "name": "stdout",
     "output_type": "stream",
     "text": [
      "[9, 19, 12, 14]\n",
      "<generator object <genexpr> at 0x7fcd71c03780>\n",
      "[-9, -2, 0, -8, -9, -1]\n"
     ]
    }
   ],
   "source": [
    "a = [-9, 9, 19, -2, 12, 0, 14, -8, -9, -1]\n",
    "b = [n for n in a if n > 0]\n",
    "print(b)\n",
    "c = (n for n in a if n <= 0)\n",
    "print(c)\n",
    "print(list(c))"
   ]
  },
  {
   "cell_type": "code",
   "execution_count": 23,
   "id": "2b4059ee-d7e0-464e-9c07-59bd860e6d47",
   "metadata": {},
   "outputs": [
    {
     "name": "stdout",
     "output_type": "stream",
     "text": [
      "['1', '3', '-4', '44', '5']\n"
     ]
    }
   ],
   "source": [
    "d = ['1', '3', '-4', '-', '44', 'N/A', '5']\n",
    "\n",
    "def is_int(val):\n",
    "    try:\n",
    "        temp = int(val)\n",
    "        return True\n",
    "    except ValueError:\n",
    "        return False\n",
    "\n",
    "e = list(filter(is_int, d))\n",
    "print(e)"
   ]
  },
  {
   "cell_type": "code",
   "execution_count": 24,
   "id": "a9091951-bd56-459c-888a-315f05b44233",
   "metadata": {},
   "outputs": [
    {
     "name": "stdout",
     "output_type": "stream",
     "text": [
      "[0, 9, 19, 0, 12, 0, 14, 0, 0, 0]\n"
     ]
    }
   ],
   "source": [
    "a = [-9, 9, 19, -2, 12, 0, 14, -8, -9, -1]\n",
    "b = [n if n > 0 else 0 for n in a]\n",
    "print(b)"
   ]
  },
  {
   "cell_type": "code",
   "execution_count": 28,
   "id": "07a99853-311a-41c6-9a9c-042291bcdb42",
   "metadata": {},
   "outputs": [
    {
     "name": "stdout",
     "output_type": "stream",
     "text": [
      "[True, False, False, False, True, True, False, True]\n",
      "8 8\n",
      "['Xuancheng', 'Chengdu', 'Anyue', 'Nanjing']\n"
     ]
    }
   ],
   "source": [
    "addresses = [\n",
    "    'Xuancheng',\n",
    "    'Hefei',\n",
    "    \"Hangzhou\",\n",
    "    \"Suzhou\",\n",
    "    'Chengdu',\n",
    "    'Anyue',\n",
    "    'Yongqing',\n",
    "    \"Nanjing\"\n",
    "]\n",
    "\n",
    "p = [11, 0, 2, 3, 5, 20, 3, 6]\n",
    "b = [n > 3 for n in p]\n",
    "print(b)\n",
    "\n",
    "print(len(addresses), len(p))\n",
    "from itertools import compress\n",
    "\n",
    "c = list(compress(addresses, b))\n",
    "print(c)"
   ]
  },
  {
   "cell_type": "code",
   "execution_count": 34,
   "id": "ad5b4f2b-9a02-4c3b-b81a-ef53bb57d45f",
   "metadata": {},
   "outputs": [
    {
     "name": "stdout",
     "output_type": "stream",
     "text": [
      "a[Apple] = 145.86\n",
      "a[Microsoft] = 282.51\n",
      "a[Amazon] = 3372.2\n",
      "a[Facebook] = 355.64\n",
      "a[Tesla] = 656.95\n",
      "a[Alphabet] = 2573.48\n",
      "a[Nvidia] = 191.94\n",
      "a[JP Morgan] = 160.16\n",
      "{'Microsoft': 282.51, 'Amazon': 3372.2, 'Facebook': 355.64, 'Tesla': 656.95, 'Alphabet': 2573.48}\n",
      "{'Apple': 145.86, 'Amazon': 3372.2, 'Tesla': 656.95}\n"
     ]
    }
   ],
   "source": [
    "a  = {\n",
    "    \"Apple\": 145.86,\n",
    "    \"Microsoft\": 282.51,\n",
    "    \"Amazon\": 3372.20,\n",
    "    \"Facebook\": 355.64,\n",
    "    \"Tesla\": 656.95,\n",
    "    \"Alphabet\": 2573.48,\n",
    "    \"Nvidia\": 191.94,\n",
    "    \"JP Morgan\": 160.16\n",
    "}\n",
    "for i in a:\n",
    "    print(f\"a[{i}] = {a[i]}\")\n",
    "\n",
    "b = {k:v for k, v in a.items() if v > 200 }\n",
    "print(b)\n",
    "\n",
    "# 指定 key 集合筛选\n",
    "c = {'Apple', 'Amazon', 'Tesla'}\n",
    "d = {k:v for k, v in a.items() if k in c}\n",
    "print(d)"
   ]
  },
  {
   "cell_type": "code",
   "execution_count": 38,
   "id": "852d5a9f-58a6-4370-aab4-28e73d0519ed",
   "metadata": {},
   "outputs": [
    {
     "name": "stdout",
     "output_type": "stream",
     "text": [
      "Subscriber(addr='1@out.look.com', joined='2023-07-01')\n",
      "1@out.look.com\n",
      "2023-07-01\n"
     ]
    }
   ],
   "source": [
    "from collections import namedtuple\n",
    "\n",
    "a = namedtuple('Subscriber', ['addr', 'joined'])\n",
    "b = a(\"1@out.look.com\", '2023-07-01')\n",
    "print(b)\n",
    "print(b.addr)\n",
    "print(b.joined)"
   ]
  },
  {
   "cell_type": "code",
   "execution_count": 43,
   "id": "a1a12942-9319-47e1-b271-37a79e9a18c5",
   "metadata": {},
   "outputs": [
    {
     "name": "stdout",
     "output_type": "stream",
     "text": [
      "Stock(name='Apple', shares=2000, price=644.34)\n",
      "1288680.0\n",
      "140520334277216\n",
      "Stock(name='Apple', shares=2300, price=644.34)\n"
     ]
    }
   ],
   "source": [
    "def compute_cost(records):\n",
    "    total = 0.0\n",
    "    for rec in records:\n",
    "        total += rec[1] * rec[2]\n",
    "    return total\n",
    "\n",
    "from collections import namedtuple\n",
    "\n",
    "Stock = namedtuple('Stock', ['name', 'shares', 'price'])\n",
    "def compute_cost_pro(records):\n",
    "    total = 0.0\n",
    "    for rec in records:\n",
    "        s = Stock(*rec)\n",
    "        total += s.shares * s.price\n",
    "    return total\n",
    "\n",
    "s1 = Stock(\"Apple\", 2000, 644.34)\n",
    "print(s1)\n",
    "\n",
    "print(compute_cost_pro([s1]))\n",
    "\n",
    "print(id(s1))\n",
    "s2 = s1._replace(shares=2300)\n",
    "print(s2)"
   ]
  },
  {
   "cell_type": "code",
   "execution_count": 49,
   "id": "614aa072-58b0-4d48-a77f-8b6ba4add5e2",
   "metadata": {},
   "outputs": [
    {
     "name": "stdout",
     "output_type": "stream",
     "text": [
      "['.ipynb_checkpoints', 'python-cookbook-01.ipynb', 'somefile.txt', 'data.json']\n",
      "There are jupyter notebook\n",
      "sum = 48, min = 1, max = 23\n",
      "702\n"
     ]
    }
   ],
   "source": [
    "import os\n",
    "\n",
    "a = os.listdir('.')\n",
    "print(a)\n",
    "if any( i.endswith('ipynb') for i in a):\n",
    "    print(\"There are jupyter notebook\")\n",
    "\n",
    "b = [1, 3, 1, 4, 5, 11, 23]\n",
    "print(f\"sum = {sum(b)}, min = {min(b)}, max = {max(b)}\")\n",
    "c = sum(x * x for x in b)\n",
    "print(c)"
   ]
  },
  {
   "cell_type": "code",
   "execution_count": 63,
   "id": "6066d7a6-ca2a-4f45-8309-36f5c0817dab",
   "metadata": {},
   "outputs": [
    {
     "name": "stdout",
     "output_type": "stream",
     "text": [
      "b 22\n",
      "d 99\n",
      "a 33\n",
      "c 2\n",
      "22\n",
      "23\n",
      "4\n",
      "['b', 'd', 'a', 'c']\n",
      "ChainMap({'a': 33, 'b': 9999, 'c': 2}, {'b': 23, 'd': 99})\n",
      "{'a': 33, 'b': 9999, 'c': 2}\n"
     ]
    }
   ],
   "source": [
    "from collections import ChainMap\n",
    "\n",
    "a = {'a': 33, 'b': 22, 'c': 2}\n",
    "b = {'b': 23, 'd': 99}\n",
    "\n",
    "c = ChainMap(a, b)\n",
    "for k in c:\n",
    "    print(k, c[k])\n",
    "\n",
    "d = ChainMap(b, a)\n",
    "print(c['b']) # 22\n",
    "print(d['b']) # 23\n",
    "print(len(c))\n",
    "print(list(c.keys()))\n",
    "\n",
    "# del c['d']\n",
    "c['b'] = 9999\n",
    "print(c)\n",
    "print(a)"
   ]
  },
  {
   "cell_type": "code",
   "execution_count": 60,
   "id": "747b2ba9-89dc-434f-8fc2-e038fe9133dd",
   "metadata": {},
   "outputs": [
    {
     "name": "stdout",
     "output_type": "stream",
     "text": [
      "ChainMap({'x': 2}, {'x': 1})\n",
      "ChainMap({'x': 1})\n"
     ]
    }
   ],
   "source": [
    "from collections import ChainMap\n",
    "\n",
    "a = ChainMap()\n",
    "a['x'] = 1\n",
    "a = a.new_child()\n",
    "a['x'] = 2\n",
    "print(a)\n",
    "a = a.parents\n",
    "print(a)"
   ]
  },
  {
   "cell_type": "code",
   "execution_count": 61,
   "id": "11851283-9bdc-487a-af23-885488c13169",
   "metadata": {},
   "outputs": [
    {
     "name": "stdout",
     "output_type": "stream",
     "text": [
      "{'a': 33, 'b': 23, 'c': 2, 'd': 99}\n"
     ]
    }
   ],
   "source": [
    "a = {'a': 33, 'b': 22, 'c': 2}\n",
    "b = {'b': 23, 'd': 99}\n",
    "a.update(b)\n",
    "print(a)\n",
    "a['a'] += 5\n",
    "print()"
   ]
  }
 ],
 "metadata": {
  "kernelspec": {
   "display_name": "Python 3 (ipykernel)",
   "language": "python",
   "name": "python3"
  },
  "language_info": {
   "codemirror_mode": {
    "name": "ipython",
    "version": 3
   },
   "file_extension": ".py",
   "mimetype": "text/x-python",
   "name": "python",
   "nbconvert_exporter": "python",
   "pygments_lexer": "ipython3",
   "version": "3.11.3"
  }
 },
 "nbformat": 4,
 "nbformat_minor": 5
}
