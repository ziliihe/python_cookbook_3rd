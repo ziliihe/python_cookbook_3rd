{
 "cells": [
  {
   "cell_type": "code",
   "execution_count": null,
   "id": "4067e8e4-827e-4714-871f-88aad5e3d6b9",
   "metadata": {},
   "outputs": [],
   "source": [
    "# pyparsing\n",
    "# https://zhuanlan.zhihu.com/p/259638397\n",
    "# !pip install pyparsing\n",
    "# https://pyparsing-docs.readthedocs.io/en/latest/HowToUsePyparsing.html\n",
    "import pyparsing as pp\n",
    "\n",
    "greet = pp.Word(pp.alphas) + ',' + pp.Word(pp.alphas) + \"!\"\n",
    "for greet_str in [\n",
    "    \"hello, world!\", 'Bonjour, Monde!',\n",
    "    \"Hola, Mundo!\", \"Hallo, Welt!\",\n",
    "]:\n",
    "    greeting = greet.parse_string(greet_str)\n",
    "    print(greeting)"
   ]
  },
  {
   "cell_type": "code",
   "execution_count": null,
   "id": "4ab6e2cf-d62d-46a7-bba0-11b9f654bc5f",
   "metadata": {},
   "outputs": [],
   "source": []
  }
 ],
 "metadata": {
  "kernelspec": {
   "display_name": "Python 3 (ipykernel)",
   "language": "python",
   "name": "python3"
  },
  "language_info": {
   "codemirror_mode": {
    "name": "ipython",
    "version": 3
   },
   "file_extension": ".py",
   "mimetype": "text/x-python",
   "name": "python",
   "nbconvert_exporter": "python",
   "pygments_lexer": "ipython3",
   "version": "3.11.3"
  }
 },
 "nbformat": 4,
 "nbformat_minor": 5
}
