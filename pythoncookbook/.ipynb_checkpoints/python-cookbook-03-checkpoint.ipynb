{
 "cells": [
  {
   "cell_type": "code",
   "execution_count": 6,
   "id": "a2f22732-0d2b-4454-ae80-b6380c398fb6",
   "metadata": {},
   "outputs": [
    {
     "name": "stdout",
     "output_type": "stream",
     "text": [
      "1.2\n",
      "-1.5\n",
      "1200\n",
      "1.23\n",
      "6.300000000000001\n",
      "6.3\n"
     ]
    }
   ],
   "source": [
    "# 3.1\n",
    "a = round(1.23, 1)\n",
    "print(a)\n",
    "b = round(-1.472, 1)\n",
    "print(b)\n",
    "c = round(1234, -2)\n",
    "print(c)\n",
    "\n",
    "d = format(1.234, '0.2f')\n",
    "print(d)\n",
    "\n",
    "# 不推荐这样做\n",
    "e = 2.1\n",
    "f = 4.2\n",
    "g = e + f\n",
    "print(g)\n",
    "g = round(g, 2)\n",
    "print(g)"
   ]
  },
  {
   "cell_type": "code",
   "execution_count": 16,
   "id": "60961f02-ea29-4401-b792-2ee8ba68469a",
   "metadata": {},
   "outputs": [
    {
     "name": "stdout",
     "output_type": "stream",
     "text": [
      "6.300000000000001\n",
      "6.3\n",
      "True\n",
      "0.7647058823529411764705882353\n",
      "0.765\n",
      "0.7647058823529411764705882353\n",
      "0.0\n",
      "1.0\n"
     ]
    }
   ],
   "source": [
    "# 3.2\n",
    "a = 2.1\n",
    "b = 4.2\n",
    "print(a+b)\n",
    "\n",
    "from decimal import Decimal, localcontext\n",
    "\n",
    "c = Decimal('4.2')\n",
    "d = Decimal('2.1')\n",
    "\n",
    "e = c + d\n",
    "print(e)\n",
    "print( e == Decimal('6.3'))\n",
    "\n",
    "f = Decimal('1.3')\n",
    "g = Decimal('1.7')\n",
    "h = f / g\n",
    "print(h)\n",
    "with localcontext() as ctx:\n",
    "    ctx.prec = 3\n",
    "    print(f / g)\n",
    "print(f/g)\n",
    "\n",
    "# 大数加小数\n",
    "i = [1.23e+18, 1, -1.23e+18]\n",
    "j = sum(i)\n",
    "print(j)\n",
    "from math import fsum\n",
    "k = fsum(i)\n",
    "print(k)"
   ]
  },
  {
   "cell_type": "code",
   "execution_count": 36,
   "id": "139344a0-beeb-4073-a51d-595634273941",
   "metadata": {},
   "outputs": [
    {
     "name": "stdout",
     "output_type": "stream",
     "text": [
      "1234.568\n",
      "************1234.568\n",
      "******1234.568******\n",
      "1234.568************\n",
      "1,234.567891\n",
      "1,234.6\n",
      "1.23e+03\n",
      "1.234,56789\n",
      "<class 'str'>\n",
      "1,234.00\n"
     ]
    }
   ],
   "source": [
    "# 3.3 对数值做格式化输出\n",
    "a = 1234.567891\n",
    "b = format(a, '0.3f')\n",
    "print(b)\n",
    "c = format(a, '*>20.3f')\n",
    "print(c)\n",
    "d = format(a, '*^20.3f')\n",
    "print(d)\n",
    "e = format(a, '*<20.3f')\n",
    "print(e)\n",
    "\n",
    "f = format(a, ',')\n",
    "print(f)\n",
    "\n",
    "g = format(a, '0,.1f')\n",
    "print(g)\n",
    "\n",
    "h = format(a, '.2e')\n",
    "print(h)\n",
    "i = format(a, 'E')\n",
    "\n",
    "l = 1234.56789\n",
    "j = { ord('.') : ',', ord(',') : '.' }\n",
    "k = format(l, ',').translate(j)\n",
    "print(k)\n",
    "print(type(i))\n",
    "\n",
    "print(format(1234, '0,.2f'))"
   ]
  },
  {
   "cell_type": "code",
   "execution_count": 50,
   "id": "151b199f-7760-44e4-bc7c-e33301d0f89b",
   "metadata": {},
   "outputs": [
    {
     "name": "stdout",
     "output_type": "stream",
     "text": [
      "0b10011010010 <class 'str'>\n",
      "0o2322 <class 'str'>\n",
      "0x4d2 <class 'str'>\n",
      "10011010010 2322 4d2\n",
      "-10011010010\n",
      "11111111111111111111101100101110\n",
      "1234\n",
      "1234\n",
      "['.ipynb_checkpoints', 'python-cookbook-01.ipynb', 'parser.out', 'parsetab.py', 'addtions.ipynb', 'python-cookbook-02.ipynb', 'somefile.txt', '__pycache__', 'python-cookbook-03.ipynb', 'chapter-02-parser.py', 'data.json']\n"
     ]
    }
   ],
   "source": [
    "# 3.4 二进制，八进制，十六进制\n",
    "a = 1234\n",
    "b = bin(a)\n",
    "print(b, type(b))\n",
    "c = oct(a)\n",
    "print(c, type(c))\n",
    "d = hex(a)\n",
    "print(d, type(d))\n",
    "\n",
    "\n",
    "e = format(a, 'b')\n",
    "f = format(a, 'o')\n",
    "g = format(a, 'x')\n",
    "print(e, f, g)\n",
    "\n",
    "# 负数\n",
    "h = format(-a, 'b')\n",
    "print(h)\n",
    "\n",
    "i = -a\n",
    "j = format(2**32 + i, 'b')\n",
    "print(j)\n",
    "\n",
    "# str -> int\n",
    "k = int('4d2', 16)\n",
    "print(k)\n",
    "l = int('10011010010', 2)\n",
    "print(l)\n",
    "\n",
    "import os\n",
    "k = os.listdir('.')\n",
    "print(k)\n",
    "os.chmod('chapter-02-parser.py', 0o755)"
   ]
  },
  {
   "cell_type": "code",
   "execution_count": 88,
   "id": "296a4d60-337e-4c5a-a78f-e67476de7d05",
   "metadata": {},
   "outputs": [
    {
     "name": "stdout",
     "output_type": "stream",
     "text": [
      "22\n",
      "19455709610994670748355539194408193032854674286837760\n",
      "686176002436884456687652985521441687397738938420\n",
      "b'\\x00\\x00x124V\\x00x00x\\x90\\xab\\x00\\xcd\\xef\\x01\\x00#\\x004'\n",
      "b'4\\x00#\\x00\\x01\\xef\\xcd\\x00\\xab\\x90x00x\\x00V421x\\x00\\x00'\n",
      "b'\\x00\\x00x124V\\x00x00x\\x90\\xab\\x00\\xcd\\xef\\x01\\x00#\\x004'\n",
      "b'\\x00\\x00x124V\\x00x00x\\x90\\xab\\x00\\xcd\\xef\\x01\\x00#\\x004'\n",
      "686176002436884456687652985521441687397738938420\n",
      "686176002436884456687652985521441687397738938420\n",
      "little\n",
      "b'\\x04\\x03\\x02\\x01'\n"
     ]
    }
   ],
   "source": [
    "# 3.5 从字节串打包和解包大整数\n",
    "a = b'\\x00\\0x124V\\0x00x\\x90\\xab\\x00\\xcd\\xef\\x01\\x00#\\x004'\n",
    "print(len(a))\n",
    "b = int.from_bytes(a, 'little')\n",
    "print(b)\n",
    "c = int.from_bytes(a, 'big')\n",
    "print(c)\n",
    "\n",
    "d = c.to_bytes(22, 'big')\n",
    "print(d)\n",
    "e = c.to_bytes(22, 'little')\n",
    "print(e)\n",
    "\n",
    "# struct\n",
    "import struct \n",
    "# > 大端\n",
    "f, h, i, j = struct.unpack('>QQLH', a)\n",
    "\n",
    "k = (f << (14 * 8)) + (h << 48) + (i << 16) + j\n",
    "print(a)\n",
    "print(f.to_bytes(8, 'big') + h.to_bytes(8, 'big') + i.to_bytes(4, 'big') + j.to_bytes(2, 'big'))\n",
    "print(c)\n",
    "print(k)\n",
    "\n",
    "# 判断字节序\n",
    "import sys\n",
    "print(sys.byteorder)\n",
    "\n",
    "l = 0x01020304\n",
    "print(l.to_bytes(4, byteorder=sys.byteorder))\n"
   ]
  },
  {
   "cell_type": "code",
   "execution_count": 89,
   "id": "fd0f3efd-ca2e-475f-bb42-be9cca439aa0",
   "metadata": {},
   "outputs": [
    {
     "name": "stdout",
     "output_type": "stream",
     "text": [
      "51.75285748298802\n"
     ]
    }
   ],
   "source": [
    "import random\n",
    "\n",
    "# Generate a random floating-point number between 18 and 60\n",
    "random_float = random.uniform(18, 60)\n",
    "\n",
    "print(random_float)  # Prints a random floating-point number between 18 and 60"
   ]
  },
  {
   "cell_type": "code",
   "execution_count": 92,
   "id": "f2617a4e-a024-4e24-a6e9-b36cee1a2b13",
   "metadata": {},
   "outputs": [
    {
     "name": "stdout",
     "output_type": "stream",
     "text": [
      "39.744\n"
     ]
    }
   ],
   "source": [
    "import random\n",
    "import time\n",
    "\n",
    "random.seed(time.time())\n",
    "\n",
    "print(round(random.uniform(18, 66), 3))"
   ]
  },
  {
   "cell_type": "code",
   "execution_count": 96,
   "id": "9e6e7775-e049-4453-abdd-4701b585b740",
   "metadata": {},
   "outputs": [
    {
     "name": "stdout",
     "output_type": "stream",
     "text": [
      "['202307250073521', '202307250074721', '202307250075921', '202307250077121', '202307250078321', '202307250079521', '202307250080721', '202307250081921', '202307250083121', '202307250084321']\n",
      "03\n"
     ]
    }
   ],
   "source": [
    "import random\n",
    "\n",
    "# 生成随机的起始时间，范围为 7 点到 7 点 50 分之间\n",
    "hour = random.randint(7, 8)\n",
    "minute = random.randint(0, 50)\n",
    "second = random.randint(0, 59)\n",
    "start_time = f\"202307250{hour:02d}{minute:02d}{second:02d}\"\n",
    "\n",
    "# 计算时间间隔，平均分配到 10 个时刻\n",
    "time_delta = 10800 / 9  # 10800 秒是三小时，即 7 点到 10 点之间的时间差\n",
    "time_deltas = [int(i * time_delta) for i in range(10)]\n",
    "\n",
    "# 生成 10 个连续时刻字符串\n",
    "time_strings = [str(int(start_time) + delta) for delta in time_deltas]\n",
    "\n",
    "# 输出结果\n",
    "print(time_strings)\n",
    "a = format(3, '02')\n",
    "print(a)"
   ]
  },
  {
   "cell_type": "code",
   "execution_count": 115,
   "id": "0f4228e9-c7bb-4794-b704-ea9afe3a7c8d",
   "metadata": {},
   "outputs": [
    {
     "name": "stdout",
     "output_type": "stream",
     "text": [
      "(2+4j) (4-5j)\n",
      "(2-9j)\n",
      "2.0 -9.0\n",
      "(2+9j)\n",
      "(-0.6-1.3j)\n",
      "5.0\n",
      "-27.28991719712775j\n",
      "[2.+3.j 4.+5.j 6.-7.j 8.+9.j]\n",
      "[ 4.+3.j  6.+5.j  8.-7.j 10.+9.j]\n",
      "[   -7.61923172   -6.54812004j   -20.73540974  +71.24771797j\n",
      "   542.48198049  +79.78001447j -2204.12439352-3399.5334589j ]\n",
      "1j\n"
     ]
    }
   ],
   "source": [
    "# 3.6\n",
    "a = complex(2, 4)\n",
    "b = 4 - 5j\n",
    "print(a, b)\n",
    "c = b - a\n",
    "print(c)\n",
    "print(c.real, c.imag)\n",
    "print(c.conjugate())\n",
    "d = b / a\n",
    "print(d)\n",
    "e = abs(3 - 4j)\n",
    "print(e)\n",
    "\n",
    "# 函数\n",
    "import cmath\n",
    "f = cmath.sin(0 - 4j)\n",
    "print(f)\n",
    "\n",
    "import numpy as np\n",
    "\n",
    "g = np.array([2+3j, 4+5j, 6-7j, 8+9j])\n",
    "print(g)\n",
    "h = g + 2\n",
    "print(h)\n",
    "\n",
    "i = np.sin(h)\n",
    "print(i)\n",
    "\n",
    "j = cmath.sqrt(-1)\n",
    "print(j)"
   ]
  },
  {
   "cell_type": "code",
   "execution_count": 108,
   "id": "528ef063-0c09-453f-ae1f-db4e781cc2f7",
   "metadata": {},
   "outputs": [
    {
     "name": "stdout",
     "output_type": "stream",
     "text": [
      "Looking in indexes: https://pypi.tuna.tsinghua.edu.cn/simple\n",
      "Collecting numpy\n",
      "  Downloading https://pypi.tuna.tsinghua.edu.cn/packages/f0/5a/9b7b7bae29f9f5f8a976607cd30139c1fec9076c0e65ea918d3400924acf/numpy-1.25.1-cp311-cp311-manylinux_2_17_x86_64.manylinux2014_x86_64.whl (17.6 MB)\n",
      "\u001b[2K     \u001b[38;2;114;156;31m━━━━━━━━━━━━━━━━━━━━━━━━━━━━━━━━━━━━━━━━\u001b[0m \u001b[32m17.6/17.6 MB\u001b[0m \u001b[31m14.1 MB/s\u001b[0m eta \u001b[36m0:00:00\u001b[0mm eta \u001b[36m0:00:01\u001b[0m0:01\u001b[0m:01\u001b[0m\n",
      "\u001b[?25hInstalling collected packages: numpy\n",
      "Successfully installed numpy-1.25.1\n",
      "\n",
      "\u001b[1m[\u001b[0m\u001b[34;49mnotice\u001b[0m\u001b[1;39;49m]\u001b[0m\u001b[39;49m A new release of pip is available: \u001b[0m\u001b[31;49m23.1.2\u001b[0m\u001b[39;49m -> \u001b[0m\u001b[32;49m23.2.1\u001b[0m\n",
      "\u001b[1m[\u001b[0m\u001b[34;49mnotice\u001b[0m\u001b[1;39;49m]\u001b[0m\u001b[39;49m To update, run: \u001b[0m\u001b[32;49mpip install --upgrade pip\u001b[0m\n"
     ]
    }
   ],
   "source": [
    "!pip install numpy"
   ]
  },
  {
   "cell_type": "code",
   "execution_count": 123,
   "id": "e92667a9-711b-440c-b2fe-ba3774ac844c",
   "metadata": {},
   "outputs": [
    {
     "name": "stdout",
     "output_type": "stream",
     "text": [
      "inf -inf nan\n",
      "True True True\n",
      "d is inf ? True\n",
      "10 / inf = 0.0\n",
      "a / a = nan\n",
      "inf + (-inf) = nan\n",
      "c is nan c == c ? False\n"
     ]
    }
   ],
   "source": [
    "# 3.7\n",
    "import math\n",
    "a = float('inf')\n",
    "b = float('-inf')\n",
    "c = float('nan')\n",
    "print(a, b, c)\n",
    "print(math.isinf(a), math.isinf(b), math.isnan(c))\n",
    "d = a + 45\n",
    "print(f\"d is inf ? {math.isinf(d)}\")\n",
    "print(f\"10 / inf = {10 / a}\")\n",
    "print(f\"a / a = {a / a}\")\n",
    "print(f\"inf + (-inf) = {a + b}\")\n",
    "print(f\"c is nan c == c ? {c == c}\")"
   ]
  },
  {
   "cell_type": "code",
   "execution_count": 136,
   "id": "748ec083-70f8-4ca2-9227-41e4161e06be",
   "metadata": {},
   "outputs": [
    {
     "name": "stdout",
     "output_type": "stream",
     "text": [
      "99/80\n",
      "7/20\n",
      "[7] | [20]\n",
      "0.35\n",
      "111/23 24/5 0.026086956521739424\n",
      "4/3\n",
      "1\n"
     ]
    }
   ],
   "source": [
    "# 3.8\n",
    "from fractions import Fraction\n",
    "\n",
    "a = Fraction(4, 5)\n",
    "b = Fraction(7, 16)\n",
    "\n",
    "c = a + b\n",
    "print(c)\n",
    "d = a * b\n",
    "print(d)\n",
    "print(f\"[{d.numerator}] | [{d.denominator}]\")\n",
    "e = float(d)\n",
    "print(e)\n",
    "\n",
    "f = Fraction(111, 23)\n",
    "g = f.limit_denominator(5)\n",
    "print(f, g, float(f) -  float(g))\n",
    "\n",
    "h = 1.3333333\n",
    "# as_integer_ratio() 是浮点数对象的一个方法，用于返回一个包含两个整数的元组，表示浮点数的分子和分母\n",
    "i = Fraction(*h.as_integer_ratio())\n",
    "print(i.limit_denominator(3))\n",
    "print(int(i))"
   ]
  },
  {
   "cell_type": "code",
   "execution_count": 12,
   "id": "77e46359-526d-4272-b0ae-17a2320fd185",
   "metadata": {},
   "outputs": [
    {
     "name": "stdout",
     "output_type": "stream",
     "text": [
      "[1, 2, 3, 4, 5, 1, 2, 3, 4, 5]\n",
      "[4, 5, 6]\n",
      "[1, 2, 3, 4, 5, 4, 5, 6]\n",
      "[[1 2]\n",
      " [3 4]]\n",
      "[[2 4]\n",
      " [6 8]]\n",
      "[[11 12]\n",
      " [13 14]]\n",
      "[[ 6  8]\n",
      " [10 12]]\n",
      "[[ 5 12]\n",
      " [21 32]]\n",
      "[[ 8 15]\n",
      " [28 47]]\n",
      "[[1.         1.41421356]\n",
      " [1.73205081 2.        ]]\n",
      "[[ 0.54030231 -0.41614684]\n",
      " [-0.9899925  -0.65364362]]\n",
      "[[ 1  2  3  4]\n",
      " [ 5  6  7  8]\n",
      " [ 9 10 11 12]]\n",
      "[5 6 7 8]\n",
      "[ 2  6 10]\n",
      "[[ 6  7]\n",
      " [10 11]]\n",
      "[[ 1  2  3  4]\n",
      " [ 5 16 17  8]\n",
      " [ 9 20 21 12]]\n",
      "[[1001 1003 1005 1007]\n",
      " [1005 1017 1019 1011]\n",
      " [1009 1021 1023 1015]]\n",
      "[[201001 201003 201005 201007]\n",
      " [301005 301017 301019 301011]\n",
      " [401009 401021 401023 401015]]\n",
      "[[1 1 0 1]\n",
      " [0 1 1 1]\n",
      " [1 1 1 0]]\n"
     ]
    }
   ],
   "source": [
    "# 普通数组\n",
    "a = list(range(1, 6))\n",
    "# 重复\n",
    "print( a * 2)\n",
    "# print( a + 2 )\n",
    "b = list(range(4, 7))\n",
    "print(b)\n",
    "print(a + b)\n",
    "\n",
    "import numpy as np\n",
    "\n",
    "c = np.array([[1, 2,], [3, 4]])\n",
    "d = np.array([[5, 6,], [7, 8]])\n",
    "e = c * 2\n",
    "print(c)\n",
    "print(e)\n",
    "f = c + 10\n",
    "print(f)\n",
    "g = c + d\n",
    "print(g)\n",
    "h = c * d\n",
    "print(h)\n",
    "\n",
    "def f(x):\n",
    "    return 3 * x**2 - 2 * x + 7\n",
    "\n",
    "print(f(c))\n",
    "\n",
    "# 通用函数\n",
    "i = np.sqrt(c)\n",
    "print(i)\n",
    "j = np.cos(c)\n",
    "print(j)\n",
    "\n",
    "# grid = np.zeros(shape=(10000, 10000), dtype=float)\n",
    "# print(grid)\n",
    "# print(grid.shape)\n",
    "# grid += 10\n",
    "# print(grid)\n",
    "\n",
    "# k = np.sin(grid)\n",
    "# print(k)\n",
    "\n",
    "l = np.array([[1, 2,3 ,4], [5, 6, 7 ,8], [9, 10, 11, 12]])\n",
    "print(l)\n",
    "\n",
    "print(l[1])\n",
    "print(l[:, 1])\n",
    "print(l[1:3, 1:3])\n",
    "l[1:3, 1:3] += 10\n",
    "print(l)\n",
    "k = [1000, 1001, 1002, 1003]\n",
    "# 一行会广播到所有行\n",
    "l += k\n",
    "print(l)\n",
    "m = [[200000,], [300000, ], [400000,]]\n",
    "# 一列会广播到所有列\n",
    "l += m\n",
    "print(l)\n",
    "\n",
    "# 条件\n",
    "# 第一个参数，条件，第二个参数，满足条件选择的值，第三个参数，不满足选择的值\n",
    "n = np.where(l % 5 == 0, l, 1)\n",
    "print(n)"
   ]
  },
  {
   "cell_type": "code",
   "execution_count": 28,
   "id": "10d66eab-ab0f-433f-82d5-df604927f4c7",
   "metadata": {},
   "outputs": [
    {
     "name": "stdout",
     "output_type": "stream",
     "text": [
      "[[ 1 -2  3]\n",
      " [ 0  4  5]\n",
      " [ 7  8 -9]]\n",
      "Transpose\n",
      "[[ 1  0  7]\n",
      " [-2  4  8]\n",
      " [ 3  5 -9]]\n",
      "Inverse\n",
      "[[ 0.33043478 -0.02608696  0.09565217]\n",
      " [-0.15217391  0.13043478  0.02173913]\n",
      " [ 0.12173913  0.09565217 -0.0173913 ]]\n",
      "[[2]\n",
      " [3]\n",
      " [4]]\n",
      "[[ 8]\n",
      " [32]\n",
      " [ 2]]\n",
      "-2.0000000000000004\n",
      "[-0.37228132  5.37228132]\n",
      "[[-2. ]\n",
      " [ 2.5]]\n",
      "[[3.]\n",
      " [4.]]\n"
     ]
    }
   ],
   "source": [
    "# 3.10 matrix\n",
    "import numpy as np\n",
    "\n",
    "a = np.matrix([[1, -2, 3], [0, 4, 5], [7, 8, -9]])\n",
    "print(a)\n",
    "print('Transpose')\n",
    "print(a.T)\n",
    "print(\"Inverse\")\n",
    "print(a.I)\n",
    "# column vector\n",
    "b = np.matrix([[2], [3,], [4]])\n",
    "print(b)\n",
    "# 3 x 3 * 3 x 1\n",
    "c = a * b\n",
    "print(c)\n",
    "# illeagel\n",
    "# d = b * a\n",
    "\n",
    "e = np.matrix([[1, 2], [3, 4]])\n",
    "# 行列式值\n",
    "f = np.linalg.det(e)\n",
    "print(f)\n",
    "# 特征值\n",
    "g = np.linalg.eigvals(e)\n",
    "print(g)\n",
    "\n",
    "h = np.matrix([[3,], [4,]])\n",
    "i = np.linalg.solve(e, h)\n",
    "print(i)\n",
    "\n",
    "print(e * i)"
   ]
  },
  {
   "cell_type": "code",
   "execution_count": 49,
   "id": "124d81b5-97d2-4099-8050-503ea870fda2",
   "metadata": {},
   "outputs": [
    {
     "name": "stdout",
     "output_type": "stream",
     "text": [
      "10\n",
      "10\n",
      "13\n",
      "16\n",
      "10\n",
      "[4, 7, 10, 13, 16, 19]\n",
      "[10, 4]\n",
      "[4, 7, 10, 13, 16, 19]\n",
      "[7, 4, 19, 16]\n",
      "[4, 7, 10, 13, 16, 19]\n",
      "[7, 19, 4, 13, 16, 10]\n",
      "[19, 4, 16, 13, 7, 10]\n",
      "8\n",
      "10\n",
      "2\n",
      "10\n",
      "9\n",
      "0.5568493447729342\n",
      "801644633269099095\n",
      "0.5867227063120813\n",
      "3917795348884808598\n",
      "0.013854543621413584\n",
      "16087972791579549240\n",
      "0.47785472878513047\n",
      "10844824371639165883\n",
      "0.49112421588460486\n",
      "89154406970523187\n",
      "5.282190976517604\n",
      "-0.059461592536176215\n",
      "13\n",
      "105819562440860193343396057272166505752\n",
      "16\n"
     ]
    }
   ],
   "source": [
    "# 3.11\n",
    "a = list(range(4, 20, 3))\n",
    "import random\n",
    "for i in range(5):\n",
    "    print(random.choice(a))\n",
    "\n",
    "print(a)\n",
    "print(random.sample(a, 2))\n",
    "print(a)\n",
    "print(random.sample(a, 4))\n",
    "\n",
    "print(a)\n",
    "\n",
    "random.shuffle(a)\n",
    "print(a)\n",
    "random.shuffle(a)\n",
    "print(a)\n",
    "\n",
    "for i in range(5):\n",
    "    print(random.randint(1, 10))\n",
    "\n",
    "# 0 ~ 1 float\n",
    "for i in range(5):\n",
    "    print(random.random())\n",
    "    # N 个随机比特位表示整数\n",
    "    print(random.getrandbits(64))\n",
    "\n",
    "k = random.uniform(5, 10)\n",
    "print(k)\n",
    "\n",
    "mu = 0  # 均值\n",
    "sigma = 1  # 标准差\n",
    "\n",
    "random_number = random.gauss(mu, sigma)\n",
    "print(random_number)\n",
    "\n",
    "\n",
    "import ssl\n",
    "j = ssl.RAND_bytes(1)\n",
    "print(int.from_bytes(j))\n",
    "\n",
    "l = ssl.RAND_bytes(16)\n",
    "print(int.from_bytes(l))\n",
    "print(len(l))"
   ]
  },
  {
   "cell_type": "code",
   "execution_count": 69,
   "id": "377a3298-bf3f-43a7-90e9-6b89b310d876",
   "metadata": {},
   "outputs": [
    {
     "name": "stdout",
     "output_type": "stream",
     "text": [
      "86400\n",
      "2 37800 10.5 58.5\n",
      "2023-07-24 00:00:00\n",
      "2023-08-03 00:00:00\n",
      "66 days, 0:00:00\n",
      "2023-07-25 22:54:08.517421\n",
      "2023-07-25 22:54:08.517453\n",
      "2023-07-25 23:04:08.517453\n",
      "2\n",
      "1\n",
      "2023-07-12 00:00:00\n",
      "2023-08-12 00:00:00\n",
      "2023-11-12 00:00:00\n",
      "2022-11-12 00:00:00\n",
      "216 days, 0:00:00 216\n",
      "relativedelta(months=+7, days=+1) 7 1\n"
     ]
    }
   ],
   "source": [
    "import datetime\n",
    "\n",
    "def day_to_seconds(n:int=0):\n",
    "    return 24 * 60 * 60 * n\n",
    "\n",
    "print(day_to_seconds(1))\n",
    "\n",
    "# 时间间隔\n",
    "a = datetime.timedelta(days=2, hours=6)\n",
    "b = datetime.timedelta(hours=4.5)\n",
    "c = a + b\n",
    "print(c.days, c.seconds, c.seconds / 3600, c.total_seconds() / 3600)\n",
    "\n",
    "d = datetime.datetime(2023, 7, 24)\n",
    "print(d)\n",
    "e = d + datetime.timedelta(days = 10)\n",
    "print(e)\n",
    "f = datetime.datetime(2023, 9, 28)\n",
    "g = f - d\n",
    "print(g)\n",
    "\n",
    "h = datetime.datetime.today()\n",
    "i = datetime.datetime.now()\n",
    "print(h)\n",
    "print(i)\n",
    "print(i + datetime.timedelta(minutes=10))\n",
    "\n",
    "# 处理闰年\n",
    "j = datetime.datetime(2012, 3, 1)\n",
    "k = datetime.datetime(2012, 2, 28)\n",
    "print((j - k).days)\n",
    "\n",
    "l = datetime.datetime(2013, 3, 1)\n",
    "m = datetime.datetime(2013, 2, 28)\n",
    "print((l - m).days)\n",
    "\n",
    "# 处理月份\n",
    "from dateutil.relativedelta import relativedelta\n",
    "\n",
    "n = datetime.datetime(2023, 7, 12)\n",
    "o = n + relativedelta(months=+1)\n",
    "print(n)\n",
    "print(o)\n",
    "p = n + relativedelta(months=+4)\n",
    "print(p)\n",
    "q = n + relativedelta(months=-8)\n",
    "print(q)\n",
    "\n",
    "r = datetime.datetime(2022, 7, 11)\n",
    "s = datetime.datetime(2023, 2, 12)\n",
    "t = s - r\n",
    "u = relativedelta(s, r)\n",
    "print(t, t.days)\n",
    "print(u, u.months, u.days)"
   ]
  },
  {
   "cell_type": "code",
   "execution_count": 79,
   "id": "46824ecd-3d16-4432-9384-c6edb028eb86",
   "metadata": {},
   "outputs": [
    {
     "name": "stdout",
     "output_type": "stream",
     "text": [
      "2023-07-24 09:52:17.108059\n",
      "2023-07-21 09:52:17.108170\n",
      "2023-07-28 09:52:17.108291\n",
      "2023-07-21 09:52:17.108291\n"
     ]
    }
   ],
   "source": [
    "# 计算日期\n",
    "from datetime import datetime, timedelta\n",
    "WEEK_DAYS = [\n",
    "    'Monday',\n",
    "    'Tuesday',\n",
    "    'Wednesay',\n",
    "    'Thursday',\n",
    "    'Friday',\n",
    "    'Saturday',\n",
    "    'Sunday'\n",
    "]\n",
    "\n",
    "def get_previous_byday(dayname, start_date=None):\n",
    "    dayname = dayname.lower().capitalize()\n",
    "    if start_date == None:\n",
    "        start_date = datetime.today()\n",
    "\n",
    "    day_num = start_date.weekday()\n",
    "    day_num_target = WEEK_DAYS.index(dayname)\n",
    "    # 两个日期之间的间隔\n",
    "    days_ago = (day_num + 7 - day_num_target) % 7\n",
    "    if days_ago == 0:\n",
    "        days_ago = 7\n",
    "    target_date = start_date - timedelta(days=days_ago)\n",
    "    return target_date\n",
    "\n",
    "a = get_previous_byday('Monday')\n",
    "print(a)\n",
    "b = get_previous_byday('friday')\n",
    "print(b)\n",
    "\n",
    "from dateutil.relativedelta import relativedelta\n",
    "from dateutil import rrule\n",
    "c = datetime.now()\n",
    "# 下一个周五日期\n",
    "d = c + relativedelta(weekday=rrule.FR)\n",
    "print(d)\n",
    "\n",
    "# 上一个周五\n",
    "f = c + relativedelta(weekday=rrule.FR(-1))\n",
    "print(f)"
   ]
  },
  {
   "cell_type": "code",
   "execution_count": 71,
   "id": "112d841d-49b2-477d-8ecd-e0124374e7b0",
   "metadata": {},
   "outputs": [
    {
     "name": "stdout",
     "output_type": "stream",
     "text": [
      "2023-07-25 23:00:25.070568 1\n"
     ]
    }
   ],
   "source": [
    "from datetime import datetime\n",
    "\n",
    "a = datetime.today()\n",
    "print(a, a.weekday())"
   ]
  },
  {
   "cell_type": "code",
   "execution_count": 93,
   "id": "65c67072-cf33-40b2-a3a1-322a3a64b751",
   "metadata": {},
   "outputs": [
    {
     "name": "stdout",
     "output_type": "stream",
     "text": [
      "(datetime.date(2023, 2, 1), datetime.date(2023, 3, 1))\n",
      "2023-07-01\n",
      "2023-07-02\n",
      "2023-07-03\n",
      "2023-07-04\n",
      "2023-07-05\n",
      "2023-07-06\n",
      "2023-07-07\n",
      "2023-07-08\n",
      "2023-07-09\n",
      "2023-07-10\n",
      "2023-07-11\n",
      "2023-07-12\n",
      "2023-07-13\n",
      "2023-07-14\n",
      "2023-07-15\n",
      "2023-07-16\n",
      "2023-07-17\n",
      "2023-07-18\n",
      "2023-07-19\n",
      "2023-07-20\n",
      "2023-07-21\n",
      "2023-07-22\n",
      "2023-07-23\n",
      "2023-07-24\n",
      "2023-07-25\n",
      "2023-07-26\n",
      "2023-07-27\n",
      "2023-07-28\n",
      "2023-07-29\n",
      "2023-07-30\n",
      "2023-07-31\n",
      "2022-02-01 00:00:00\n",
      "2022-02-01 06:00:00\n",
      "2022-02-01 12:00:00\n",
      "2022-02-01 18:00:00\n",
      "2022-02-02 00:00:00\n",
      "2022-02-02 06:00:00\n",
      "2022-02-02 12:00:00\n",
      "2022-02-02 18:00:00\n",
      "2022-02-03 00:00:00\n",
      "2022-02-03 06:00:00\n",
      "2022-02-03 12:00:00\n",
      "2022-02-03 18:00:00\n",
      "2022-02-04 00:00:00\n",
      "2022-02-04 06:00:00\n",
      "2022-02-04 12:00:00\n",
      "2022-02-04 18:00:00\n"
     ]
    }
   ],
   "source": [
    "# 3.14\n",
    "from datetime import datetime, date, timedelta\n",
    "import calendar\n",
    "\n",
    "def get_month_range(start_date=None):\n",
    "    if start_date is None:\n",
    "        start_date = date.today().replace(day=1)\n",
    "    elif start_date.day != 1:\n",
    "        start_date = start_date.date().replace(day=1)\n",
    "        \n",
    "    _, days_in_month = calendar.monthrange(start_date.year, start_date.month)\n",
    "    end_date = start_date + timedelta(days=days_in_month)\n",
    "    return (start_date, end_date)\n",
    "\n",
    "a = get_month_range(datetime(2023, 2, 2))\n",
    "print(a)\n",
    "first_day, last_day = get_month_range()\n",
    "a_day = timedelta(days=1)\n",
    "while first_day < last_day:\n",
    "    print(first_day)\n",
    "    first_day += a_day\n",
    "\n",
    "def date_range(start, stop, step):\n",
    "    while start < stop:\n",
    "        yield start\n",
    "        start += step\n",
    "\n",
    "for d in date_range(datetime(2022, 2, 1), datetime(2022, 2, 5), timedelta(hours=6)):\n",
    "    print(d)"
   ]
  },
  {
   "cell_type": "code",
   "execution_count": 90,
   "id": "4afbece0-81bb-4a5a-9e84-0138770740bf",
   "metadata": {},
   "outputs": [
    {
     "name": "stdout",
     "output_type": "stream",
     "text": [
      "2023-07-01\n",
      "(5, 31)\n",
      "2023-07-21\n"
     ]
    }
   ],
   "source": [
    "from datetime import date, datetime\n",
    "import calendar\n",
    "\n",
    "print(date.today().replace(day=1))\n",
    "print(calendar.monthrange(2023, 7))\n",
    "\n",
    "a = datetime(2023, 7, 21)\n",
    "print(a.date())"
   ]
  },
  {
   "cell_type": "code",
   "execution_count": 99,
   "id": "9ca77152-b1b4-40da-81b7-fa9aca7e1607",
   "metadata": {},
   "outputs": [
    {
     "name": "stdout",
     "output_type": "stream",
     "text": [
      "2012-09-20 00:00:00\n",
      "3961 days, 10:28:32.511198\n",
      "Wednesday July 26, 2023\n",
      "2023-08-11 00:00:00\n"
     ]
    }
   ],
   "source": [
    "# 3.15\n",
    "from datetime import datetime, timedelta\n",
    "\n",
    "a = '2012-09-20'\n",
    "b = datetime.strptime(a, '%Y-%m-%d')\n",
    "print(b)\n",
    "c = datetime.now()\n",
    "d = c - b\n",
    "print(d)\n",
    "\n",
    "e = datetime.strftime(c, '%A %B %d, %Y')\n",
    "print(e)\n",
    "\n",
    "# strptime 性能不好\n",
    "def parse_ymd(s):\n",
    "    '''\n",
    "    2023-01-02\n",
    "    '''\n",
    "    year_s, mon_s, day_s = s.split('-')\n",
    "    return datetime(int(year_s), int(mon_s), int(day_s))\n",
    "\n",
    "f = parse_ymd('2023-08-11')\n",
    "print(f)"
   ]
  },
  {
   "cell_type": "code",
   "execution_count": 2,
   "id": "ae6ae80a-ecb2-44f3-bb71-7791387e0693",
   "metadata": {},
   "outputs": [
    {
     "name": "stdout",
     "output_type": "stream",
     "text": [
      "Looking in indexes: https://pypi.tuna.tsinghua.edu.cn/simple\n",
      "Requirement already satisfied: pytz in /app/projects/pycookbook/venv/lib/python3.11/site-packages (2023.3)\n",
      "\n",
      "\u001b[1m[\u001b[0m\u001b[34;49mnotice\u001b[0m\u001b[1;39;49m]\u001b[0m\u001b[39;49m A new release of pip is available: \u001b[0m\u001b[31;49m23.1.2\u001b[0m\u001b[39;49m -> \u001b[0m\u001b[32;49m23.2.1\u001b[0m\n",
      "\u001b[1m[\u001b[0m\u001b[34;49mnotice\u001b[0m\u001b[1;39;49m]\u001b[0m\u001b[39;49m To update, run: \u001b[0m\u001b[32;49mpip install --upgrade pip\u001b[0m\n"
     ]
    }
   ],
   "source": [
    "!pip install pytz"
   ]
  },
  {
   "cell_type": "code",
   "execution_count": 9,
   "id": "2fa0a090-1056-4337-be40-9dedc80c9e95",
   "metadata": {},
   "outputs": [
    {
     "name": "stdout",
     "output_type": "stream",
     "text": [
      "2022-04-23 09:10:01\n",
      "2022-04-23 09:10:01-05:00\n",
      "2022-04-23 09:10:01+08:00\n",
      "2022-04-23 09:40:01+08:00\n",
      "2022-04-22 20:40:01-05:00\n",
      "2022-04-23 01:10:01+00:00\n",
      "['Asia/Shanghai', 'Asia/Urumqi']\n"
     ]
    }
   ],
   "source": [
    "# 3.16 时区问题\n",
    "from datetime import datetime, timedelta\n",
    "from pytz import timezone\n",
    "import pytz\n",
    "\n",
    "a = datetime(2022, 4, 23, 9, 10, 1)\n",
    "print(a)\n",
    "b = timezone('US/Central')\n",
    "c = b.localize(a)\n",
    "print(c)\n",
    "d = timezone('Asia/Shanghai')\n",
    "e = d.localize(a)\n",
    "print(e)\n",
    "\n",
    "f = e + timedelta(minutes=30)\n",
    "print(f)\n",
    "g = b.normalize(e + timedelta(minutes=30))\n",
    "print(g)\n",
    "\n",
    "utc_d = e.astimezone(pytz.utc)\n",
    "print(utc_d)\n",
    "\n",
    "# iso 3166 国家代码\n",
    "print(pytz.country_timezones['CN'])"
   ]
  }
 ],
 "metadata": {
  "kernelspec": {
   "display_name": "Python 3 (ipykernel)",
   "language": "python",
   "name": "python3"
  },
  "language_info": {
   "codemirror_mode": {
    "name": "ipython",
    "version": 3
   },
   "file_extension": ".py",
   "mimetype": "text/x-python",
   "name": "python",
   "nbconvert_exporter": "python",
   "pygments_lexer": "ipython3",
   "version": "3.11.3"
  }
 },
 "nbformat": 4,
 "nbformat_minor": 5
}
