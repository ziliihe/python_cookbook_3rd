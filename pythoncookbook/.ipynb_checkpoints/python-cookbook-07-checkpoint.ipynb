{
 "cells": [
  {
   "cell_type": "code",
   "execution_count": null,
   "id": "574ac45b-d5ec-48ff-8a6a-e0ca936bc75d",
   "metadata": {},
   "outputs": [],
   "source": [
    "# 函数"
   ]
  },
  {
   "cell_type": "code",
   "execution_count": 7,
   "id": "870749c1-faf4-459e-84f4-84d7802e2c36",
   "metadata": {},
   "outputs": [
    {
     "name": "stdout",
     "output_type": "stream",
     "text": [
      "hello 1 [1, 32, 9, 21] (23, 98) ok, go \n",
      "1.5\n",
      "3.0\n"
     ]
    }
   ],
   "source": [
    "# 7.1 编写可接受任意数量参数的函数\n",
    "def myprint(first, *rest):\n",
    "    print(first, end=' ')\n",
    "    for ele in rest:\n",
    "        print(ele, end=' ')\n",
    "        \n",
    "\n",
    "myprint('hello', 1, [1, 32, 9, 21], (23, 98), 'ok, go')\n",
    "\n",
    "def avg(first, *rest):\n",
    "    return (first + sum(rest)) / (1 + len(rest))\n",
    "\n",
    "a = avg(1, 2)\n",
    "b = avg(1, 2, 3, 4, 5)\n",
    "print()\n",
    "print(a)\n",
    "print(b)"
   ]
  },
  {
   "cell_type": "code",
   "execution_count": 17,
   "id": "027b9b59-5cac-459f-8cb5-4e7b04d9d63f",
   "metadata": {},
   "outputs": [
    {
     "name": "stdout",
     "output_type": "stream",
     "text": [
      "<item('size', 'large') = \"('size', 'large')\"('quantity', 6) = \"('quantity', 6)\">(&#x27;size&#x27;, &#x27;large&#x27;) = &quot;(&#x27;size&#x27;, &#x27;large&#x27;)&quot;(&#x27;quantity&#x27;, 6) = &quot;(&#x27;quantity&#x27;, 6)&quot;</item>\n",
      "([1, 3, 4],)\n",
      "{'a': 11, 'b': 21, 'c': 44, 'd': 55}\n",
      "<function c at 0x7fcda6d979c0>\n",
      "<function d at 0x7fcda6d95580>\n"
     ]
    }
   ],
   "source": [
    "import html\n",
    "\n",
    "def make_element(name, value, **attrs):\n",
    "    keyvals  = [f'{item} = \"{item}\"' for item in attrs.items()]\n",
    "    attr_str = ''.join(keyvals)\n",
    "    element  = f'<{name}{attr_str}>{html.escape(attr_str)}</{name}>'\n",
    "    \n",
    "    return element\n",
    "\n",
    "\n",
    "e1 = make_element('item', 'Albatross', size='large', quantity=6)\n",
    "print(e1)\n",
    "\n",
    "\n",
    "def anyargs(*args, **kwargs):\n",
    "    print(args)\n",
    "    print(kwargs)\n",
    "\n",
    "a = [1, 3, 4]\n",
    "b = {'a': 11, 'b': 23, 'c': 55}\n",
    "anyargs(a, a=11, b=21, c=44, d=55)\n",
    "\n",
    "def c(x, *args, y):\n",
    "    pass\n",
    "print(c)\n",
    "def d(x, *args, y, **kwargs):\n",
    "    pass\n",
    "print(d)"
   ]
  },
  {
   "cell_type": "code",
   "execution_count": 20,
   "id": "30f5ef38-0c6a-46f0-b8bf-ae8935f54702",
   "metadata": {},
   "outputs": [
    {
     "name": "stdout",
     "output_type": "stream",
     "text": [
      "1024 True\n",
      "-10\n",
      "10\n"
     ]
    }
   ],
   "source": [
    "# 7.2 编写只接受关键字函数\n",
    "def recv(maxsize, *, block):\n",
    "    print(maxsize, block)\n",
    "\n",
    "# recv(1024, True)\n",
    "recv(1024, block=True)\n",
    "\n",
    "def minium(*values, clip=None):\n",
    "    m = min(values)\n",
    "    if clip is not None:\n",
    "        m = clip if clip > m else m\n",
    "    return m\n",
    "\n",
    "print(minium(1, 5, 24, -10, 44))\n",
    "print(minium(1, 5, 24, -10, 44, clip=10))"
   ]
  },
  {
   "cell_type": "code",
   "execution_count": 25,
   "id": "c783f6a2-5342-4ea8-8af0-b681694826f7",
   "metadata": {},
   "outputs": [
    {
     "name": "stdout",
     "output_type": "stream",
     "text": [
      "77\n",
      "Help on function add in module __main__:\n",
      "\n",
      "add(a: int = 11, b: int = 24) -> int\n",
      "    # 7.3 函数附加信息\n",
      "\n",
      "{'a': <class 'int'>, 'b': <class 'int'>, 'return': <class 'int'>}\n"
     ]
    }
   ],
   "source": [
    "# 7.3 函数附加信息\n",
    "def add(a:int=11, b:int=24)->int:\n",
    "    return a + b\n",
    "\n",
    "print(add(55, 22))\n",
    "help(add)\n",
    "print(add.__annotations__)"
   ]
  },
  {
   "cell_type": "code",
   "execution_count": 27,
   "id": "ea1fd114-1b72-4b75-b108-e81739b269b9",
   "metadata": {},
   "outputs": [
    {
     "name": "stdout",
     "output_type": "stream",
     "text": [
      "<class 'tuple'>\n"
     ]
    }
   ],
   "source": [
    "# 7.4 函数返回多个值\n",
    "def multi(a : int=22):\n",
    "    return a, a ** 2, a ** 3\n",
    "\n",
    "a = multi(11)\n",
    "print(type(a))"
   ]
  },
  {
   "cell_type": "code",
   "execution_count": 32,
   "id": "42f60f29-ae81-479d-bfcb-9418c8369f98",
   "metadata": {},
   "outputs": [
    {
     "name": "stdout",
     "output_type": "stream",
     "text": [
      "5\n",
      "hello world\n",
      "['Ned Batchelder', 'David Beazley', 'Raymond Hettinger', 'Brian Jones']\n"
     ]
    }
   ],
   "source": [
    "# 7.6 匿名函数和内联函数\n",
    "add = lambda x, y: x + y\n",
    "print(add(3, 2))\n",
    "print(add('hello ', 'world'))\n",
    "\n",
    "names = ['David Beazley', 'Brian Jones', 'Raymond Hettinger', 'Ned Batchelder']\n",
    "a = sorted(names, key=lambda name : name.split()[-1].lower())\n",
    "print(a)"
   ]
  },
  {
   "cell_type": "code",
   "execution_count": 38,
   "id": "cbed11a0-d6c4-487c-b784-508132efe0a9",
   "metadata": {},
   "outputs": [
    {
     "name": "stdout",
     "output_type": "stream",
     "text": [
      "15\n",
      "25\n",
      "60\n",
      "270\n",
      "100\n",
      "101\n",
      "102\n",
      "103\n",
      "104\n"
     ]
    }
   ],
   "source": [
    "# 7.7 匿名函数绑定值\n",
    "x = 10\n",
    "a = lambda y: x + y\n",
    "print(a(5))\n",
    "\n",
    "x = 20\n",
    "print(a(5))\n",
    "\n",
    "b = lambda y, x=30: x * y\n",
    "print(b(2))\n",
    "x = 99\n",
    "print(b(9))\n",
    "\n",
    "funcs = [lambda x, n=n : x + n for n in range(5)]\n",
    "for f in funcs:\n",
    "    print(f(100))"
   ]
  },
  {
   "cell_type": "code",
   "execution_count": 49,
   "id": "7eac6e0e-2316-43a4-8c60-cca7e1043bcb",
   "metadata": {},
   "outputs": [
    {
     "name": "stdout",
     "output_type": "stream",
     "text": [
      "[spam] a = 1, b = 2, c = 3, d = 4\n",
      "[spam] a = 1, b = 2, c = 3, d = 32\n",
      "[spam] a = 1, b = 2, c = 3, d = 4\n",
      "[spam] a = 1, b = 3, c = 99, d = 22\n"
     ]
    }
   ],
   "source": [
    "# 7.8 减少函数调用的传入参数\n",
    "def spam(a, b, c, d):\n",
    "    print(f\"[spam] a = {a}, b = {b}, c = {c}, d = {d}\")\n",
    "\n",
    "from functools import partial\n",
    "\n",
    "a = partial(spam, 1)\n",
    "a(2, 3, 4)\n",
    "\n",
    "b = partial(spam, d=32)\n",
    "b(1, 2, 3)\n",
    "\n",
    "c = partial(spam, 1, 2, 3, 4)\n",
    "c()\n",
    "\n",
    "d = partial(spam, 1, 3, d=22)\n",
    "d(99)"
   ]
  },
  {
   "cell_type": "code",
   "execution_count": 56,
   "id": "03b8e942-10df-4011-84a3-7ce68a438043",
   "metadata": {},
   "outputs": [
    {
     "name": "stdout",
     "output_type": "stream",
     "text": [
      "200\n",
      "200\n"
     ]
    }
   ],
   "source": [
    "# 7.9 使用函数替代只有单个方法的类\n",
    "# 可以通过闭包c转换哼函数\n",
    "import requests\n",
    "\n",
    "class UrlTemplate:\n",
    "    def __init__(self, template):\n",
    "        self.template = template\n",
    "\n",
    "    def open(self, **kwargs):\n",
    "        return requests.get(self.template.format_map(kwargs))\n",
    "dbmp4 = UrlTemplate(\"https://www.dbmp4.com/search/?wd={filmname}\")\n",
    "response = dbmp4.open(filmname='死神')\n",
    "print(response.status_code)\n",
    "# print(response.content)\n",
    "\n",
    "# 具体来说，闭包函数可以满足以下两个条件：\n",
    "\n",
    "# 它必须有一个内部函数。\n",
    "# 内部函数必须引用外部函数中的一个或多个变量。\n",
    "\n",
    "# 闭包的核心特性就是它可以记住定义闭包时的环境\n",
    "\n",
    "def urlTemp(template):\n",
    "    def opener(**kwargs):\n",
    "        return requests.get(template.format_map(kwargs))\n",
    "    return opener\n",
    "\n",
    "mp4 = urlTemp(\"https://www.dbmp4.com/search/?wd={filmname}\")\n",
    "\n",
    "newresponse = mp4(filmname='死神')\n",
    "print(newresponse.status_code)"
   ]
  },
  {
   "cell_type": "code",
   "execution_count": 69,
   "id": "b6dc7b19-f424-4c4f-af42-553f97ea0211",
   "metadata": {},
   "outputs": [
    {
     "name": "stdout",
     "output_type": "stream",
     "text": [
      "Got: 5\n",
      "Got: hello world\n",
      "[class] [1] Got: 5\n",
      "[class] [2] Got: hello world\n",
      "[closure] [1] Got: 5\n",
      "[closure] [2] Got: hello world\n",
      "[coroutine] [1] Got: 5\n",
      "[coroutine] [2] Got: hello world\n",
      "[extend] [1] Got: 5\n",
      "[extend] [2] Got: hello world\n"
     ]
    }
   ],
   "source": [
    "# 7.10 在回调函数中携带额外的状态\n",
    "# 回调函数代码：事件处理例程，完成回调\n",
    "\n",
    "def apply_async(func, args, *, callback):\n",
    "    result = func(*args)\n",
    "    # 此函数在接受参数时，接受了一个回调函数，在执行完成之后执行次函数的调用\n",
    "    callback(result)\n",
    "\n",
    "\n",
    "def print_result(result):\n",
    "    print(f'Got: {result}')\n",
    "\n",
    "add = lambda x, y: x + y\n",
    "\n",
    "apply_async(add, (2, 3), callback=print_result)\n",
    "apply_async(add, ('hello ', 'world'), callback=print_result)\n",
    "\n",
    "# 回调函数中携带额外信息，使用绑定方法\n",
    "\n",
    "class ResultHandler:\n",
    "    def __init__(self):\n",
    "        self.sequence = 0\n",
    "\n",
    "    def handler(self, result):\n",
    "        self.sequence += 1\n",
    "        print(f\"[class] [{self.sequence}] Got: {result}\")\n",
    "\n",
    "# create a class instance, use its handler method\n",
    "r = ResultHandler()\n",
    "apply_async(add, (2, 3), callback=r.handler)\n",
    "apply_async(add, ('hello ', 'world'), callback=r.handler)\n",
    "\n",
    "# global 声明用于将一个局部变量声明为全局变量，从而使得函数内部可以修改全局变量的值\n",
    "def make_handler():\n",
    "    sequence = 0\n",
    "    def handler(result):\n",
    "        # nonlocal 声明用于将一个内层函数的局部变量声明为外层函数的局部变量\n",
    "        nonlocal sequence\n",
    "        sequence += 1\n",
    "        print(f\"[closure] [{sequence}] Got: {result}\")\n",
    "    return handler\n",
    "\n",
    "handler = make_handler()\n",
    "apply_async(add, (2, 3), callback=handler)\n",
    "apply_async(add, ('hello ', 'world'), callback=handler)\n",
    "\n",
    "# coroutine \n",
    "def make_handler_coroutine():\n",
    "    sequence = 0\n",
    "    while True:\n",
    "        # 协程函数的核心方法是 yield，它允许函数在执行过程中暂停，并将控制权返回给调用者。\n",
    "        result = yield\n",
    "        sequence += 1\n",
    "        print(f\"[coroutine] [{sequence}] Got: {result}\")\n",
    "\n",
    "nhandler = make_handler_coroutine()\n",
    "next(nhandler) # 预激协程\n",
    "# 对于协程来说，可以使用它的 send 方法作为回调函数\n",
    "apply_async(add, (2, 3), callback=nhandler.send)\n",
    "apply_async(add, ('hello ', 'world'), callback=nhandler.send)\n",
    "\n",
    "# 额外参数在回调函数中携带状态\n",
    "from functools import partial\n",
    "\n",
    "class SequnceNo:\n",
    "    def __init__(self):\n",
    "        self.sequence = 0\n",
    "\n",
    "\n",
    "def extend_handler(result, seq):\n",
    "    seq.sequence += 1\n",
    "    print(f\"[extend] [{seq.sequence}] Got: {result}\")\n",
    "\n",
    "seq = SequnceNo()\n",
    "apply_async(add, (2, 3), callback=partial(extend_handler, seq=seq))\n",
    "apply_async(add, ('hello ', 'world'), callback=partial(extend_handler, seq=seq))\n",
    "\n",
    "# all in all\n",
    "# two ways keep status\n",
    "# 1. closure\n",
    "# 2. class"
   ]
  },
  {
   "cell_type": "code",
   "execution_count": 74,
   "id": "436c87e1-8dc6-4846-84f6-e7f7c705030b",
   "metadata": {},
   "outputs": [
    {
     "name": "stdout",
     "output_type": "stream",
     "text": [
      "5\n",
      "helloworld\n",
      "0\n",
      "2\n",
      "4\n",
      "6\n",
      "8\n",
      "10\n",
      "12\n",
      "14\n",
      "16\n",
      "18\n",
      "Goodbye\n"
     ]
    }
   ],
   "source": [
    "# 7.11 内联回调函数\n",
    "# 生成器和协程将回调函数内联到一个函数中\n",
    "\n",
    "def apply_async(func, args, *, callback):\n",
    "    result = func(*args)\n",
    "    callback(result)\n",
    "\n",
    "\n",
    "from queue import Queue\n",
    "from functools import wraps\n",
    "\n",
    "\n",
    "class Async:\n",
    "    def __init__(self, func, args):\n",
    "        self.func = func\n",
    "        self.args = args\n",
    "\n",
    "\n",
    "def inlined_async(func):\n",
    "    @wraps(func)\n",
    "    def wrapper(*args):\n",
    "        f = func(*args)\n",
    "        result_queue = Queue()\n",
    "        result_queue.put(None)\n",
    "        while True:\n",
    "            result = result_queue.get()\n",
    "            try:\n",
    "                a = f.send(result)\n",
    "                apply_async(a.func, a.args, callback=result_queue.put)\n",
    "            except StopIteration:\n",
    "                break\n",
    "    return wrapper\n",
    "\n",
    "\n",
    "def add(x, y):\n",
    "    return x + y\n",
    "\n",
    "@inlined_async\n",
    "def test():\n",
    "    r = yield Async(add, (2, 3))\n",
    "    print(r)\n",
    "    r = yield Async(add, ('hello', 'world'))\n",
    "    print(r)\n",
    "\n",
    "    for n in range(10):\n",
    "        r = yield Async(add, (n, n))\n",
    "        print(r)\n",
    "    print('Goodbye')\n",
    "\n",
    "test()"
   ]
  },
  {
   "cell_type": "code",
   "execution_count": 81,
   "id": "a34b1dfa-b453-4fe7-a599-1952d9a677bc",
   "metadata": {},
   "outputs": [
    {
     "name": "stdout",
     "output_type": "stream",
     "text": [
      "22\n",
      "<__main__.ClosureInstance object at 0x7fcda4f4ca50>\n",
      "2\n",
      "<__main__.ClosureInstance object at 0x7fcda4f4ca50>\n",
      "hello\n"
     ]
    }
   ],
   "source": [
    "# 7.12 访问定义在闭包内层的变量\n",
    "def sample():\n",
    "    n = 0\n",
    "    def func():\n",
    "        print(f'n = {n}')\n",
    "\n",
    "    def get_n():\n",
    "        return n\n",
    "\n",
    "    def set_n(value):\n",
    "        nonlocal n\n",
    "        n = value\n",
    "    # 函数属性能够将存取函数以直接的方式附加到闭包函数上面\n",
    "    func.get_n = get_n\n",
    "    func.set_n = set_n\n",
    "    return func\n",
    "func = sample()\n",
    "func.set_n(22)\n",
    "print(func.get_n())\n",
    "\n",
    "\n",
    "import sys\n",
    "class ClosureInstance:\n",
    "    def __init__(self, locals=None):\n",
    "        if locals is None:\n",
    "            # 获取调用者的局部变量字典\n",
    "            locals = sys._getframe(1).f_locals\n",
    "        self.__dict__.update((k, v) for k, v in locals.items() if callable(v))\n",
    "\n",
    "    def __len__(self):\n",
    "        return self.__dict__['__len__']()\n",
    "\n",
    "def Stack():\n",
    "    items = []\n",
    "\n",
    "    def push(item):\n",
    "        items.append(item)\n",
    "\n",
    "    def pop():\n",
    "        return items.pop()\n",
    "\n",
    "    def __len__():\n",
    "        return len(items)\n",
    "    return ClosureInstance()\n",
    "a = Stack()\n",
    "print(a)\n",
    "\n",
    "a.push(10)\n",
    "a.push('hello')\n",
    "print(len(a))\n",
    "print(a)\n",
    "print(a.pop())"
   ]
  },
  {
   "cell_type": "code",
   "execution_count": 83,
   "id": "0a183e33-72ef-40bf-b809-d8cfddb0c2e4",
   "metadata": {},
   "outputs": [
    {
     "name": "stdout",
     "output_type": "stream",
     "text": [
      "{'self': <ipykernel.zmqshell.ZMQInteractiveShell object at 0x7fcdc52fa550>, 'code_obj': <code object <module> at 0x7fcda55e7880, file \"/tmp/ipykernel_270377/3825742953.py\", line 1>, 'result': <ExecutionResult object at 7fcda4f2e150, execution_count=83 error_before_exec=None error_in_exec=None info=<ExecutionInfo object at 7fcda6ade510, raw_cell=\"import sys\n",
      "print(sys._getframe(1).f_locals)\n",
      "print(..\" store_history=True silent=False shell_futures=True cell_id=0a183e33-72ef-40bf-b809-d8cfddb0c2e4> result=None>, 'async_': False, '__tracebackhide__': '__ipython_bottom__', 'old_excepthook': <bound method IPKernelApp.excepthook of <ipykernel.kernelapp.IPKernelApp object at 0x7fcdc828b7d0>>, 'outflag': True}\n"
     ]
    },
    {
     "ename": "NameError",
     "evalue": "name '__dict__' is not defined",
     "output_type": "error",
     "traceback": [
      "\u001b[0;31m---------------------------------------------------------------------------\u001b[0m",
      "\u001b[0;31mNameError\u001b[0m                                 Traceback (most recent call last)",
      "Cell \u001b[0;32mIn[83], line 3\u001b[0m\n\u001b[1;32m      1\u001b[0m \u001b[38;5;28;01mimport\u001b[39;00m \u001b[38;5;21;01msys\u001b[39;00m\n\u001b[1;32m      2\u001b[0m \u001b[38;5;28mprint\u001b[39m(sys\u001b[38;5;241m.\u001b[39m_getframe(\u001b[38;5;241m1\u001b[39m)\u001b[38;5;241m.\u001b[39mf_locals)\n\u001b[0;32m----> 3\u001b[0m \u001b[38;5;28mprint\u001b[39m(\u001b[38;5;18;43m__dict__\u001b[39;49m())\n",
      "\u001b[0;31mNameError\u001b[0m: name '__dict__' is not defined"
     ]
    }
   ],
   "source": [
    "import sys\n",
    "print(sys._getframe(1).f_locals)"
   ]
  }
 ],
 "metadata": {
  "kernelspec": {
   "display_name": "Python 3 (ipykernel)",
   "language": "python",
   "name": "python3"
  },
  "language_info": {
   "codemirror_mode": {
    "name": "ipython",
    "version": 3
   },
   "file_extension": ".py",
   "mimetype": "text/x-python",
   "name": "python",
   "nbconvert_exporter": "python",
   "pygments_lexer": "ipython3",
   "version": "3.11.3"
  }
 },
 "nbformat": 4,
 "nbformat_minor": 5
}
