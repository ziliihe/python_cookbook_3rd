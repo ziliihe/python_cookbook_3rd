{
 "cells": [
  {
   "cell_type": "code",
   "execution_count": 6,
   "id": "761cd31b-c33c-478f-ae10-947dfabf9465",
   "metadata": {},
   "outputs": [
    {
     "name": "stdout",
     "output_type": "stream",
     "text": [
      "['So', 'is', 'what', 'is', 'happening', 'in', 'the', 'oceans', 'see', 'chart']\n",
      "['So', ' ', 'is', ' ', 'what', ' ', 'is', ';', 'happening', ';', 'in', ',', 'the', ',', 'oceans', ';', '', '(', 'see', ' ', 'chart', ')', '', '.', '']\n"
     ]
    }
   ],
   "source": [
    "import re\n",
    "a = 'So is what is;        happening;  in,   the,oceans;(see chart).'\n",
    "b = re.split(r'[;,\\s\\.\\(\\)]\\s*', a)\n",
    "c = list(filter(None, b))\n",
    "print(c)\n",
    "d = re.split(r'(;|,|\\s|\\.|\\(|\\))\\s*', a)\n",
    "print(d)"
   ]
  },
  {
   "cell_type": "code",
   "execution_count": 8,
   "id": "04ca50ab-95ba-46fd-89b0-c1160f5aa320",
   "metadata": {},
   "outputs": [
    {
     "name": "stdout",
     "output_type": "stream",
     "text": [
      "[11, 'ok', (12, 34, 56), {'x': 11}]\n"
     ]
    }
   ],
   "source": [
    "a = [11, None, '', False, 'ok', (12, 34, 56), [], {'x': 11}, {}]\n",
    "b = list(filter(None, a))\n",
    "print(b)"
   ]
  },
  {
   "cell_type": "code",
   "execution_count": 16,
   "id": "e77ff5d2-0fff-4ba5-b259-719ecfb3e46e",
   "metadata": {},
   "outputs": [
    {
     "name": "stdout",
     "output_type": "stream",
     "text": [
      "['https://www.amazon.us/', 'https://www.microsoft.org/', 'https://archive.org/', 'http://www.alibaba.net/', 'https://www.tencent.cn/']\n",
      "['http://www.jd.com/', 'http://www.alibaba.net/']\n",
      "True\n",
      "http:\n"
     ]
    }
   ],
   "source": [
    "urls = [\n",
    "    'https://www.google.com/',\n",
    "    'https://www.facebook.com/',\n",
    "    'https://www.amazon.us/',\n",
    "    'https://www.apple.com/',\n",
    "    'https://www.microsoft.org/',\n",
    "    'https://archive.org/',\n",
    "    'https://www.uber.com/',\n",
    "    'http://www.jd.com/',\n",
    "    'http://www.alibaba.net/',\n",
    "    'https://www.tencent.cn/'\n",
    "]\n",
    "\n",
    "a = [url for url in urls if url.endswith(('.org/', 'net/', '.us/', '.cn/'))]\n",
    "b = [url for url in urls if url.startswith('http://')]\n",
    "print(a)\n",
    "print(b)\n",
    "\n",
    "# 一定要是元组作为输入的\n",
    "c = ['http:', 'https:']\n",
    "d = 'http://www.alibaba.net/'\n",
    "e = d.startswith(tuple(c))\n",
    "print(e)\n",
    "\n",
    "import re\n",
    "f = re.match('^http:|^https:', d)\n",
    "print(f.group(0))"
   ]
  },
  {
   "cell_type": "code",
   "execution_count": 9,
   "id": "d94258ea-93fb-4039-b285-33f92fa75f6b",
   "metadata": {},
   "outputs": [
    {
     "name": "stdout",
     "output_type": "stream",
     "text": [
      "True\n",
      "True\n",
      "True\n",
      "['Dat1.csv', 'Dat2.csv']\n",
      "False\n",
      "False\n"
     ]
    }
   ],
   "source": [
    "from fnmatch import fnmatch, fnmatchcase\n",
    "\n",
    "a = fnmatch(\"01.txt\", \"*.txt\")\n",
    "print(a)\n",
    "b = fnmatch(\"foo.txt\", \"?oo.txt\")\n",
    "print(b)\n",
    "c = fnmatch(\"Data456.csv\", \"Data[0-9]*\")\n",
    "print(c)\n",
    "d = ['Dat1.csv', 'Dat2.csv', 'config.ini', 'foo.py']\n",
    "f = [name for name in d if fnmatch(name, 'Dat*.csv')]\n",
    "print(f)\n",
    "\n",
    "# windows 不区分大小写\n",
    "e = fnmatch('foo.txt', '*.TXT')\n",
    "print(e)\n",
    "\n",
    "# 区分大小写重要\n",
    "g = fnmatchcase('foo.txt', '*.TXT')\n",
    "print(g)"
   ]
  },
  {
   "cell_type": "code",
   "execution_count": 11,
   "id": "58ba81cc-8396-487f-b751-9c98bac8b007",
   "metadata": {},
   "outputs": [
    {
     "name": "stdout",
     "output_type": "stream",
     "text": [
      "['5412 N CLARK ST', '1060 W ADDISON ST', '2122 N CLARK ST']\n",
      "['5412 N CLARK ST']\n"
     ]
    }
   ],
   "source": [
    "from fnmatch import fnmatchcase\n",
    "\n",
    "addresses = [\n",
    "    '5412 N CLARK ST',\n",
    "    '1060 W ADDISON ST',\n",
    "    '1039 W GRANVILLE AVE',\n",
    "    '2122 N CLARK ST',\n",
    "    '4802 N BROADWAY'\n",
    "]\n",
    "\n",
    "a = [addr for addr in addresses if fnmatchcase(addr, '* ST')]\n",
    "print(a)\n",
    "b = [addr for addr in addresses if fnmatchcase(addr, '54[0-9][0-9] *CLARK*')]\n",
    "print(b)"
   ]
  },
  {
   "cell_type": "code",
   "execution_count": 16,
   "id": "32e11d47-c62e-4660-a208-2b164ab653b3",
   "metadata": {},
   "outputs": [
    {
     "name": "stdout",
     "output_type": "stream",
     "text": [
      "True\n",
      "10\n",
      "[1] yes\n",
      "[2] no\n"
     ]
    }
   ],
   "source": [
    "a = 'yeah, but no, but yeah, but no, but yeah'\n",
    "b = a.startswith('yeah')\n",
    "print(b)\n",
    "c = a.find('no')\n",
    "print(c)\n",
    "\n",
    "# \n",
    "import re\n",
    "d = '11/27/2023'\n",
    "e = 'Nov 27, 2023'\n",
    "\n",
    "if re.match(r'\\d+/\\d+/\\d+', d):\n",
    "    print('[1] yes')\n",
    "else:\n",
    "    print('[2] no')\n",
    "\n",
    "if re.match(r'\\d+/\\d+/\\d+', e):\n",
    "    print(\"[1] yes\")\n",
    "else:\n",
    "    print('[2] no')"
   ]
  },
  {
   "cell_type": "code",
   "execution_count": 35,
   "id": "e1c70b2a-6332-4d79-bc44-d12d1db82ecf",
   "metadata": {},
   "outputs": [
    {
     "name": "stdout",
     "output_type": "stream",
     "text": [
      "[3] Yes\n",
      "[4] No\n",
      "['11/27/2023', '3/13/2023']\n",
      "11/27/2023\n",
      "11/27/2023\n",
      "11\n",
      "11\n",
      "2023\n",
      "('11', '27', '2023')\n",
      "11\n",
      "2023-11-27\n",
      "2023-3-13\n",
      "2023-11-27\n",
      "2023-3-13\n"
     ]
    }
   ],
   "source": [
    "import re\n",
    "\n",
    "a = '11/27/2023'\n",
    "datepat = re.compile(r'\\d+/\\d+/\\d+')\n",
    "# match 方法总是尝试在字符串的开头找到匹配项\n",
    "if datepat.match(a):\n",
    "    print('[3] Yes')\n",
    "else:\n",
    "    print(\"[3] No\")\n",
    "\n",
    "b = '2023-04-10'\n",
    "if datepat.match(b):\n",
    "    print('[4] Yes')\n",
    "else:\n",
    "    print('[4] No')\n",
    "\n",
    "c = 'Today is 11/27/2023. PyCon starts 3/13/2023.'\n",
    "d = datepat.findall(c)\n",
    "print(d)\n",
    "\n",
    "e = re.compile(r'(\\d+)/(\\d+)/(\\d+)')\n",
    "f = e.match(a)\n",
    "print(f.group(0))\n",
    "print(f[0])\n",
    "print(f.group(1))\n",
    "print(f[1])\n",
    "print(f.group(3))\n",
    "print(f.groups())\n",
    "month, day, year = f.groups()\n",
    "print(month)\n",
    "\n",
    "g = e.findall(c)\n",
    "for month, day, year in g:\n",
    "    print(f\"{year}-{month}-{day}\")\n",
    "\n",
    "for i in e.finditer(c):\n",
    "    month, day, year = i.groups()\n",
    "    print(f\"{year}-{month}-{day}\")"
   ]
  },
  {
   "cell_type": "code",
   "execution_count": 51,
   "id": "f4442bb7-201f-47ed-a2b4-b18e034f96ec",
   "metadata": {},
   "outputs": [
    {
     "name": "stdout",
     "output_type": "stream",
     "text": [
      "zhanghui 520 1218\n",
      "Today is 2023-11-27. PyCon starts 2023-3-13.\n",
      "Today is 2023-11-27. PyCon starts 2023-3-13.\n",
      "Today is 27-27-27. PyCon starts 13-13-13.\n",
      "Today is 27 Nov 2023. PyCon starts 13 Mar 2023.\n",
      "['Jan', 'Feb', 'Mar', 'Apr', 'May', 'Jun', 'Jul', 'Aug', 'Sep', 'Oct', 'Nov', 'Dec']\n",
      "Today is 2023-11-27. PyCon starts 2023-3-13.\n",
      "2\n"
     ]
    }
   ],
   "source": [
    "# 2.5 \n",
    "a = \"zhanghui 520 1314\"\n",
    "b = a.replace('1314', '1218')\n",
    "print(b)\n",
    "\n",
    "import re\n",
    "c = 'Today is 11/27/2023. PyCon starts 3/13/2023.'\n",
    "d = re.sub(r'(\\d+)/(\\d+)/(\\d+)', r'\\3-\\1-\\2', c)\n",
    "print(d)\n",
    "\n",
    "e = re.compile(r'(\\d+)/(\\d+)/(\\d+)')\n",
    "f = e.sub(r'\\3-\\1-\\2', c)\n",
    "g = e.sub(r'\\2-\\2-\\2', c)\n",
    "print(f)\n",
    "print(g)\n",
    "\n",
    "from calendar import month_abbr\n",
    "\n",
    "def change_date(m):\n",
    "    mon_name = month_abbr[int(m.group(1))]\n",
    "    return f'{m.group(2)} {mon_name} {m.group(3)}'\n",
    "\n",
    "h = e.sub(change_date, c)\n",
    "print(h)\n",
    "\n",
    "i = [month_abbr[i] for i in range(1, 13)]\n",
    "print(i)\n",
    "\n",
    "j, k = e.subn(r'\\3-\\1-\\2', c)\n",
    "print(j)\n",
    "print(k)"
   ]
  },
  {
   "cell_type": "code",
   "execution_count": 56,
   "id": "b247c5ae-e7b0-40b5-a49a-9782c707c9b8",
   "metadata": {},
   "outputs": [
    {
     "name": "stdout",
     "output_type": "stream",
     "text": [
      "['PYTHON', 'python', 'Python']\n",
      "UPPER PYTHON, lower python, Mixed Python\n",
      "UPPER snake, lower snake, Mixed snake\n",
      "UPPER SNAKE, lower snake, Mixed Snake\n"
     ]
    }
   ],
   "source": [
    "# 2.6\n",
    "a = \"UPPER PYTHON, lower python, Mixed Python\"\n",
    "b = re.findall('python', a, flags=re.IGNORECASE)\n",
    "print(b)\n",
    "print(a)\n",
    "c = re.sub('python', 'snake', a, flags=re.IGNORECASE)\n",
    "print(c)\n",
    "\n",
    "def matchcase(word):\n",
    "    def replace(m):\n",
    "        text = m.group()\n",
    "        if text.isupper():\n",
    "            return word.upper()\n",
    "        elif text.islower():\n",
    "            return word.lower()\n",
    "        elif text[0].isupper():\n",
    "            return word.capitalize()\n",
    "        else:\n",
    "            return word\n",
    "    return replace\n",
    "\n",
    "d = re.sub('python', matchcase('snake'), a, flags=re.IGNORECASE)\n",
    "print(d)"
   ]
  },
  {
   "cell_type": "code",
   "execution_count": 59,
   "id": "209ee3d2-9cd6-4988-96e3-d24eff022d56",
   "metadata": {},
   "outputs": [
    {
     "name": "stdout",
     "output_type": "stream",
     "text": [
      "['ok, go']\n",
      "['ok, go\", I am the hero for future \"I will be']\n",
      "['ok, go', 'I will be']\n"
     ]
    }
   ],
   "source": [
    "# 2.7\n",
    "import re\n",
    "a = 'Hello, World \"ok, go\", I am the hero for future \"I will be\" that.'\n",
    "b = 'Hello, World \"ok, go\", I am the hero for future.'\n",
    "bp = re.compile(r'\\\"(.*)\\\"')\n",
    "c = bp.findall(b)\n",
    "print(c)\n",
    "d = bp.findall(a)\n",
    "print(d)\n",
    "\n",
    "bp2 = re.compile(r'\\\"(.*?)\\\"')\n",
    "e = bp2.findall(a)\n",
    "print(e)"
   ]
  },
  {
   "cell_type": "code",
   "execution_count": 5,
   "id": "dd6dd472-e0c3-428c-a0aa-15a114934a2c",
   "metadata": {},
   "outputs": [
    {
     "name": "stdout",
     "output_type": "stream",
     "text": [
      "[' this is a comment ']\n",
      "[]\n",
      "[' this is a \\n          multiline commnet ']\n",
      "[' this is a \\n          multiline commnet ']\n"
     ]
    }
   ],
   "source": [
    "# 2.8\n",
    "import re\n",
    "a = '/* this is a comment */'\n",
    "b = '''/* this is a \n",
    "          multiline commnet */\n",
    "    '''\n",
    "\n",
    "comment = re.compile(r'/\\*(.*?)\\*/')\n",
    "c = comment.findall(a)\n",
    "print(c)\n",
    "d = comment.findall(b)\n",
    "print(d)\n",
    "\n",
    "comment2 = re.compile(r'/\\*((?:.|\\n)*?)\\*/')\n",
    "e = comment2.findall(b)\n",
    "print(e)\n",
    "\n",
    "comment3 = re.compile(r'/\\*(.*?)\\*/', re.DOTALL)\n",
    "f = comment3.findall(b)\n",
    "print(f)"
   ]
  },
  {
   "cell_type": "code",
   "execution_count": 19,
   "id": "3f9886e7-2877-409f-b01e-2f75d07158a3",
   "metadata": {},
   "outputs": [
    {
     "name": "stdout",
     "output_type": "stream",
     "text": [
      "Spicy Jalapeño\n",
      "Spicy Jalapeño\n",
      "s1 = Spicy Jalapeño, s2 = Spicy Jalapeño, s1 == s2 ? False, ascii(s1) = 'Spicy Jalape\\xf1o', ascii(s2) = 'Spicy Jalapen\\u0303o'\n",
      "t1 = Spicy Jalapeño, t2 = Spicy Jalapeño, t1 == t2 ? True, ascii = 'Spicy Jalape\\xf1o'\n",
      "'Spicy Jalape\\xf1o'\n",
      "t3 = Spicy Jalapeño, t4 = Spicy Jalapeño, t3 == t4 ? True, ascii = 'Spicy Jalapen\\u0303o'\n",
      "s3 = ﬁ, NFD = ﬁ, NFKD = fi, NFKC = fi \n",
      "Spicy Jalapeno\n"
     ]
    }
   ],
   "source": [
    "# 2.9\n",
    "s1 = 'Spicy Jalape\\u00f1o'\n",
    "s2 = 'Spicy Jalapen\\u0303o'\n",
    "print(s1)\n",
    "print(s2)\n",
    "\n",
    "import unicodedata\n",
    "\n",
    "t1 = unicodedata.normalize('NFC', s1)\n",
    "t2 = unicodedata.normalize('NFC', s2)\n",
    "print(f\"s1 = {s1}, s2 = {s2}, s1 == s2 ? {s1 == s2}, ascii(s1) = {ascii(s1)}, ascii(s2) = {ascii(s2)}\")\n",
    "print(f\"t1 = {t1}, t2 = {t2}, t1 == t2 ? {t1 == t2}, ascii = {ascii(t1)}\")\n",
    "print(ascii(t1))\n",
    "\n",
    "t3 = unicodedata.normalize('NFD', s1)\n",
    "t4 = unicodedata.normalize('NFD', s2)\n",
    "print(f\"t3 = {t3}, t4 = {t4}, t3 == t4 ? {t3 == t4}, ascii = {ascii(t3)}\")\n",
    "\n",
    "s3 = '\\ufb01'\n",
    "print(f's3 = {s3}, NFD = {unicodedata.normalize(\"NFD\", s3)}, NFKD = {unicodedata.normalize(\"NFKD\", s3)}, NFKC = {unicodedata.normalize(\"NFKC\", s3)} ')\n",
    "\n",
    "s4 = ''.join(c for c in t3 if not unicodedata.combining(c))\n",
    "print(s4)"
   ]
  },
  {
   "cell_type": "code",
   "execution_count": 23,
   "id": "60a0568c-e3e5-4d8a-9a9b-a3a450a6c7e3",
   "metadata": {},
   "outputs": [
    {
     "name": "stdout",
     "output_type": "stream",
     "text": [
      "١\n",
      "123\n"
     ]
    }
   ],
   "source": [
    "import  re\n",
    "\n",
    "num = re.compile('\\d+')\n",
    "\n",
    "a = num.match('\\u0661 \\u0662 \\u0663')\n",
    "b = num.match('123')\n",
    "print(a.group())\n",
    "print(b.group())"
   ]
  },
  {
   "cell_type": "code",
   "execution_count": 28,
   "id": "95da35cc-ac2e-461a-988b-8a23801ae516",
   "metadata": {},
   "outputs": [
    {
     "name": "stdout",
     "output_type": "stream",
     "text": [
      "hello\n",
      "hello,worldok\n",
      "hello, world ok \n"
     ]
    }
   ],
   "source": [
    "# 2.11\n",
    "a = \"hello++===--\"\n",
    "b = a.rstrip('-+=')\n",
    "print(b)\n",
    "\n",
    "c = \"hello,   world      ok \"\n",
    "import re\n",
    "\n",
    "d = c.replace(' ', '')\n",
    "print(d)\n",
    "e = re.sub('\\s+', ' ', c)\n",
    "print(e)"
   ]
  },
  {
   "cell_type": "code",
   "execution_count": 51,
   "id": "6de07ce4-64c6-4da0-aad3-1cb77a4737cf",
   "metadata": {},
   "outputs": [
    {
     "name": "stdout",
     "output_type": "stream",
     "text": [
      "  wξyz1jkl\f",
      "©mn2pqrσtuv\n",
      "\n",
      "Δ εfgh1jkl ©mn2pqrσtuv  wξyz\n",
      "\n",
      "  wξyz1jkl\f",
      "©mn2pqrσtuv\n",
      "\n",
      "  wξyz1jkl\f",
      "©mn2pqrσtuv\n",
      "\n",
      "660\n",
      "١٢٣\n",
      "123\n",
      "aibngiui ieaili\n"
     ]
    }
   ],
   "source": [
    "a = \"Δ\\tεfgh1jkl\\f©mn2pqrσtuv\\r  wξyz\\n\"\n",
    "print(a)\n",
    "\n",
    "remap = {\n",
    "    ord('\\t'): ' ',\n",
    "    ord('\\f'): ' ',\n",
    "    ord('\\r'): None\n",
    "}\n",
    "b = a.translate(remap)\n",
    "print(b)\n",
    "\n",
    "import unicodedata\n",
    "import sys\n",
    "\n",
    "cmb_chrs = dict.fromkeys(c for c in range(sys.maxunicode) if unicodedata.combining(chr(c)))\n",
    "c = unicodedata.normalize('NFD', a)\n",
    "print(c)\n",
    "d = c.translate(cmb_chrs)\n",
    "print(d)\n",
    "\n",
    "digit_map = { c: ord('0') + unicodedata.digit(chr(c))\n",
    "             for c in range(sys.maxunicode)\n",
    "            if unicodedata.category(chr(c)) =='Nd'}\n",
    "print(len(digit_map))\n",
    "e = '\\u0661\\u0662\\u0663'\n",
    "\n",
    "print(e)\n",
    "f = e.translate(digit_map)\n",
    "print(f)\n",
    "\n",
    "# translate 应用\n",
    "gmap = {\n",
    "    'a': 'b',\n",
    "    'h': 'i',\n",
    "    'z': 'a'\n",
    "}\n",
    "g = 'zhanghui hezili'\n",
    "h = g.translate(str.maketrans(gmap)_\n",
    "print(h)"
   ]
  },
  {
   "cell_type": "code",
   "execution_count": 17,
   "id": "099a0476-7cfa-4240-97a3-c071aef6dd77",
   "metadata": {},
   "outputs": [
    {
     "name": "stdout",
     "output_type": "stream",
     "text": [
      "hello world          ok\n",
      "         hello world ok\n",
      "    hello world      ok\n",
      "hello world********* ok\n",
      "*********hello world ok\n",
      "****hello world***** ok\n",
      "         hello world\n",
      "hello world         \n",
      "    hello world     \n",
      "=========hello world\n"
     ]
    }
   ],
   "source": [
    "# 2.13\n",
    "a = 'hello world'\n",
    "print(a.ljust(20), 'ok')\n",
    "print(a.rjust(20), 'ok')\n",
    "print(a.center(20), 'ok')\n",
    "\n",
    "print(a.ljust(20, '*'), 'ok')\n",
    "print(a.rjust(20, '*'), 'ok')\n",
    "print(a.center(20, '*'), 'ok')\n",
    "\n",
    "b = format(a, '>20')\n",
    "print(b)\n",
    "c = format(a, '<20')\n",
    "print(c)\n",
    "d = format(a, '^20')\n",
    "print(d)\n",
    "\n",
    "e = format(a, '=>20s')\n",
    "print(e)\n",
    "f = format(a, '*^20s')\n",
    "print(f)\n",
    "\n",
    "g = '{:*>10s} {:*^10s}'.format('Hello', 'World')\n",
    "print(g)\n",
    "h = 1.2345\n",
    "i = format(h, '*>10')\n",
    "j = format(h, '*^10.2f')\n",
    "print(i, j)"
   ]
  },
  {
   "cell_type": "code",
   "execution_count": 24,
   "id": "876876af-39b3-4690-a476-3f7159949d76",
   "metadata": {},
   "outputs": [
    {
     "name": "stdout",
     "output_type": "stream",
     "text": [
      "The quick brown fox jumps over the lazy dog\n",
      "The,quick,brown,fox,jumps,over,the,lazy,dog\n",
      "Is Chicago Not Chicago?\n",
      "Is Chicago Not Chicago?\n",
      "hello world\n",
      "Is Chicago Not Chicago?\n"
     ]
    }
   ],
   "source": [
    "# 2.14\n",
    "a = ['The', 'quick', 'brown', 'fox', 'jumps', 'over', 'the', 'lazy', 'dog']\n",
    "b = ' '.join(a)\n",
    "print(b)\n",
    "c = ','.join(a)\n",
    "print(c)\n",
    "d = 'Is Chicago'\n",
    "e = 'Not Chicago?'\n",
    "f = d + ' ' + e\n",
    "print(f)\n",
    "\n",
    "g = \"{} {}\".format(d, e)\n",
    "print(g)\n",
    "\n",
    "h = 'hello ' 'world'\n",
    "print(h)\n",
    "\n",
    "i = f\"{d} {e}\"\n",
    "print(i)"
   ]
  },
  {
   "cell_type": "code",
   "execution_count": 35,
   "id": "91b8db68-9b1d-42bb-8dc9-17418c7f23a8",
   "metadata": {},
   "outputs": [
    {
     "name": "stdout",
     "output_type": "stream",
     "text": [
      "Guido has 27 messages.\n",
      "Guido has {num} messages.\n",
      "Hello Guido\n",
      "You have {num} messages.\n",
      "You have 27 messages.\n"
     ]
    }
   ],
   "source": [
    "# 2.15\n",
    "a = '{name} has {n} messages.'\n",
    "name = 'Guido'\n",
    "n = 27\n",
    "\n",
    "b = a.format_map(vars())\n",
    "print(b)\n",
    "\n",
    "class Info:\n",
    "    def __init__(self, name, n):\n",
    "        self.name = name\n",
    "        self.n = n\n",
    "\n",
    "class safesub(dict):\n",
    "    def __missing__(self, key):\n",
    "        return '{' + key + '}'\n",
    "\n",
    "\n",
    "e = '{name} has {num} messages.'\n",
    "c = Info('Guido', 38)\n",
    "\n",
    "d = e.format_map(safesub(vars()))\n",
    "print(d)\n",
    "\n",
    "\n",
    "import sys\n",
    "\n",
    "def sub(text):\n",
    "    return text.format_map(safesub(sys._getframe(1).f_locals))\n",
    "\n",
    "print(sub('Hello {name}'))\n",
    "print(sub('You have {num} messages.'))\n",
    "print(sub('You have {n} messages.'))"
   ]
  },
  {
   "cell_type": "code",
   "execution_count": 43,
   "id": "24f93bcd-1bcb-44e1-acd3-36f6f5b0e53d",
   "metadata": {},
   "outputs": [
    {
     "name": "stdout",
     "output_type": "stream",
     "text": [
      "They haven’t. Deep and deadly minefields, extensive fortifications and Russian air power have combined to largely block significant advances by Ukrainian troops. Instead, the campaign risks descending into a stalemate with the potential to burn through lives and equipment without a major shift in momentum.\n",
      "********************************************************************************\n",
      "They haven’t. Deep and deadly minefields, extensive fortifications and\n",
      "Russian air power have combined to largely block significant advances\n",
      "by Ukrainian troops. Instead, the campaign risks descending into a\n",
      "stalemate with the potential to burn through lives and equipment\n",
      "without a major shift in momentum.\n",
      "********************************************************************************\n",
      " They haven’t. Deep and deadly\n",
      "minefields, extensive fortifications and\n",
      "Russian air power have combined to\n",
      "largely block significant advances by\n",
      "Ukrainian troops. Instead, the campaign\n",
      "risks descending into a stalemate with\n",
      "the potential to burn through lives and\n",
      "equipment without a major shift in\n",
      "momentum.\n",
      "********************************************************************************\n",
      "They haven’t. Deep and deadly\n",
      " minefields, extensive fortifications\n",
      " and Russian air power have combined to\n",
      " largely block significant advances by\n",
      " Ukrainian troops. Instead, the campaign\n",
      " risks descending into a stalemate with\n",
      " the potential to burn through lives and\n",
      " equipment without a major shift in\n",
      " momentum.\n"
     ]
    },
    {
     "ename": "OSError",
     "evalue": "[Errno 25] Inappropriate ioctl for device",
     "output_type": "error",
     "traceback": [
      "\u001b[0;31m---------------------------------------------------------------------------\u001b[0m",
      "\u001b[0;31mOSError\u001b[0m                                   Traceback (most recent call last)",
      "Cell \u001b[0;32mIn[43], line 17\u001b[0m\n\u001b[1;32m     14\u001b[0m \u001b[38;5;28mprint\u001b[39m(d)\n\u001b[1;32m     16\u001b[0m \u001b[38;5;28;01mimport\u001b[39;00m \u001b[38;5;21;01mos\u001b[39;00m\n\u001b[0;32m---> 17\u001b[0m \u001b[38;5;28mprint\u001b[39m(\u001b[43mos\u001b[49m\u001b[38;5;241;43m.\u001b[39;49m\u001b[43mget_terminal_size\u001b[49m\u001b[43m(\u001b[49m\u001b[43m)\u001b[49m\u001b[38;5;241m.\u001b[39mcolumns)\n",
      "\u001b[0;31mOSError\u001b[0m: [Errno 25] Inappropriate ioctl for device"
     ]
    }
   ],
   "source": [
    "# 2.16\n",
    "a = 'They haven’t. Deep and deadly minefields, extensive fortifications and Russian air power have combined to largely block significant advances by Ukrainian troops. Instead, the campaign risks descending into a stalemate with the potential to burn through lives and equipment without a major shift in momentum.'\n",
    "print(a)\n",
    "print('*'* 80)\n",
    "import textwrap\n",
    "\n",
    "b = textwrap.fill(a, 70)\n",
    "print(b)\n",
    "c = textwrap.fill(a, 40, initial_indent=' ')\n",
    "d = textwrap.fill(a, 40, subsequent_indent=' ')\n",
    "print('*' * 80)\n",
    "print(c)\n",
    "print('*' * 80)\n",
    "print(d)\n",
    "\n",
    "import os\n",
    "print(os.get_terminal_size().columns)"
   ]
  },
  {
   "cell_type": "code",
   "execution_count": 55,
   "id": "14d484b0-9678-4b4f-b9f7-57bac0da3efb",
   "metadata": {},
   "outputs": [
    {
     "name": "stdout",
     "output_type": "stream",
     "text": [
      "<meta http-equiv=\"X-UA-Compatible\" content=\"IE=edge,chrome=1\"><meta content=\"always\" name=\"referrer\">\n",
      "&lt;meta http-equiv=&quot;X-UA-Compatible&quot; content=&quot;IE=edge,chrome=1&quot;&gt;&lt;meta content=&quot;always&quot; name=&quot;referrer&quot;&gt;\n",
      "&lt;meta http-equiv=\"X-UA-Compatible\" content=\"IE=edge,chrome=1\"&gt;&lt;meta content=\"always\" name=\"referrer\"&gt;\n",
      "b'Pyth&#225;n'\n",
      "Pythán\n",
      "Prompt is > > >\n"
     ]
    }
   ],
   "source": [
    "# 2.17\n",
    "a = '<meta http-equiv=\"X-UA-Compatible\" content=\"IE=edge,chrome=1\"><meta content=\"always\" name=\"referrer\">'\n",
    "import html\n",
    "\n",
    "b = html.escape(a)\n",
    "c = html.escape(a, quote=False)\n",
    "print(b)\n",
    "print(c)\n",
    "\n",
    "d = 'Pythán'\n",
    "e = d.encode('ascii', errors='xmlcharrefreplace')\n",
    "print(e)\n",
    "\n",
    "g = html.unescape(d)\n",
    "print(g)\n",
    "\n",
    "\n",
    "from xml.sax.saxutils import unescape\n",
    "t = 'Prompt is &gt; &gt; &gt;'\n",
    "unescape(t)"
   ]
  },
  {
   "cell_type": "code",
   "execution_count": 56,
   "id": "264f24ac-ef3c-4b44-a6d8-1cead3b429f9",
   "metadata": {},
   "outputs": [
    {
     "name": "stdout",
     "output_type": "stream",
     "text": [
      "NAME foo\n",
      "WS  \n",
      "EQ =\n",
      "WS   \n",
      "NUM 54\n",
      "Token(type='NAME', value='foo')\n",
      "Token(type='EQ', value='=')\n",
      "Token(type='NUM', value='40')\n",
      "Token(type='PLUS', value='+')\n",
      "Token(type='NUM', value='320')\n",
      "Token(type='TIMES', value='*')\n",
      "Token(type='NUM', value='20')\n",
      "re.compile('(?P<LT><)|(?P<LE><=)|(?P<EQ>=)')\n",
      "Token(type='LT', value='<')\n",
      "Token(type='EQ', value='=')\n",
      "re.compile('(?P<LE><=)|(?P<LT><)|(?P<EQ>=)')\n",
      "Token(type='LE', value='<=')\n",
      "Token(type='EQ', value='=')\n",
      "Token(type='LT', value='<')\n",
      "re.compile('(?P<PRINT>print)|(?P<NAME>[a-zA-Z_][a-zA-Z_0-9]*)')\n",
      "Token(type='PRINT', value='print')\n",
      "Token(type='NAME', value='hello')\n"
     ]
    }
   ],
   "source": [
    "# 2.18 分词处理\n",
    "a = 'foo = 23 + 33 * 10'\n",
    "import re\n",
    "NAME = r'(?P<NAME>[a-zA-Z_][a-zA-Z_0-9]*)'\n",
    "EQ   = r'(?P<EQ>=)'\n",
    "NUM  = r'(?P<NUM>\\d+)'\n",
    "PLUS = r'(?P<PLUS>\\+)'\n",
    "TIMES= r'(?P<TIMES>\\*)'\n",
    "WS   = r'(?P<WS>\\s+)'\n",
    "\n",
    "master_pat = re.compile('|'.join([NAME, EQ, NUM, PLUS, TIMES, WS]))\n",
    "scanner = master_pat.scanner(\"foo =  54\")\n",
    "\n",
    "b = scanner.match()\n",
    "while b:\n",
    "    print(b.lastgroup, b.group())\n",
    "    b = scanner.match()\n",
    "\n",
    "\n",
    "from collections import namedtuple\n",
    "\n",
    "Token =  namedtuple('Token', ['type', 'value'])\n",
    "def generate_tokens(pat, text):\n",
    "    scanner = pat.scanner(text)\n",
    "    for m in iter(scanner.match, None):\n",
    "        yield Token(m.lastgroup, m.group())\n",
    "\n",
    "for tok in generate_tokens(master_pat, 'foo = 40 + 320 * 20'):\n",
    "    if tok.type != 'WS':\n",
    "        print(tok)\n",
    "\n",
    "LT = r'(?P<LT><)'\n",
    "LE = r'(?P<LE><=)'\n",
    "EQ = r'(?P<EQ>=)'\n",
    "\n",
    "leq = re.compile('|'.join([LT, LE, EQ]))\n",
    "print(leq)\n",
    "for tok in generate_tokens(leq, '<='):\n",
    "    print(tok)\n",
    "\n",
    "leq2 = re.compile('|'.join([LE, LT, EQ]))\n",
    "print(leq2)\n",
    "for tok in generate_tokens(leq2, '<==<'):\n",
    "    print(tok)\n",
    "\n",
    "PRINT = r'(?P<PRINT>print)'\n",
    "NAME  = r'(?P<NAME>[a-zA-Z_][a-zA-Z_0-9]*)'\n",
    "pit   = re.compile('|'.join([PRINT, NAME, ]))\n",
    "print(pit)\n",
    "for tok in generate_tokens(pit, 'printhello'):\n",
    "    print(tok)"
   ]
  },
  {
   "cell_type": "code",
   "execution_count": 77,
   "id": "81b2eefe-50b4-43eb-954e-10c6a4476455",
   "metadata": {},
   "outputs": [
    {
     "name": "stdout",
     "output_type": "stream",
     "text": [
      "2\n",
      "+\n",
      "42\n",
      "('+', 2, 3)\n",
      "('+', 2, ('*', 3, ('-', 5, 3)))\n"
     ]
    }
   ],
   "source": [
    "# 2.19 递归下降的表达式计算器\n",
    "import re\n",
    "import collections\n",
    "\n",
    "# token 表\n",
    "NUM   = r'(?P<NUM>\\d+)'\n",
    "PLUS  = r'(?P<PLUS>\\+)'\n",
    "MINUS = r'(?P<MINUS>-)'\n",
    "TIMES = r'(?P<TIMES>\\*)'\n",
    "DIVIDE= r'(?P<DIVIDE>/)'\n",
    "LPAREN= r'(?P<LPAREN>\\()'\n",
    "RPAREN= r'(?P<RPAREN>\\))'\n",
    "WS    = r'(?P<WS>\\s+)'\n",
    "\n",
    "master_pat = re.compile('|'.join([NUM, PLUS, MINUS, TIMES, DIVIDE, LPAREN, RPAREN, WS]))\n",
    "\n",
    "Token = collections.namedtuple(\"Token\", ['type', 'value'])\n",
    "\n",
    "# Tokenizer\n",
    "def generate_tokens(text):\n",
    "    scanner = master_pat.scanner(text)\n",
    "    for m in iter(scanner.match, None):\n",
    "        tok = Token(m.lastgroup, m.group())\n",
    "        if tok.type != 'WS':\n",
    "            yield tok\n",
    "\n",
    "# parser\n",
    "class ExpreesionEvaluator:\n",
    "    def parse(self, text):\n",
    "        self.tokens = generate_tokens(text)\n",
    "        self.tok    = None\n",
    "        self.nexttok= None\n",
    "        self._advance()\n",
    "        return self.expr()\n",
    "\n",
    "    def _advance(self):\n",
    "        self.tok, self.nexttok = self.nexttok, next(self.tokens, None)\n",
    "\n",
    "    # 检查下一个 token\n",
    "    def _accept(self, toktype):\n",
    "        if self.nexttok and self.nexttok.type == toktype:\n",
    "            self._advance()\n",
    "            return True\n",
    "        else:\n",
    "            return False\n",
    "\n",
    "    def _expect(self, toktype):\n",
    "        if not self._accept(toktype):\n",
    "            raise SyntaxError(f\"Expected {toktype}\")\n",
    "\n",
    "    # 语法规则\n",
    "    def expr(self):\n",
    "        \"expression ::= term {('+'|'-') term }*\"\n",
    "        exprval = self.term()\n",
    "        while self._accept('PLUS') or self._accept('MINUS'):\n",
    "            op = self.tok.type\n",
    "            right = self.term()\n",
    "            if op == 'PLUS':\n",
    "                exprval += right\n",
    "            elif op == 'MINUS':\n",
    "                exprval -= right\n",
    "        return exprval\n",
    "\n",
    "    def term(self):\n",
    "        \"term ::= factor {('*' | '/') factor}*\"\n",
    "        termval = self.factor()\n",
    "        while self._accept('TIMES') or self._accept('DIVIDE'):\n",
    "            op = self.tok.type\n",
    "            right = self.factor()\n",
    "            if op == 'TIMES':\n",
    "                termval *= right\n",
    "            elif op == 'DIVIDE':\n",
    "                termval /= right\n",
    "        return termval\n",
    "\n",
    "    def factor(self):\n",
    "        \"factor ::= NUM | (expr)\"\n",
    "        if self._accept(\"NUM\"):\n",
    "            return int(self.tok.value)\n",
    "        elif self._accept('LPAREN'):\n",
    "            exprval = self.expr()\n",
    "            self._expect('RPAREN')\n",
    "            return exprval\n",
    "        else:\n",
    "            raise SyntaxError(\"Expectd NUMBER or LPAREN\")\n",
    "\n",
    "\n",
    "e = ExpreesionEvaluator()\n",
    "print(e.parse('2'))\n",
    "print('+')\n",
    "print(e.parse('2 +  5 * 8'))\n",
    "\n",
    "class ExpressionTreeBuilder(ExpreesionEvaluator):\n",
    "    def expr(self):\n",
    "        \"expression ::= term {('+'|'-') term}\"\n",
    "        exprval = self.term()\n",
    "        while self._accept('PLUS') or self._accept('MINUS'):\n",
    "            op = self.tok.type\n",
    "            right = self.term()\n",
    "            if op == 'PLUS':\n",
    "                exprval = ('+', exprval, right)\n",
    "            elif op == 'MINUS':\n",
    "                exprval = ('-', exprval, right)\n",
    "            return exprval\n",
    "\n",
    "    def term(self):\n",
    "        \"expression ::= factor { ('*' | '\\') facotr}\"\n",
    "        termval = self.factor()\n",
    "        while self._accept('TIMES') or self._accept('DIVIDE'):\n",
    "            op = self.tok.type\n",
    "            right = self.factor()\n",
    "            if op == 'TIMES':\n",
    "                termval = (\"*\", termval, right)\n",
    "            elif op == 'DIVIDE':\n",
    "                termval = (\"/\", termval, right)\n",
    "        return termval\n",
    "\n",
    "    def factor(self):\n",
    "        \"factor ::= NUM | (expr)\"\n",
    "        if self._accept('NUM'):\n",
    "            return int(self.tok.value)\n",
    "        elif self._accept(\"LPAREN\"):\n",
    "            exprval = self.expr()\n",
    "            self._expect(\"RPAREN\")\n",
    "            return exprval\n",
    "        else:\n",
    "            raise SyntaxError(\"Expected NUMBER or LPAREN\")\n",
    "\n",
    "\n",
    "e = ExpressionTreeBuilder()\n",
    "print(e.parse('2 + 3'))\n",
    "print(e.parse('2 + 3 *( 5 - 3 )'))"
   ]
  },
  {
   "cell_type": "code",
   "execution_count": 3,
   "id": "787b6e92-a358-4200-bffe-d600366a8ad4",
   "metadata": {},
   "outputs": [
    {
     "ename": "TypeError",
     "evalue": "<module '__main__'> is a built-in module",
     "output_type": "error",
     "traceback": [
      "\u001b[0;31m---------------------------------------------------------------------------\u001b[0m",
      "\u001b[0;31mTypeError\u001b[0m                                 Traceback (most recent call last)",
      "Cell \u001b[0;32mIn[3], line 26\u001b[0m\n\u001b[1;32m     23\u001b[0m     t\u001b[38;5;241m.\u001b[39mskip(\u001b[38;5;241m1\u001b[39m)\n\u001b[1;32m     25\u001b[0m \u001b[38;5;66;03m# build lexer\u001b[39;00m\n\u001b[0;32m---> 26\u001b[0m lexer \u001b[38;5;241m=\u001b[39m \u001b[43mlex\u001b[49m\u001b[43m(\u001b[49m\u001b[43m)\u001b[49m\n\u001b[1;32m     28\u001b[0m \u001b[38;5;28;01mdef\u001b[39;00m \u001b[38;5;21mp_expr\u001b[39m(p):\n\u001b[1;32m     29\u001b[0m \u001b[38;5;250m    \u001b[39m\u001b[38;5;124;03m'''\u001b[39;00m\n\u001b[1;32m     30\u001b[0m \u001b[38;5;124;03m    expr : expr PLUS term\u001b[39;00m\n\u001b[1;32m     31\u001b[0m \u001b[38;5;124;03m    |  expr MINUS term\u001b[39;00m\n\u001b[1;32m     32\u001b[0m \u001b[38;5;124;03m    '''\u001b[39;00m\n",
      "File \u001b[0;32m/app/projects/pycookbook/venv/lib/python3.11/site-packages/ply/lex.py:908\u001b[0m, in \u001b[0;36mlex\u001b[0;34m(module, object, debug, optimize, lextab, reflags, nowarn, outputdir, debuglog, errorlog)\u001b[0m\n\u001b[1;32m    906\u001b[0m linfo\u001b[38;5;241m.\u001b[39mget_all()\n\u001b[1;32m    907\u001b[0m \u001b[38;5;28;01mif\u001b[39;00m \u001b[38;5;129;01mnot\u001b[39;00m optimize:\n\u001b[0;32m--> 908\u001b[0m     \u001b[38;5;28;01mif\u001b[39;00m \u001b[43mlinfo\u001b[49m\u001b[38;5;241;43m.\u001b[39;49m\u001b[43mvalidate_all\u001b[49m\u001b[43m(\u001b[49m\u001b[43m)\u001b[49m:\n\u001b[1;32m    909\u001b[0m         \u001b[38;5;28;01mraise\u001b[39;00m \u001b[38;5;167;01mSyntaxError\u001b[39;00m(\u001b[38;5;124m\"\u001b[39m\u001b[38;5;124mCan\u001b[39m\u001b[38;5;124m'\u001b[39m\u001b[38;5;124mt build lexer\u001b[39m\u001b[38;5;124m\"\u001b[39m)\n\u001b[1;32m    911\u001b[0m \u001b[38;5;28;01mif\u001b[39;00m optimize \u001b[38;5;129;01mand\u001b[39;00m lextab:\n",
      "File \u001b[0;32m/app/projects/pycookbook/venv/lib/python3.11/site-packages/ply/lex.py:579\u001b[0m, in \u001b[0;36mLexerReflect.validate_all\u001b[0;34m(self)\u001b[0m\n\u001b[1;32m    577\u001b[0m \u001b[38;5;28mself\u001b[39m\u001b[38;5;241m.\u001b[39mvalidate_tokens()\n\u001b[1;32m    578\u001b[0m \u001b[38;5;28mself\u001b[39m\u001b[38;5;241m.\u001b[39mvalidate_literals()\n\u001b[0;32m--> 579\u001b[0m \u001b[38;5;28;43mself\u001b[39;49m\u001b[38;5;241;43m.\u001b[39;49m\u001b[43mvalidate_rules\u001b[49m\u001b[43m(\u001b[49m\u001b[43m)\u001b[49m\n\u001b[1;32m    580\u001b[0m \u001b[38;5;28;01mreturn\u001b[39;00m \u001b[38;5;28mself\u001b[39m\u001b[38;5;241m.\u001b[39merror\n",
      "File \u001b[0;32m/app/projects/pycookbook/venv/lib/python3.11/site-packages/ply/lex.py:821\u001b[0m, in \u001b[0;36mLexerReflect.validate_rules\u001b[0;34m(self)\u001b[0m\n\u001b[1;32m    818\u001b[0m             \u001b[38;5;28mself\u001b[39m\u001b[38;5;241m.\u001b[39merror \u001b[38;5;241m=\u001b[39m \u001b[38;5;28;01mTrue\u001b[39;00m\n\u001b[1;32m    820\u001b[0m \u001b[38;5;28;01mfor\u001b[39;00m module \u001b[38;5;129;01min\u001b[39;00m \u001b[38;5;28mself\u001b[39m\u001b[38;5;241m.\u001b[39mmodules:\n\u001b[0;32m--> 821\u001b[0m     \u001b[38;5;28;43mself\u001b[39;49m\u001b[38;5;241;43m.\u001b[39;49m\u001b[43mvalidate_module\u001b[49m\u001b[43m(\u001b[49m\u001b[43mmodule\u001b[49m\u001b[43m)\u001b[49m\n",
      "File \u001b[0;32m/app/projects/pycookbook/venv/lib/python3.11/site-packages/ply/lex.py:833\u001b[0m, in \u001b[0;36mLexerReflect.validate_module\u001b[0;34m(self, module)\u001b[0m\n\u001b[1;32m    831\u001b[0m \u001b[38;5;28;01mdef\u001b[39;00m \u001b[38;5;21mvalidate_module\u001b[39m(\u001b[38;5;28mself\u001b[39m, module):\n\u001b[1;32m    832\u001b[0m     \u001b[38;5;28;01mtry\u001b[39;00m:\n\u001b[0;32m--> 833\u001b[0m         lines, linen \u001b[38;5;241m=\u001b[39m \u001b[43minspect\u001b[49m\u001b[38;5;241;43m.\u001b[39;49m\u001b[43mgetsourcelines\u001b[49m\u001b[43m(\u001b[49m\u001b[43mmodule\u001b[49m\u001b[43m)\u001b[49m\n\u001b[1;32m    834\u001b[0m     \u001b[38;5;28;01mexcept\u001b[39;00m \u001b[38;5;167;01mIOError\u001b[39;00m:\n\u001b[1;32m    835\u001b[0m         \u001b[38;5;28;01mreturn\u001b[39;00m\n",
      "File \u001b[0;32m/usr/lib/python3.11/inspect.py:1244\u001b[0m, in \u001b[0;36mgetsourcelines\u001b[0;34m(object)\u001b[0m\n\u001b[1;32m   1236\u001b[0m \u001b[38;5;250m\u001b[39m\u001b[38;5;124;03m\"\"\"Return a list of source lines and starting line number for an object.\u001b[39;00m\n\u001b[1;32m   1237\u001b[0m \n\u001b[1;32m   1238\u001b[0m \u001b[38;5;124;03mThe argument may be a module, class, method, function, traceback, frame,\u001b[39;00m\n\u001b[0;32m   (...)\u001b[0m\n\u001b[1;32m   1241\u001b[0m \u001b[38;5;124;03moriginal source file the first line of code was found.  An OSError is\u001b[39;00m\n\u001b[1;32m   1242\u001b[0m \u001b[38;5;124;03mraised if the source code cannot be retrieved.\"\"\"\u001b[39;00m\n\u001b[1;32m   1243\u001b[0m \u001b[38;5;28mobject\u001b[39m \u001b[38;5;241m=\u001b[39m unwrap(\u001b[38;5;28mobject\u001b[39m)\n\u001b[0;32m-> 1244\u001b[0m lines, lnum \u001b[38;5;241m=\u001b[39m \u001b[43mfindsource\u001b[49m\u001b[43m(\u001b[49m\u001b[38;5;28;43mobject\u001b[39;49m\u001b[43m)\u001b[49m\n\u001b[1;32m   1246\u001b[0m \u001b[38;5;28;01mif\u001b[39;00m istraceback(\u001b[38;5;28mobject\u001b[39m):\n\u001b[1;32m   1247\u001b[0m     \u001b[38;5;28mobject\u001b[39m \u001b[38;5;241m=\u001b[39m \u001b[38;5;28mobject\u001b[39m\u001b[38;5;241m.\u001b[39mtb_frame\n",
      "File \u001b[0;32m/usr/lib/python3.11/inspect.py:1063\u001b[0m, in \u001b[0;36mfindsource\u001b[0;34m(object)\u001b[0m\n\u001b[1;32m   1055\u001b[0m \u001b[38;5;28;01mdef\u001b[39;00m \u001b[38;5;21mfindsource\u001b[39m(\u001b[38;5;28mobject\u001b[39m):\n\u001b[1;32m   1056\u001b[0m \u001b[38;5;250m    \u001b[39m\u001b[38;5;124;03m\"\"\"Return the entire source file and starting line number for an object.\u001b[39;00m\n\u001b[1;32m   1057\u001b[0m \n\u001b[1;32m   1058\u001b[0m \u001b[38;5;124;03m    The argument may be a module, class, method, function, traceback, frame,\u001b[39;00m\n\u001b[1;32m   1059\u001b[0m \u001b[38;5;124;03m    or code object.  The source code is returned as a list of all the lines\u001b[39;00m\n\u001b[1;32m   1060\u001b[0m \u001b[38;5;124;03m    in the file and the line number indexes a line in that list.  An OSError\u001b[39;00m\n\u001b[1;32m   1061\u001b[0m \u001b[38;5;124;03m    is raised if the source code cannot be retrieved.\"\"\"\u001b[39;00m\n\u001b[0;32m-> 1063\u001b[0m     file \u001b[38;5;241m=\u001b[39m \u001b[43mgetsourcefile\u001b[49m\u001b[43m(\u001b[49m\u001b[38;5;28;43mobject\u001b[39;49m\u001b[43m)\u001b[49m\n\u001b[1;32m   1064\u001b[0m     \u001b[38;5;28;01mif\u001b[39;00m file:\n\u001b[1;32m   1065\u001b[0m         \u001b[38;5;66;03m# Invalidate cache if needed.\u001b[39;00m\n\u001b[1;32m   1066\u001b[0m         linecache\u001b[38;5;241m.\u001b[39mcheckcache(file)\n",
      "File \u001b[0;32m/usr/lib/python3.11/inspect.py:940\u001b[0m, in \u001b[0;36mgetsourcefile\u001b[0;34m(object)\u001b[0m\n\u001b[1;32m    936\u001b[0m \u001b[38;5;28;01mdef\u001b[39;00m \u001b[38;5;21mgetsourcefile\u001b[39m(\u001b[38;5;28mobject\u001b[39m):\n\u001b[1;32m    937\u001b[0m \u001b[38;5;250m    \u001b[39m\u001b[38;5;124;03m\"\"\"Return the filename that can be used to locate an object's source.\u001b[39;00m\n\u001b[1;32m    938\u001b[0m \u001b[38;5;124;03m    Return None if no way can be identified to get the source.\u001b[39;00m\n\u001b[1;32m    939\u001b[0m \u001b[38;5;124;03m    \"\"\"\u001b[39;00m\n\u001b[0;32m--> 940\u001b[0m     filename \u001b[38;5;241m=\u001b[39m \u001b[43mgetfile\u001b[49m\u001b[43m(\u001b[49m\u001b[38;5;28;43mobject\u001b[39;49m\u001b[43m)\u001b[49m\n\u001b[1;32m    941\u001b[0m     all_bytecode_suffixes \u001b[38;5;241m=\u001b[39m importlib\u001b[38;5;241m.\u001b[39mmachinery\u001b[38;5;241m.\u001b[39mDEBUG_BYTECODE_SUFFIXES[:]\n\u001b[1;32m    942\u001b[0m     all_bytecode_suffixes \u001b[38;5;241m+\u001b[39m\u001b[38;5;241m=\u001b[39m importlib\u001b[38;5;241m.\u001b[39mmachinery\u001b[38;5;241m.\u001b[39mOPTIMIZED_BYTECODE_SUFFIXES[:]\n",
      "File \u001b[0;32m/usr/lib/python3.11/inspect.py:901\u001b[0m, in \u001b[0;36mgetfile\u001b[0;34m(object)\u001b[0m\n\u001b[1;32m    899\u001b[0m     \u001b[38;5;28;01mif\u001b[39;00m \u001b[38;5;28mgetattr\u001b[39m(\u001b[38;5;28mobject\u001b[39m, \u001b[38;5;124m'\u001b[39m\u001b[38;5;124m__file__\u001b[39m\u001b[38;5;124m'\u001b[39m, \u001b[38;5;28;01mNone\u001b[39;00m):\n\u001b[1;32m    900\u001b[0m         \u001b[38;5;28;01mreturn\u001b[39;00m \u001b[38;5;28mobject\u001b[39m\u001b[38;5;241m.\u001b[39m\u001b[38;5;18m__file__\u001b[39m\n\u001b[0;32m--> 901\u001b[0m     \u001b[38;5;28;01mraise\u001b[39;00m \u001b[38;5;167;01mTypeError\u001b[39;00m(\u001b[38;5;124m'\u001b[39m\u001b[38;5;132;01m{!r}\u001b[39;00m\u001b[38;5;124m is a built-in module\u001b[39m\u001b[38;5;124m'\u001b[39m\u001b[38;5;241m.\u001b[39mformat(\u001b[38;5;28mobject\u001b[39m))\n\u001b[1;32m    902\u001b[0m \u001b[38;5;28;01mif\u001b[39;00m isclass(\u001b[38;5;28mobject\u001b[39m):\n\u001b[1;32m    903\u001b[0m     \u001b[38;5;28;01mif\u001b[39;00m \u001b[38;5;28mhasattr\u001b[39m(\u001b[38;5;28mobject\u001b[39m, \u001b[38;5;124m'\u001b[39m\u001b[38;5;124m__module__\u001b[39m\u001b[38;5;124m'\u001b[39m):\n",
      "\u001b[0;31mTypeError\u001b[0m: <module '__main__'> is a built-in module"
     ]
    }
   ],
   "source": [
    "# !pip install ply\n",
    "from ply.lex import lex\n",
    "from ply.yacc import yacc\n",
    "\n",
    "# Token list\n",
    "tokens = ['NUM', 'PLUS', 'MINUS', 'TIMES', 'DIVIDE', 'LPAREN', 'RPAREN',]\n",
    "t_ignore = ' \\t\\n'\n",
    "t_PLUS = r'\\+'\n",
    "t_MINUS = r'-'\n",
    "t_TIMES = r'\\*'\n",
    "t_DIVIDE = r'/'\n",
    "t_LPAREN = r'\\('\n",
    "t_RPAREN = r'\\)'\n",
    "\n",
    "def t_NUM(t):\n",
    "    r'\\d+'\n",
    "    t.value = int(t.value)\n",
    "    return t\n",
    "\n",
    "# error handling\n",
    "def t_error(t):\n",
    "    print(f\"Bad character: {t.value[0]!r}\")\n",
    "    t.skip(1)\n",
    "\n",
    "# build lexer\n",
    "lexer = lex()\n",
    "\n",
    "def p_expr(p):\n",
    "    '''\n",
    "    expr : expr PLUS term\n",
    "    |  expr MINUS term\n",
    "    '''\n",
    "    if p[2] == '+':\n",
    "        p[0] = p[1] + p[3]\n",
    "    elif p[2] == '0':\n",
    "        p[0] == p[1] - p[3]\n",
    "\n",
    "def p_expr_term(p):\n",
    "    '''\n",
    "    expr : term\n",
    "    '''\n",
    "    p[0] = p[1]\n",
    "\n",
    "\n",
    "def p_term(p):\n",
    "    '''\n",
    "    term : term TIMES factor\n",
    "         | term DIVIDE factor\n",
    "    '''\n",
    "    match p[2]:\n",
    "        case '*':\n",
    "            p[0] = p[1] * p[3]\n",
    "        case '/':\n",
    "            p[0] = p[1] / p[3]\n",
    "\n",
    "def p_term_factor(p):\n",
    "    '''\n",
    "    term : factor\n",
    "    '''\n",
    "    p[0] = p[1]\n",
    "\n",
    "def p_factor(p):\n",
    "    '''\n",
    "    factor : NUM\n",
    "    '''\n",
    "    p[0] = p[1]\n",
    "\n",
    "def p_factor_group(p):\n",
    "    '''\n",
    "    factor : LPAREN expr RPAREN\n",
    "    '''\n",
    "    p[0] = p[2]\n",
    "\n",
    "def p_error(p):\n",
    "    print(\"Syntax Error\")\n",
    "\n",
    "\n",
    "parser = yacc()\n",
    "\n",
    "print(parser.parse('2'))"
   ]
  },
  {
   "cell_type": "code",
   "execution_count": 13,
   "id": "96a402c0-c57c-41c9-979e-a59f16dbd3b9",
   "metadata": {},
   "outputs": [
    {
     "name": "stdout",
     "output_type": "stream",
     "text": [
      "b'hello'\n",
      "True\n",
      "[b'hello', b' world']\n",
      "b'Hello OK, world'\n",
      "bytearray(b'Hello')\n",
      "[b'FOO', b'BAR', b' SPAM']\n",
      "H\n",
      "104\n",
      "hello, world\n",
      "b'ACME              100     490.10'\n"
     ]
    }
   ],
   "source": [
    "# 2.20 字节串\n",
    "a = b'hello, world'\n",
    "b = a[:5]\n",
    "print(b)\n",
    "c = a.startswith(b'hello')\n",
    "print(c)\n",
    "d = a.split(b',')\n",
    "print(d)\n",
    "e = a.replace(b'hello', b'Hello OK')\n",
    "print(e)\n",
    "\n",
    "# 字节数组，也可以执行上述操作\n",
    "f = bytearray(b'Hello World')\n",
    "g = f[:5]\n",
    "print(g)\n",
    "\n",
    "# 分割\n",
    "import re\n",
    "h = b\"FOO:BAR, SPAM\"\n",
    "i = re.split(b'[:,]', h)\n",
    "print(i)\n",
    "\n",
    "# 区别\n",
    "j = 'Hello world'\n",
    "print(j[0])\n",
    "print(a[0])\n",
    "k = a.decode('ascii')\n",
    "print(k)\n",
    "\n",
    "l = '{:10s} {:10d} {:10.2f}'.format('ACME', 100, 490.1).encode('ascii')\n",
    "print(l)"
   ]
  },
  {
   "cell_type": "code",
   "execution_count": 86,
   "id": "3e3052de-01cc-4dd8-bc0a-b9b72a22e1c9",
   "metadata": {},
   "outputs": [
    {
     "name": "stdout",
     "output_type": "stream",
     "text": [
      "Python 3.11.3\n"
     ]
    }
   ],
   "source": [
    "!python --version"
   ]
  }
 ],
 "metadata": {
  "kernelspec": {
   "display_name": "Python 3 (ipykernel)",
   "language": "python",
   "name": "python3"
  },
  "language_info": {
   "codemirror_mode": {
    "name": "ipython",
    "version": 3
   },
   "file_extension": ".py",
   "mimetype": "text/x-python",
   "name": "python",
   "nbconvert_exporter": "python",
   "pygments_lexer": "ipython3",
   "version": "3.11.3"
  }
 },
 "nbformat": 4,
 "nbformat_minor": 5
}
