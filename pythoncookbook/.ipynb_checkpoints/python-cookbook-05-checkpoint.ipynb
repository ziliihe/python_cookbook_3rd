{
 "cells": [
  {
   "cell_type": "code",
   "execution_count": 3,
   "id": "26017b8d-a8b1-42a6-af45-26054b3a5c96",
   "metadata": {},
   "outputs": [
    {
     "name": "stdout",
     "output_type": "stream",
     "text": [
      "python 3212313\n",
      "he zili\n",
      "qiu qiu\n",
      "zili\n",
      "hui hui\n",
      "xiao qiu python\n",
      "abdpython \n",
      "casdlfajd23 python\n",
      "1 python 3212313\n",
      "\n",
      "2 he zili\n",
      "\n",
      "3 qiu qiu\n",
      "\n",
      "4 zili\n",
      "\n",
      "5 hui hui\n",
      "\n",
      "6 xiao qiu python\n",
      "\n",
      "7 abdpython \n",
      "\n",
      "8 casdlfajd23 python\n"
     ]
    }
   ],
   "source": [
    "# 5.1\n",
    "with open('somefile.txt', 'rt') as f:\n",
    "    data = f.read()\n",
    "\n",
    "print(data)\n",
    "\n",
    "with open('somefile.txt', 'rt') as f:\n",
    "    for line_no, line in enumerate(f, 1):\n",
    "        print(line_no, line)\n",
    "\n",
    "with open('somefile.txt', 'at') as f:\n",
    "    f.write(\"hello world\\n\")\n",
    "    f.write(\"Ok, Go\\n\")\n",
    "\n",
    "# 控制流程离开 with 语句块之后，文件自动关闭\n",
    "\n",
    "a = open('somefile.txt', 'rt', encoding='ascii', errors='ignore')"
   ]
  },
  {
   "cell_type": "code",
   "execution_count": 5,
   "id": "d7c7e5a7-9860-4fc3-94be-011bc850b6c4",
   "metadata": {},
   "outputs": [],
   "source": [
    "# 5.2\n",
    "with open('somefile.txt', 'at') as f:\n",
    "    print(\"\\n zhang xiao hui\\n\", file=f)"
   ]
  },
  {
   "cell_type": "code",
   "execution_count": 17,
   "id": "4b975be4-093c-449f-923b-ed3a78e82c11",
   "metadata": {},
   "outputs": [
    {
     "name": "stdout",
     "output_type": "stream",
     "text": [
      "AcCEM | 429 | [1234, 4]<<<\n",
      "0 1 4 9 16 \n",
      "1,23,ok\n",
      "1,23,ok\n"
     ]
    }
   ],
   "source": [
    "# 5.3\n",
    "print('AcCEM', 429, [1234, 4], sep=' | ', end='<<<\\n')\n",
    "\n",
    "for i in range(5):\n",
    "    print(i * i, end=' ')\n",
    "\n",
    "print('')\n",
    "# join 只能处理字符串\n",
    "a = (1, 23, 'ok')\n",
    "print(','.join(str(x) for x in a))\n",
    "\n",
    "print(*a, sep=',')"
   ]
  },
  {
   "cell_type": "code",
   "execution_count": 28,
   "id": "27abf97c-1660-4c7f-9f70-adc01e877244",
   "metadata": {},
   "outputs": [
    {
     "name": "stdout",
     "output_type": "stream",
     "text": [
      "40670\n",
      "array('i', [1, 2, 3, 4, 0])\n"
     ]
    }
   ],
   "source": [
    "# 5.4 read and write binary\n",
    "with open('resource/cat.jpg', 'rb') as f:\n",
    "    data = f.read()\n",
    "\n",
    "print(len(data))\n",
    "\n",
    "with open('resource/w.bin', 'wb') as f:\n",
    "    text = 'hello, world'\n",
    "    f.write(text.encode('utf-8'))\n",
    "\n",
    "# 数组，C 结构体的对象，可以直接用来进行读写操作，不需要将其转换为 byte 对象\n",
    "import array\n",
    "a = array.array('i', [1, 2, 3, 4])\n",
    "with open('resource/a.bin', 'wb') as f:\n",
    "    f.write(a)\n",
    "\n",
    "# can apply to every object that implement a \" buffer interface\"\n",
    "b = array.array('i', [0, 0, 0, 0, 0])\n",
    "with open('resource/a.bin', 'rb') as f:\n",
    "    f.readinto(b)\n",
    "print(b)"
   ]
  },
  {
   "cell_type": "code",
   "execution_count": 32,
   "id": "710a490f-8adb-40ea-a3a6-0627fc44b960",
   "metadata": {},
   "outputs": [
    {
     "name": "stdout",
     "output_type": "stream",
     "text": [
      "file exists\n",
      "\n"
     ]
    }
   ],
   "source": [
    "# 5.5 \n",
    "with open(\"resource/b.txt\", 'wt') as f:\n",
    "    f.write('Hello\\n')\n",
    "\n",
    "# # if file exists, here will fail\n",
    "# with open('resource/b.txt', 'xt') as f:\n",
    "#     f.write('World\\n')\n",
    "\n",
    "import os\n",
    "\n",
    "if not os.path.exists('resource/b.txt'):\n",
    "    with open(\"resource/b.txt\", 'wt') as f:\n",
    "        f.write('Hello\\n')\n",
    "else:\n",
    "    print(\"file exists\\n\")"
   ]
  },
  {
   "cell_type": "code",
   "execution_count": 42,
   "id": "90b8e19a-cae5-4e17-9b8c-5b0a0bd6f099",
   "metadata": {},
   "outputs": [
    {
     "name": "stdout",
     "output_type": "stream",
     "text": [
      "12\n",
      "hello world\n",
      "This is a test String\n",
      "\n",
      "Hello\n",
      "World\n",
      "\n",
      "b'binary data'\n"
     ]
    }
   ],
   "source": [
    "# 5.6 string for io\n",
    "## simulate a ordinary file\n",
    "import io\n",
    "\n",
    "a = io.StringIO()\n",
    "b = a.write(\"hello world\\n\")\n",
    "print(b)\n",
    "print('This is a test String', file=a)\n",
    "print(a.getvalue())\n",
    "\n",
    "c = io.StringIO('Hello\\nWorld\\n')\n",
    "# print(c.read(5))\n",
    "print(c.read())\n",
    "\n",
    "# binary\n",
    "d = io.BytesIO()\n",
    "d.write(b'binary data')\n",
    "print(d.getvalue())\n",
    "# StringIO  BytesIO 没有真正的文件描述符来对应，没法工作在需要一个真正的系统级文件例如文件，管道或者套接字的代码环境中"
   ]
  },
  {
   "cell_type": "code",
   "execution_count": 47,
   "id": "586b3255-7eaa-47dc-b33e-b330262e5e32",
   "metadata": {},
   "outputs": [
    {
     "name": "stdout",
     "output_type": "stream",
     "text": [
      "25761\n",
      "25761\n",
      "hello world\n"
     ]
    }
   ],
   "source": [
    "# 5.7 读写压缩的数据文件\n",
    "\n",
    "# read\n",
    "import gzip\n",
    "with gzip.open('resource/jupyter-lab-error.log.gz', 'rt') as f:\n",
    "    a = f.read()\n",
    "print(len(a))\n",
    "\n",
    "import bz2\n",
    "with bz2.open('resource/jupyter-lab-error.log.bz2', 'rt') as f:\n",
    "    b = f.read()\n",
    "print(len(b))\n",
    "\n",
    "# write\n",
    "with gzip.open('resource/c.gz', 'wt') as f:\n",
    "    f.write(\"hello world\")\n",
    "\n",
    "# compresslevel default = 9, most high\n",
    "# low level grade means better performance but low compress ratio\n",
    "with bz2.open('resource/d.bz2', 'wt', compresslevel=4) as f:\n",
    "    f.write('hello world')\n",
    "\n",
    "# a file open by binary mode first\n",
    "# then apply it in gzip.open or bz2.open\n",
    "import gzip\n",
    "f = open('resource/c.gz', 'rb')\n",
    "with gzip.open(f, 'rt') as g:\n",
    "    c = g.read()\n",
    "\n",
    "print(c)"
   ]
  },
  {
   "cell_type": "code",
   "execution_count": 50,
   "id": "d63dc14c-2ceb-4c90-a98b-84dbb9ff8886",
   "metadata": {
    "scrolled": true
   },
   "outputs": [
    {
     "name": "stdout",
     "output_type": "stream",
     "text": [
      "U.S. consumer confidence continued to im\n",
      "prove in July, with many Americans expre\n",
      "ssing more optimism about the future, th\n",
      "e Conference Board said this week. Consu\n",
      "mers worried less about a recession.\n",
      "Sma\n",
      "ll businesses are feeling less downbeat \n",
      "about the economy. In July, 37% of small\n",
      " businesses said they believe the econom\n",
      "y will worsen in the next 12 months, the\n",
      " best recording since February 2022, acc\n",
      "ording to Vistage Worldwide, a business-\n",
      "coaching and peer-advisory firm.\n"
     ]
    }
   ],
   "source": [
    "# 5.8 对固定大小的记录进行迭代\n",
    "from functools import partial\n",
    "RECORD_SIZE = 40\n",
    "with open('resource/e.txt', 'rb') as f:\n",
    "    records = iter(partial(f.read, RECORD_SIZE), b'')\n",
    "    for r in records:\n",
    "        print(r.decode('utf-8'))\n",
    "\n",
    "# binary read by fixed size\n",
    "# oridinary read text by line"
   ]
  },
  {
   "cell_type": "code",
   "execution_count": 59,
   "id": "de8a4554-584c-4944-b6cd-900b1aa5c0a3",
   "metadata": {},
   "outputs": [
    {
     "name": "stdout",
     "output_type": "stream",
     "text": [
      "bytearray(b'Hello, world')\n",
      "bytearray(b'Hello, world')\n",
      "[119, 111, 114, 108, 100]\n",
      "bytearray(b'Hello, WORLD')\n"
     ]
    }
   ],
   "source": [
    "# 5.9 将二进制数据读取到可边缓冲区中\n",
    "# 中间不经过任何拷贝环节\n",
    "import os.path\n",
    "\n",
    "def read_into_buffer(filename):\n",
    "    buf = bytearray(os.path.getsize(filename))\n",
    "    with open(filename, 'rb') as f:\n",
    "        f.readinto(buf)\n",
    "    return buf\n",
    "\n",
    "with open('resource/f.bin', 'wb') as f:\n",
    "    f.write(b'Hello, world')\n",
    "\n",
    "buf = read_into_buffer('resource/f.bin')\n",
    "print(buf)\n",
    "\n",
    "with open('resource/g.bin', 'wb') as f:\n",
    "    f.write(buf)\n",
    "\n",
    "# readinto 是为已经存在的缓冲区填充内容，而不是分配新的对象，然后将其返回，用它来避免阐释额外的内存分配动作 \n",
    "print(buf)\n",
    "\n",
    "m1 = memoryview(buf)\n",
    "m2 = m1[-5:]\n",
    "print(m2.tolist())\n",
    "m2[:] = b'WORLD'\n",
    "print(buf)\n",
    "\n",
    "# 使用 f.readinto 需要注意，必须总是要检查它的返回值，即实际读取的字节数\n",
    "# 如果字节数小于所提供的缓冲区大小，表示可能数据被截断或遭到了破坏"
   ]
  },
  {
   "cell_type": "code",
   "execution_count": 51,
   "id": "ebb48ad1-3aa0-409d-abdf-7f335417ad91",
   "metadata": {},
   "outputs": [
    {
     "name": "stdout",
     "output_type": "stream",
     "text": [
      "30893\n"
     ]
    }
   ],
   "source": [
    "import os.path\n",
    "\n",
    "print(os.path.getsize('python-cookbook-03.ipynb'))"
   ]
  },
  {
   "cell_type": "code",
   "execution_count": 67,
   "id": "32d4f263-822f-4806-b9a6-0d2f5d59b89a",
   "metadata": {},
   "outputs": [
    {
     "name": "stdout",
     "output_type": "stream",
     "text": [
      "1000000\n",
      "b'\\x00\\x00\\x00\\x00\\x00\\x00\\x00\\x00\\x00\\x00'\n",
      "0\n",
      "b'Hello world'\n"
     ]
    }
   ],
   "source": [
    "# 5.10 对二进制文件做内存映射\n",
    "import os\n",
    "import mmap\n",
    "\n",
    "# mmap.ACCESS_COPY 只在本地修改数据，不将修改数据写回原始文件\n",
    "# mmap.ACCESS_READ 只读\n",
    "def memory_map(filename, access=mmap.ACCESS_WRITE):\n",
    "    size = os.path.getsize(filename)\n",
    "    fd = os.open(filename, os.O_RDWR)\n",
    "    return mmap.mmap(fd, size, access=access)\n",
    "\n",
    "\n",
    "SIZE = 1000000\n",
    "with open('resource/h.data', 'wb') as f:\n",
    "    # 将文件移动到文件末尾的前一个字节\n",
    "    # 有效文件内容范围是0 ~ SIZE - 1\n",
    "    # 这里填充的是全零数据\n",
    "    f.seek(SIZE - 1)\n",
    "    f.write(b'\\x00')\n",
    "\n",
    "\n",
    "m = memory_map('resource/h.data')\n",
    "print(len(m))\n",
    "print(m[0:10])\n",
    "print(m[0])\n",
    "m[0:11] = b'Hello world'\n",
    "m.close()\n",
    "\n",
    "with open('resource/h.data', 'rb') as f:\n",
    "    print(f.read(11))\n",
    "\n",
    "# 上下文管理器是通过实现 __enter__() 和 __exit__() 方法的对象来实现的，它可以使用 with 语句来控制资源的获取和释放。\n",
    "# 在 with 语句中使用上下文管理器时，__enter__() 方法负责获取资源并返回一个表示该资源的对象，__exit__() 方法负责释放资源并处理异常。\n",
    "\n",
    "# 通过 mmap 将文件映射到内存中后，可以随机访问了。\n",
    "\n",
    "# 对某个文件进行内存映射不会导致将整个文件读取到内存中\n",
    "# 文件并不会拷贝到某种内存缓冲区或数组上。\n",
    "# 操作系统只是为文件内容保留一段虚拟内存而已"
   ]
  },
  {
   "cell_type": "code",
   "execution_count": 84,
   "id": "47af113b-81e0-4482-82e3-920deb453cc0",
   "metadata": {},
   "outputs": [
    {
     "name": "stdout",
     "output_type": "stream",
     "text": [
      "python-cookbook-05.ipynb\n",
      "/app/projects/pycookbook/pythoncookbook\n",
      "/tmp/data/python-cookbook-05.ipynb\n",
      "/home/zili/Data/data.csv\n",
      "('/app/projects/pycookbook/pythoncookbook/python-cookbook-05', '.ipynb')\n",
      "/app\n",
      "/app/okgo\n"
     ]
    }
   ],
   "source": [
    "# 5.11 处理路径名\n",
    "import os\n",
    "\n",
    "filepath = '/app/projects/pycookbook/pythoncookbook/python-cookbook-05.ipynb'\n",
    "print(os.path.basename(filepath))\n",
    "print(os.path.dirname(filepath))\n",
    "print(os.path.join('/tmp', 'data', os.path.basename(filepath)))\n",
    "\n",
    "a_path = '~/Data/data.csv'\n",
    "print(os.path.expanduser(a_path))\n",
    "\n",
    "print(os.path.splitext(filepath))\n",
    "\n",
    "from pathlib import Path\n",
    "\n",
    "b_path = Path('/app/bin/').parent\n",
    "print(b_path)\n",
    "c_path = b_path / 'okgo'\n",
    "print(c_path)"
   ]
  },
  {
   "cell_type": "code",
   "execution_count": 91,
   "id": "8dc66db9-1a21-44a1-9c3c-f3472772a858",
   "metadata": {},
   "outputs": [
    {
     "name": "stdout",
     "output_type": "stream",
     "text": [
      "True\n",
      "False\n",
      "True\n",
      "False\n",
      "False\n",
      "True\n",
      "/usr/bin/python3.11\n",
      "/usr/bin/python3.11\n",
      "1665\n",
      "1688009407.8523943\n"
     ]
    }
   ],
   "source": [
    "# 5.12 检查文件是否存在\n",
    "import os\n",
    "\n",
    "print(os.path.exists('/etc/passwd'))\n",
    "print(os.path.exists('/app/service'))\n",
    "\n",
    "print(os.path.isfile('/etc/passwd'))\n",
    "print(os.path.isfile(\"/data/bin\"))\n",
    "\n",
    "print(os.path.isdir('/etc/passwd'))\n",
    "print(os.path.isdir(\"/data/bin\"))\n",
    "\n",
    "print(os.path.realpath('/usr/bin/python'))\n",
    "print(os.path.realpath('/usr/bin/python3.11'))\n",
    "\n",
    "print(os.path.getsize('/etc/passwd'))\n",
    "print(os.path.getmtime('/etc/passwd'))"
   ]
  },
  {
   "cell_type": "code",
   "execution_count": 96,
   "id": "dee5259f-994c-4787-82bd-08f9519a0abb",
   "metadata": {},
   "outputs": [
    {
     "name": "stdout",
     "output_type": "stream",
     "text": [
      "['.ipynb_checkpoints', 'python-cookbook-01.ipynb', 'python-cookbook-04.ipynb', 'parser.out', 'resource', 'parsetab.py', 'python-cookbook-05.ipynb', 'addtions.ipynb', 'python-cookbook-02.ipynb', 'somefile.txt', '__pycache__', 'python-cookbook-03.ipynb', 'chapter-02-parser.py', 'data.json']\n",
      "['python-cookbook-01.ipynb', 'python-cookbook-04.ipynb', 'python-cookbook-05.ipynb', 'addtions.ipynb', 'python-cookbook-02.ipynb', 'python-cookbook-03.ipynb']\n",
      "['./parsetab.py', './chapter-02-parser.py']\n",
      "['parsetab.py', 'chapter-02-parser.py']\n",
      "('python-cookbook-01.ipynb', 37528, 1689856738.180511)\n",
      "('python-cookbook-04.ipynb', 20813, 1690373105.321675)\n",
      "('python-cookbook-05.ipynb', 16546, 1690465173.4838338)\n",
      "('addtions.ipynb', 1521, 1690188237.146971)\n",
      "('python-cookbook-02.ipynb', 46462, 1690202025.3133287)\n",
      "('python-cookbook-03.ipynb', 30893, 1690341389.612455)\n",
      "python-cookbook-01.ipynb 1690341639.5845666 1689856738.180511\n",
      "python-cookbook-04.ipynb 1690373105.3416758 1690373105.321675\n",
      "python-cookbook-05.ipynb 1690465173.5038342 1690465173.4838338\n",
      "addtions.ipynb 1690341639.5845666 1690188237.146971\n",
      "python-cookbook-02.ipynb 1690341639.5845666 1690202025.3133287\n",
      "python-cookbook-03.ipynb 1690431463.2736351 1690341389.612455\n"
     ]
    }
   ],
   "source": [
    "# 5.13 获取目录内容的列表\n",
    "import os\n",
    "pwd_files = os.listdir('.')\n",
    "print(pwd_files)\n",
    "\n",
    "jupyter_files = [name for name in os.listdir('.') if name.endswith('.ipynb')]\n",
    "print(jupyter_files)\n",
    "\n",
    "import glob\n",
    "pyfiles= glob.glob('./*.py')\n",
    "print(pyfiles)\n",
    "\n",
    "from fnmatch import fnmatch\n",
    "\n",
    "pyfiles = [name for name in os.listdir('.') if fnmatch(name, '*.py')]\n",
    "print(pyfiles)\n",
    "\n",
    "# details\n",
    "name_sz_date = [(name, os.path.getsize(name), os.path.getmtime(name)) for name in jupyter_files]\n",
    "for nsd in name_sz_date:\n",
    "    print(nsd)\n",
    "\n",
    "\n",
    "file_metadata = [(name, os.stat(name)) for name in jupyter_files]\n",
    "for name, meta in file_metadata:\n",
    "    print(name, meta.st_atime, meta.st_mtime)"
   ]
  },
  {
   "cell_type": "code",
   "execution_count": 4,
   "id": "357080fe-cf35-4d64-a452-936cefaab531",
   "metadata": {},
   "outputs": [
    {
     "name": "stdout",
     "output_type": "stream",
     "text": [
      "utf-8\n",
      "['jalapeño.txt', 'jupyter-lab-error.log.gz', 'f.bin', 'd', 'jupyter-lab-error.log.bz2', 'h.data', '.ipynb_checkpoints', 'c', 'a.bin', 'cat.jpg', 'c.gz', 'd.bz2', 'w.bin', 'b.txt', 'e.txt', 'g.bin']\n",
      "[b'jalape\\xc3\\xb1o.txt', b'jupyter-lab-error.log.gz', b'f.bin', b'd', b'jupyter-lab-error.log.bz2', b'h.data', b'.ipynb_checkpoints', b'c', b'a.bin', b'cat.jpg', b'c.gz', b'd.bz2', b'w.bin', b'b.txt', b'e.txt', b'g.bin']\n",
      "Spicy!!\n"
     ]
    }
   ],
   "source": [
    "# 5.14 绕过文件编码\n",
    "import sys\n",
    "\n",
    "print(sys.getfilesystemencoding())\n",
    "\n",
    "with open('resource/jalape\\xf1o.txt', 'w') as f:\n",
    "    f.write(\"Spicy!!\")\n",
    "\n",
    "import os\n",
    "print(os.listdir('resource'))\n",
    "print(os.listdir(b'resource'))\n",
    "\n",
    "with open(b'resource/jalape\\xc3\\xb1o.txt') as f:\n",
    "    print(f.read())"
   ]
  },
  {
   "cell_type": "code",
   "execution_count": null,
   "id": "de743f2f-6169-4975-acad-f36bf6244488",
   "metadata": {},
   "outputs": [],
   "source": [
    "# 5.15 打印无法解码的文件名\n",
    "a = list(range(1, 8))\n",
    "print(a)\n",
    "print(a[1:-1])\n",
    "\n",
    "def bad_filename(filename):\n",
    "    return repr(filename)[1:-1]\n",
    "\n",
    "# filename_error.py\n",
    "# b = 'b\\udece4d.txt'\n",
    "\n",
    "# try:\n",
    "#     print(b)\n",
    "# except UnicodeEncodeError:\n",
    "#     print(1)"
   ]
  },
  {
   "cell_type": "code",
   "execution_count": 28,
   "id": "84feb14c-ab2e-496e-b38f-b03dd557f60b",
   "metadata": {},
   "outputs": [
    {
     "name": "stdout",
     "output_type": "stream",
     "text": [
      "<html>\n",
      "<head>\n",
      "\t<script>\n",
      "\t\tlocation.replace(location.href.replace(\"https://\",\"http://\"));\n",
      "\t</script>\n",
      "</head>\n",
      "<body>\n",
      "\t<noscript><meta http-equiv=\"refresh\" content=\"0;url=http://www.baidu.com/\"></noscript>\n",
      "</body>\n",
      "</html>\n",
      "<http.client.HTTPResponse object at 0x7f7382fde170>\n",
      "<Response [200]>\n",
      "UTF-8\n",
      "UTF-8\n",
      "<_io.TextIOWrapper name='resource/b.txt' mode='w' encoding='UTF-8'>\n",
      "<_io.BufferedWriter name='resource/b.txt'>\n",
      "<_io.FileIO name='resource/b.txt' mode='wb' closefd=True>\n"
     ]
    }
   ],
   "source": [
    "# 5.16 打开的文件编码方式\n",
    "import requests\n",
    "import io\n",
    "import urllib.request\n",
    "\n",
    "ret1 = requests.get('https://www.baidu.com')\n",
    "ret2 = urllib.request.urlopen('https://www.baidu.com')\n",
    "\n",
    "f = io.TextIOWrapper(ret2, encoding='utf-8')\n",
    "text = f.read()\n",
    "print(text)\n",
    "print(ret2)\n",
    "print(ret1)\n",
    "\n",
    "\n",
    "import sys\n",
    "print(sys.stdout.encoding)\n",
    "# not support for jupyter lab\n",
    "# sys.stdout = io.TextIOWrapper(sys.stdout.detach(), encoding='latin-1')\n",
    "print(sys.stdout.encoding)\n",
    "\n",
    "\n",
    "f = open('resource/b.txt', 'w')\n",
    "print(f) # 文本处理层， 编码和解码 Unicode\n",
    "print(f.buffer) # 缓冲 IO 层 处理二进制数据\n",
    "print(f.buffer.raw) # 原始文件，代表操作系统底层文件描述符"
   ]
  },
  {
   "cell_type": "code",
   "execution_count": 30,
   "id": "23e9700f-e33d-4841-a7b2-391c32960f5e",
   "metadata": {},
   "outputs": [
    {
     "ename": "AttributeError",
     "evalue": "'OutStream' object has no attribute 'buffer'",
     "output_type": "error",
     "traceback": [
      "\u001b[0;31m---------------------------------------------------------------------------\u001b[0m",
      "\u001b[0;31mAttributeError\u001b[0m                            Traceback (most recent call last)",
      "Cell \u001b[0;32mIn[30], line 4\u001b[0m\n\u001b[1;32m      1\u001b[0m \u001b[38;5;66;03m# 将字节数据写入文本文件\u001b[39;00m\n\u001b[1;32m      2\u001b[0m \u001b[38;5;28;01mimport\u001b[39;00m \u001b[38;5;21;01msys\u001b[39;00m\n\u001b[0;32m----> 4\u001b[0m \u001b[38;5;28mprint\u001b[39m(\u001b[43msys\u001b[49m\u001b[38;5;241;43m.\u001b[39;49m\u001b[43mstdout\u001b[49m\u001b[38;5;241;43m.\u001b[39;49m\u001b[43mbuffer\u001b[49m\u001b[38;5;241m.\u001b[39mwrite(\u001b[38;5;124mb\u001b[39m\u001b[38;5;124m'\u001b[39m\u001b[38;5;124mhello\u001b[39m\u001b[38;5;130;01m\\n\u001b[39;00m\u001b[38;5;124m'\u001b[39m))\n",
      "\u001b[0;31mAttributeError\u001b[0m: 'OutStream' object has no attribute 'buffer'"
     ]
    }
   ],
   "source": [
    "# 5.17 将字节数据写入文本文件\n",
    "import sys\n",
    "\n",
    "print(sys.stdout.buffer.write(b'hello\\n'))\n",
    "\n",
    "# IO 系统是通过不能的层次来构建的，文本文件是通过在缓冲的二进制模式文件之上添加一个 Unicode 编码 / 解码层来构建\n",
    "# buffer 属性简单的指向底层的文件，访问该属性，直接绕过文本编码 / 解码层"
   ]
  },
  {
   "cell_type": "code",
   "execution_count": 32,
   "id": "8464808d-a0e5-446a-99c2-bae6a0487546",
   "metadata": {},
   "outputs": [
    {
     "name": "stdout",
     "output_type": "stream",
     "text": [
      "2023年07月28日22:55:45， hello world\n",
      "\n"
     ]
    }
   ],
   "source": [
    "# 5.18 将已有文件描述符包装为文件对象\n",
    "# 文件描述符是操作系统分配的整数句柄，用来指代某种系统 IO 通道\n",
    "\n",
    "import os\n",
    "\n",
    "fd = os.open(\"resource/i.txt\", os.O_WRONLY | os.O_CREAT)\n",
    "f = open(fd, 'wt')\n",
    "f.write(\"2023年07月28日22:55:45， hello world\\n\")\n",
    "\n",
    "# 高一层级的文件对象被关闭时，底层的文件描述符也会被关闭\n",
    "# 或代之以 f = open(fd, 'wt', closefd=False)\n",
    "f.close\n",
    "\n",
    "with open('resource/i.txt', 'rt') as f:\n",
    "    print(f.read())\n",
    "\n",
    "\n",
    "# unix 对 IO 通道进行封装，统一提供的是文件描述符"
   ]
  },
  {
   "cell_type": "code",
   "execution_count": 48,
   "id": "85ae123b-b935-4891-b91f-2df8db749a43",
   "metadata": {},
   "outputs": [
    {
     "name": "stdout",
     "output_type": "stream",
     "text": [
      "filename is /tmp/tmpoeywn7lu\n",
      "dirname is /tmp/tmpffj7c6rn\n",
      "/tmp/tmp9bh3628w\n",
      "/tmp/tmpc1dnyv_7\n",
      "/tmp\n",
      "/tmp/mytemp-q0o75t0n.log\n"
     ]
    }
   ],
   "source": [
    "# 5.19 创建临时文件和目录\n",
    "from tempfile import TemporaryFile\n",
    "import time\n",
    "\n",
    "with TemporaryFile('w+t') as f:\n",
    "    f.write('Hello World\\n')\n",
    "    f.write('Testing\\n')\n",
    "    f.seek(0)\n",
    "    data = f.read()\n",
    "\n",
    "\n",
    "from tempfile import NamedTemporaryFile\n",
    "\n",
    "with NamedTemporaryFile('w+t', delete=False) as f:\n",
    "    print(f\"filename is {f.name}\")\n",
    "    f.write(\"2023年07月28日23:06:04\\n\")\n",
    "\n",
    "# 临时目录\n",
    "\n",
    "from tempfile import TemporaryDirectory\n",
    "\n",
    "with TemporaryDirectory() as dirname:\n",
    "    print(f\"dirname is {dirname}\")\n",
    "\n",
    "# 低层次\n",
    "import tempfile\n",
    "\n",
    "a = tempfile.mkstemp()\n",
    "with open(a[1], 'w') as f:\n",
    "    f.write(\"2023年07月28日23:10:43\\n\")\n",
    "print(a[1])\n",
    "b = tempfile.mkdtemp()\n",
    "print(b)\n",
    "print(tempfile.gettempdir())\n",
    "\n",
    "c = NamedTemporaryFile(prefix='mytemp-', suffix='.log', dir='/tmp')\n",
    "print(c.name)\n",
    "\n",
    "# tempfile 模块创建的临时文件都是以最安全的方式来进行的"
   ]
  },
  {
   "cell_type": "code",
   "execution_count": 52,
   "id": "45d5b4f0-0675-43ed-993d-98e887e7c13a",
   "metadata": {},
   "outputs": [
    {
     "ename": "SerialException",
     "evalue": "[Errno 13] could not open port /dev/tty2: [Errno 13] Permission denied: '/dev/tty2'",
     "output_type": "error",
     "traceback": [
      "\u001b[0;31m---------------------------------------------------------------------------\u001b[0m",
      "\u001b[0;31mPermissionError\u001b[0m                           Traceback (most recent call last)",
      "File \u001b[0;32m/app/projects/pycookbook/venv/lib/python3.11/site-packages/serial/serialposix.py:322\u001b[0m, in \u001b[0;36mSerial.open\u001b[0;34m(self)\u001b[0m\n\u001b[1;32m    321\u001b[0m \u001b[38;5;28;01mtry\u001b[39;00m:\n\u001b[0;32m--> 322\u001b[0m     \u001b[38;5;28mself\u001b[39m\u001b[38;5;241m.\u001b[39mfd \u001b[38;5;241m=\u001b[39m \u001b[43mos\u001b[49m\u001b[38;5;241;43m.\u001b[39;49m\u001b[43mopen\u001b[49m\u001b[43m(\u001b[49m\u001b[38;5;28;43mself\u001b[39;49m\u001b[38;5;241;43m.\u001b[39;49m\u001b[43mportstr\u001b[49m\u001b[43m,\u001b[49m\u001b[43m \u001b[49m\u001b[43mos\u001b[49m\u001b[38;5;241;43m.\u001b[39;49m\u001b[43mO_RDWR\u001b[49m\u001b[43m \u001b[49m\u001b[38;5;241;43m|\u001b[39;49m\u001b[43m \u001b[49m\u001b[43mos\u001b[49m\u001b[38;5;241;43m.\u001b[39;49m\u001b[43mO_NOCTTY\u001b[49m\u001b[43m \u001b[49m\u001b[38;5;241;43m|\u001b[39;49m\u001b[43m \u001b[49m\u001b[43mos\u001b[49m\u001b[38;5;241;43m.\u001b[39;49m\u001b[43mO_NONBLOCK\u001b[49m\u001b[43m)\u001b[49m\n\u001b[1;32m    323\u001b[0m \u001b[38;5;28;01mexcept\u001b[39;00m \u001b[38;5;167;01mOSError\u001b[39;00m \u001b[38;5;28;01mas\u001b[39;00m msg:\n",
      "\u001b[0;31mPermissionError\u001b[0m: [Errno 13] Permission denied: '/dev/tty2'",
      "\nDuring handling of the above exception, another exception occurred:\n",
      "\u001b[0;31mSerialException\u001b[0m                           Traceback (most recent call last)",
      "Cell \u001b[0;32mIn[52], line 5\u001b[0m\n\u001b[1;32m      1\u001b[0m \u001b[38;5;66;03m# 5.20 同串口进行通信\u001b[39;00m\n\u001b[1;32m      2\u001b[0m \u001b[38;5;66;03m# !pip install pyserial\u001b[39;00m\n\u001b[1;32m      3\u001b[0m \u001b[38;5;28;01mimport\u001b[39;00m \u001b[38;5;21;01mserial\u001b[39;00m\n\u001b[0;32m----> 5\u001b[0m ser \u001b[38;5;241m=\u001b[39m \u001b[43mserial\u001b[49m\u001b[38;5;241;43m.\u001b[39;49m\u001b[43mSerial\u001b[49m\u001b[43m(\u001b[49m\u001b[38;5;124;43m'\u001b[39;49m\u001b[38;5;124;43m/dev/tty2\u001b[39;49m\u001b[38;5;124;43m'\u001b[39;49m\u001b[43m,\u001b[49m\u001b[43m \u001b[49m\u001b[43mbaudrate\u001b[49m\u001b[38;5;241;43m=\u001b[39;49m\u001b[38;5;241;43m9600\u001b[39;49m\u001b[43m,\u001b[49m\u001b[43m \u001b[49m\u001b[43mbytesize\u001b[49m\u001b[38;5;241;43m=\u001b[39;49m\u001b[38;5;241;43m8\u001b[39;49m\u001b[43m,\u001b[49m\u001b[43m \u001b[49m\u001b[43mparity\u001b[49m\u001b[38;5;241;43m=\u001b[39;49m\u001b[38;5;124;43m'\u001b[39;49m\u001b[38;5;124;43mN\u001b[39;49m\u001b[38;5;124;43m'\u001b[39;49m\u001b[43m,\u001b[49m\u001b[43m \u001b[49m\u001b[43mstopbits\u001b[49m\u001b[38;5;241;43m=\u001b[39;49m\u001b[38;5;241;43m1\u001b[39;49m\u001b[43m)\u001b[49m\n\u001b[1;32m      7\u001b[0m \u001b[38;5;28;01mwhile\u001b[39;00m \u001b[38;5;28;01mTrue\u001b[39;00m:\n\u001b[1;32m      8\u001b[0m     data \u001b[38;5;241m=\u001b[39m ser\u001b[38;5;241m.\u001b[39mreadline()\u001b[38;5;241m.\u001b[39mdecode()\u001b[38;5;241m.\u001b[39mstrip()\n",
      "File \u001b[0;32m/app/projects/pycookbook/venv/lib/python3.11/site-packages/serial/serialutil.py:244\u001b[0m, in \u001b[0;36mSerialBase.__init__\u001b[0;34m(self, port, baudrate, bytesize, parity, stopbits, timeout, xonxoff, rtscts, write_timeout, dsrdtr, inter_byte_timeout, exclusive, **kwargs)\u001b[0m\n\u001b[1;32m    241\u001b[0m     \u001b[38;5;28;01mraise\u001b[39;00m \u001b[38;5;167;01mValueError\u001b[39;00m(\u001b[38;5;124m'\u001b[39m\u001b[38;5;124munexpected keyword arguments: \u001b[39m\u001b[38;5;132;01m{!r}\u001b[39;00m\u001b[38;5;124m'\u001b[39m\u001b[38;5;241m.\u001b[39mformat(kwargs))\n\u001b[1;32m    243\u001b[0m \u001b[38;5;28;01mif\u001b[39;00m port \u001b[38;5;129;01mis\u001b[39;00m \u001b[38;5;129;01mnot\u001b[39;00m \u001b[38;5;28;01mNone\u001b[39;00m:\n\u001b[0;32m--> 244\u001b[0m     \u001b[38;5;28;43mself\u001b[39;49m\u001b[38;5;241;43m.\u001b[39;49m\u001b[43mopen\u001b[49m\u001b[43m(\u001b[49m\u001b[43m)\u001b[49m\n",
      "File \u001b[0;32m/app/projects/pycookbook/venv/lib/python3.11/site-packages/serial/serialposix.py:325\u001b[0m, in \u001b[0;36mSerial.open\u001b[0;34m(self)\u001b[0m\n\u001b[1;32m    323\u001b[0m \u001b[38;5;28;01mexcept\u001b[39;00m \u001b[38;5;167;01mOSError\u001b[39;00m \u001b[38;5;28;01mas\u001b[39;00m msg:\n\u001b[1;32m    324\u001b[0m     \u001b[38;5;28mself\u001b[39m\u001b[38;5;241m.\u001b[39mfd \u001b[38;5;241m=\u001b[39m \u001b[38;5;28;01mNone\u001b[39;00m\n\u001b[0;32m--> 325\u001b[0m     \u001b[38;5;28;01mraise\u001b[39;00m SerialException(msg\u001b[38;5;241m.\u001b[39merrno, \u001b[38;5;124m\"\u001b[39m\u001b[38;5;124mcould not open port \u001b[39m\u001b[38;5;132;01m{}\u001b[39;00m\u001b[38;5;124m: \u001b[39m\u001b[38;5;132;01m{}\u001b[39;00m\u001b[38;5;124m\"\u001b[39m\u001b[38;5;241m.\u001b[39mformat(\u001b[38;5;28mself\u001b[39m\u001b[38;5;241m.\u001b[39m_port, msg))\n\u001b[1;32m    326\u001b[0m \u001b[38;5;66;03m#~ fcntl.fcntl(self.fd, fcntl.F_SETFL, 0)  # set blocking\u001b[39;00m\n\u001b[1;32m    328\u001b[0m \u001b[38;5;28mself\u001b[39m\u001b[38;5;241m.\u001b[39mpipe_abort_read_r, \u001b[38;5;28mself\u001b[39m\u001b[38;5;241m.\u001b[39mpipe_abort_read_w \u001b[38;5;241m=\u001b[39m \u001b[38;5;28;01mNone\u001b[39;00m, \u001b[38;5;28;01mNone\u001b[39;00m\n",
      "\u001b[0;31mSerialException\u001b[0m: [Errno 13] could not open port /dev/tty2: [Errno 13] Permission denied: '/dev/tty2'"
     ]
    }
   ],
   "source": [
    "# 5.20 同串口进行通信\n",
    "# !pip install pyserial\n",
    "import serial\n",
    "\n",
    "ser = serial.Serial('/dev/tty2', baudrate=9600, bytesize=8, parity='N', stopbits=1)\n",
    "\n",
    "while True:\n",
    "    data = ser.readline().decode().strip()\n",
    "    if data:\n",
    "        print(data)"
   ]
  },
  {
   "cell_type": "code",
   "execution_count": 58,
   "id": "d80ac6ed-9d90-4004-883a-14b103b6dbdc",
   "metadata": {},
   "outputs": [
    {
     "name": "stdout",
     "output_type": "stream",
     "text": [
      "b'\\x80\\x04\\x95\\x1d\\x00\\x00\\x00\\x00\\x00\\x00\\x00\\x8c\\x192023\\xe5\\xb9\\xb407\\xe6\\x9c\\x8828\\xe6\\x97\\xa523:36:45\\x94.'\n",
      "2023年07月28日23:36:45\n",
      "2023年07月28日23:36:45\n",
      "T-minus 30\n"
     ]
    }
   ],
   "source": [
    "# 5.21 序列化python对象\n",
    "# 序列化为字节流\n",
    "import pickle\n",
    "\n",
    "a = \"2023年07月28日23:36:45\"\n",
    "\n",
    "f = open('resource/j.pkl', 'wb')\n",
    "pickle.dump(a, f)\n",
    "f.close()\n",
    "\n",
    "b = pickle.dumps(a)\n",
    "print(b)\n",
    "\n",
    "f = open('resource/j.pkl', 'rb')\n",
    "c = pickle.load(f)\n",
    "print(c)\n",
    "d = pickle.loads(b)\n",
    "print(d)\n",
    "\n",
    "# 绝对不能读非受信任的数据使用pickle.load()\n",
    "import countdown\n",
    "\n",
    "e = countdown.Countdown(30)\n",
    "\n",
    "# 如果需要移动大量的数组型数据，最好简单低将数据块保存在文件中\n",
    "# 使用更加标准的编码，如 HDF5\n",
    "\n",
    "# pickle 和源代码关联，如果源代码改变，那么存储的数据会失效，且无法读取\n",
    "# 建议使用更加标准的的数据编码， XML  CSV  JSON"
   ]
  }
 ],
 "metadata": {
  "kernelspec": {
   "display_name": "Python 3 (ipykernel)",
   "language": "python",
   "name": "python3"
  },
  "language_info": {
   "codemirror_mode": {
    "name": "ipython",
    "version": 3
   },
   "file_extension": ".py",
   "mimetype": "text/x-python",
   "name": "python",
   "nbconvert_exporter": "python",
   "pygments_lexer": "ipython3",
   "version": "3.11.3"
  }
 },
 "nbformat": 4,
 "nbformat_minor": 5
}
